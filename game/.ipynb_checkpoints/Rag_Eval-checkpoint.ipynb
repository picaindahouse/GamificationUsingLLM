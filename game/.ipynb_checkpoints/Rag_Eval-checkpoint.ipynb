{
 "cells": [
  {
   "cell_type": "markdown",
   "id": "3ac64ae4",
   "metadata": {},
   "source": [
    "## RAG Evaluation\n",
    "\n",
    "Identifying which RAG technique would be best suited for the game. The following RAG techniques will be evaluated:\n",
    "- Basic RAG\n",
    "- Sentence Window Retrieval\n",
    "- Auto-Merging Retrieval\n",
    "\n",
    "RAG will be evaluated on:\n",
    "- Answer Relevance\n",
    "- Context Relevance\n",
    "- Groundedness\n",
    "\n",
    "Test on: Choose 20 slides and test the RAG techniques on the following:\n",
    "- Summary\n",
    "- Discussion\n",
    "- Test"
   ]
  },
  {
   "cell_type": "markdown",
   "id": "4474ddaa",
   "metadata": {},
   "source": [
    "### Rationale Behind Slides Chosen:\n",
    "\n",
    "Alot of content on page: 4, 6, 9, 15, 19, 33, 40, 44, 48, 49, 50, 55  \n",
    "External Source of Content that can help supplement via RAG: 7, 17, 20, 38, 39  \n",
    "Case Studies: 21, 26, 29, 34"
   ]
  },
  {
   "cell_type": "code",
   "execution_count": 8,
   "id": "5a3802cd",
   "metadata": {},
   "outputs": [],
   "source": [
    "# Slides Chosen:\n",
    "slides = [4, 6, 7, 9, 15, 17, 19, 20, 21, 26, 29, 33, 38, 39, 40, 44, 48, 49, 50, 55]"
   ]
  },
  {
   "cell_type": "markdown",
   "id": "ece77b3b",
   "metadata": {},
   "source": [
    "### Three Questions Per Slide"
   ]
  },
  {
   "cell_type": "code",
   "execution_count": 10,
   "id": "7ee621d4",
   "metadata": {},
   "outputs": [],
   "source": [
    "questions = {\n",
    "    4: [],\n",
    "    6: [],\n",
    "    7: [],\n",
    "    9: [],\n",
    "    15: [],\n",
    "    17: [],\n",
    "    19: [],\n",
    "    20: [],\n",
    "    21: [],\n",
    "    26: [],\n",
    "    29: [],\n",
    "    33: [],\n",
    "    38: [],\n",
    "    39: [],\n",
    "    40: [],\n",
    "    44: [],\n",
    "    48: [],\n",
    "    49: [],\n",
    "    50: [],\n",
    "    55: [],\n",
    "}"
   ]
  },
  {
   "cell_type": "markdown",
   "id": "21f68c5d",
   "metadata": {},
   "source": [
    "#### check which, slides have summaries\n",
    "\n",
    "17"
   ]
  },
  {
   "cell_type": "markdown",
   "id": "d87c6cf6",
   "metadata": {},
   "source": [
    "### Create Data for RAG"
   ]
  },
  {
   "cell_type": "code",
   "execution_count": 16,
   "id": "93786cc0",
   "metadata": {},
   "outputs": [],
   "source": [
    "from settings import *\n",
    "\n",
    "# Read in summary of each slide:\n",
    "overall_summary = [slides_summary[page] for page in slides_summary]\n",
    "\n",
    "# Turn into documents for Llama_index    \n",
    "from llama_index import Document\n",
    "\n",
    "documents = [Document(text=slide) for slide in data]\n",
    "\n",
    "### Loading Documents ###\n",
    "\n",
    "# Use llama_index to get a function that reads in our data/file\n",
    "from llama_index import SimpleDirectoryReader\n",
    "\n",
    "additional_documents = SimpleDirectoryReader(input_files=[\"../../Creating_Data/Three_Levels_of_ML_Software.pdf\", # Slides \n",
    "                                                          \"../../Creating_Data/MLOps_Principles.pdf\",            # Slides\n",
    "                                                          \"../../Creating_Data/mlops_overview.pdf\",              # Slides\n",
    "                                                          \"../../Creating_Data/learning_concept_drift.pdf\",      # Slides\n",
    "                                                          \"../../Creating_Data/Diagnose_with_Live_Metrics.pdf\"]  # Slides\n",
    "                                            ).load_data()"
   ]
  },
  {
   "cell_type": "code",
   "execution_count": 11,
   "id": "ba0c5392",
   "metadata": {},
   "outputs": [],
   "source": [
    "# Create data for each slide"
   ]
  },
  {
   "cell_type": "code",
   "execution_count": null,
   "id": "389a3d63",
   "metadata": {},
   "outputs": [],
   "source": []
  },
  {
   "cell_type": "code",
   "execution_count": null,
   "id": "2d6574a0",
   "metadata": {},
   "outputs": [],
   "source": []
  },
  {
   "cell_type": "code",
   "execution_count": 12,
   "id": "f0485f21",
   "metadata": {},
   "outputs": [
    {
     "ename": "SyntaxError",
     "evalue": "invalid syntax (2217184332.py, line 1)",
     "output_type": "error",
     "traceback": [
      "\u001b[1;36m  Cell \u001b[1;32mIn[12], line 1\u001b[1;36m\u001b[0m\n\u001b[1;33m    COMPARE SLIDES TRAINED ON SPECIFIC DATA VS SLIDES WITH ALL DATA\u001b[0m\n\u001b[1;37m            ^\u001b[0m\n\u001b[1;31mSyntaxError\u001b[0m\u001b[1;31m:\u001b[0m invalid syntax\n"
     ]
    }
   ],
   "source": [
    "COMPARE SLIDES TRAINED ON SPECIFIC DATA VS SLIDES WITH ALL DATA"
   ]
  },
  {
   "cell_type": "code",
   "execution_count": null,
   "id": "11da3016",
   "metadata": {},
   "outputs": [],
   "source": []
  }
 ],
 "metadata": {
  "kernelspec": {
   "display_name": "Python 3 (ipykernel)",
   "language": "python",
   "name": "python3"
  },
  "language_info": {
   "codemirror_mode": {
    "name": "ipython",
    "version": 3
   },
   "file_extension": ".py",
   "mimetype": "text/x-python",
   "name": "python",
   "nbconvert_exporter": "python",
   "pygments_lexer": "ipython3",
   "version": "3.11.1"
  }
 },
 "nbformat": 4,
 "nbformat_minor": 5
}
