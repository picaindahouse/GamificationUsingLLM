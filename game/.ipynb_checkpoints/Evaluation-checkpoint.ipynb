{
 "cells": [
  {
   "cell_type": "markdown",
   "id": "e038e4f3",
   "metadata": {},
   "source": [
    "## Evaluation  \n",
    "Compare:\n",
    "- ChatGPT\n",
    "- TinyLlama (Ver 1.0, OpenOrca)\n",
    "- Phi-2\n",
    "- Mistral 7b (3-bit, 4-bit, 5-bit)\n",
    "- Llama 2 7b (3-bit, 4-bit, 5-bit)\n",
    "\n",
    "Evaluate on:\n",
    "- Time taken to run on my laptop (limited computation power)\n",
    "- Quality of Answer (Using LlamaIndex)\n",
    "- Cost (How much it currently costs, and how much would it cost to get computing power that can get the local models to compete with ChatGPT, in terms of at least speed)\n",
    "\n",
    "### Import Files"
   ]
  },
  {
   "cell_type": "code",
   "execution_count": 1,
   "id": "f8b4f94c",
   "metadata": {},
   "outputs": [],
   "source": [
    "from settings import *\n",
    "from llm import LLM\n",
    "import time\n",
    "import numpy as np\n",
    "import pandas as pd"
   ]
  },
  {
   "cell_type": "markdown",
   "id": "1e04c91e",
   "metadata": {},
   "source": [
    "### What do the Models have to do?  \n",
    "The function below will feed the exact same inputs the models would be fed during the Intro + Story + Tutorial + First 3 Slides of the game. Certain sections have been simplified for ease of testing.\n",
    "\n",
    "Standardise inputs to:\n",
    "Tom, Tim, A Spoon Pretending to be a Human, Yes\n",
    "\n",
    "For conversations, will try to get them to stick to asking questions for above answers, but will end it after 3 failed attempts."
   ]
  },
  {
   "cell_type": "code",
   "execution_count": 2,
   "id": "b6adc211",
   "metadata": {},
   "outputs": [],
   "source": [
    "def simulate_game(local, model, story_system, tutorial_system):\n",
    "    conversation = []\n",
    "    \n",
    "    # Start timer\n",
    "    start_time = time.time()\n",
    "    \n",
    "    # Intro -> Ask questions\n",
    "    intro_llm = LLM(introduction_system, local, model)\n",
    "    intro = intro_llm.ask_chatgpt(\"Introduce Yourself\", MAX_TOKENS)\n",
    "    conversation.append([\"Introduction\", intro_llm.message, intro])\n",
    "    print(intro)\n",
    "    \n",
    "    # Pause timer\n",
    "    total_time = time.time() - start_time\n",
    "    answer = input()\n",
    "    \n",
    "    # Restart timer\n",
    "    start_time = time.time()\n",
    "    while answer != 'end':\n",
    "        intro = intro_llm.ask_chatgpt(answer, MAX_TOKENS)\n",
    "        conversation.append([\"Introduction\", intro_llm.message, intro])\n",
    "        print(intro)\n",
    "        \n",
    "        # Pause timer\n",
    "        total_time += time.time() - start_time\n",
    "        answer = input()\n",
    "        \n",
    "        # Restart timer\n",
    "        start_time = time.time()\n",
    "        \n",
    "    # Update story_system\n",
    "    story_system = story_system.replace(\"[persona]\", 'A spoon pretending to be a human')\n",
    "    story_system = story_system.replace(\"[teacher_name]\", 'Tim')\n",
    "    story_system = story_system.replace(\"[player_name]\", 'Tom')\n",
    "    \n",
    "    # Story Naration\n",
    "    story_llm = LLM(story_system, local, model)\n",
    "    create_story = story_llm.ask_chatgpt('Introduce the game to the player', 160)\n",
    "    conversation.append([\"Story\", story_llm.message, create_story])\n",
    "    print(create_story)\n",
    "    create_story = story_llm.ask_chatgpt('Continue', 160)\n",
    "    conversation.append([\"Story\", story_llm.message, create_story])\n",
    "    print(create_story)\n",
    "    create_story = story_llm.ask_chatgpt('Continue', 160)\n",
    "    conversation.append([\"Story\", story_llm.message, create_story])\n",
    "    print(create_story)\n",
    "    \n",
    "    # Update tutorial_system\n",
    "    tutorial_system = tutorial_system.replace(\"[persona]\", 'A spoon pretending to be a human')\n",
    "    tutorial_system = tutorial_system.replace(\"[teacher_name]\", 'Tim')\n",
    "    tutorial_system = tutorial_system.replace(\"[player_name]\", 'Tom')\n",
    "    \n",
    "    # Tutorial\n",
    "    tut_LLM = LLM(tutorial_system, local, model)\n",
    "    tut_control = tut_LLM.ask_chatgpt(control_rules, 60)\n",
    "    conversation.append([\"Tutorial-Control\", tut_LLM.message, tut_control])\n",
    "    print(tut_control)\n",
    "    \n",
    "    tut_LLM = LLM(tutorial_system, local, model)\n",
    "    tut_find_rules = tut_LLM.ask_chatgpt(find_rules, 60)\n",
    "    conversation.append([\"Tutorial-FindRules\", tut_LLM.message, tut_find_rules])\n",
    "    print(tut_find_rules)\n",
    "    \n",
    "    tut_LLM = LLM(tutorial_system, local, model)\n",
    "    tut_found_rules = tut_LLM.ask_chatgpt(found_rules, 60)\n",
    "    conversation.append([\"Tutorial-FoundRules\", tut_LLM.message, tut_found_rules])\n",
    "    print(tut_found_rules)\n",
    "    \n",
    "    # Summarisation System\n",
    "    summary_system = \"You are a game character speaking to the player. Here are the details you should know: Your name is Tim. You are to channel your inner A spoon pretending to be a human. Keep it subtle and let this personality trait flow seamlessly into your response. Players name is Tom.\"\n",
    "    pre_content = \"The user has come across a slide. Please provide the user with a summary of the content that is on said page. This is the content on said page: \"\n",
    "    post_content = \" Remember to subtly bring up your personality trait during your reply.\"\n",
    "    \n",
    "    # Summarise First Slide\n",
    "    summary_LLM = LLM(summary_system, local, model)\n",
    "    page1_summary = summary_LLM.ask_chatgpt(pre_content + slides_summary['1.jpg'] + post_content, 300)\n",
    "    conversation.append([\"Summary-1\", summary_LLM.message, page1_summary])\n",
    "    print(page1_summary)\n",
    "    \n",
    "    # Summarise Second SLide\n",
    "    summary_LLM = LLM(summary_system, local, model)\n",
    "    page2_summary = summary_LLM.ask_chatgpt(pre_content + slides_summary['2.jpg'] + post_content, 300)\n",
    "    conversation.append([\"Summary-2\", summary_LLM.message, page2_summary])\n",
    "    print(page2_summary)\n",
    "    \n",
    "    # Summarise Third Slide\n",
    "    summary_LLM = LLM(summary_system, local, model)\n",
    "    page3_summary = summary_LLM.ask_chatgpt(pre_content + slides_summary['3.jpg'] + post_content, 300)\n",
    "    conversation.append([\"Summary-3\", summary_LLM.message, page3_summary])\n",
    "    print(page3_summary)\n",
    "    \n",
    "    # Third Slide TEST\n",
    "    summary = slides_summary['3.jpg'].lower()\n",
    "    test_system = \"You are a testing Tom on the following topic: [\" + summary + \"] You will do this by continuously asking the player questions. If the answer is correct inform the player how many questions they have gotten right, then proceed to the next question. If the answer is wrong, explain the mistake to the player. Once the player answers 3 questions correctly just reply with 'pass123' and end the test. You are to ensure that you strictly follow the topic I gave when checking the answers for questions.\"\n",
    "    test_llm = LLM(test_system, local, model)\n",
    "    question = test_llm.ask_chatgpt(\"Please ask the first question.\", 120)\n",
    "    conversation.append([\"Test\", test_llm.message, question])\n",
    "    print(question)\n",
    "    \n",
    "    # Pause timer\n",
    "    total_time = time.time() - start_time\n",
    "    answer = input()\n",
    "    \n",
    "    # Restart timer\n",
    "    start_time = time.time()\n",
    "    while answer != \"end\":\n",
    "        question = test_llm.ask_chatgpt(answer, 120, 0.3)\n",
    "        conversation.append([\"Test\", test_llm.message, question])\n",
    "        print(question)\n",
    "        \n",
    "        # Pause timer\n",
    "        total_time += time.time() - start_time\n",
    "        answer = input()\n",
    "        \n",
    "        # Restart timer\n",
    "        start_time = time.time()\n",
    "    \n",
    "    return total_time + time.time() - start_time, conversation\n",
    "    "
   ]
  },
  {
   "cell_type": "markdown",
   "id": "df8bab05",
   "metadata": {},
   "source": [
    "### Quality of Answer Evaluation\n",
    "\n",
    "Evaluate using Trulens + ChatGPT 3.5 on the following criterias:  \n",
    "- Prompt response relevance: Best for measuring the relationship of the final answer to the user inputed question.  \n",
    "- Groundedness: Used to attempt to check if an answer is grounded in its supplied contexts on a scale from 1 to 10. The information overlap or entailment between source and response is then measured, choosing the highest score between sources and then averaged and scaled from 0 to 1."
   ]
  },
  {
   "cell_type": "code",
   "execution_count": 3,
   "id": "8ea782b2",
   "metadata": {},
   "outputs": [],
   "source": [
    "# If running by default --> need to use Open AI API Key, thus withdrawing said key here\n",
    "import os\n",
    "from dotenv import load_dotenv\n",
    "\n",
    "### Loading OpenAI ###\n",
    "load_dotenv()\n",
    "client = os.environ.get(\"OPENAI_API_KEY\")\n",
    "\n",
    "from llama_index.llms import OpenAI\n",
    "\n",
    "llm = OpenAI(model=\"gpt-3.5-turbo\", temperature=0.1)"
   ]
  },
  {
   "cell_type": "code",
   "execution_count": 4,
   "id": "ec696a1b",
   "metadata": {},
   "outputs": [
    {
     "name": "stdout",
     "output_type": "stream",
     "text": [
      "✅ In Answer Relevance, input prompt will be set to __record__.main_input or `Select.RecordInput` .\n",
      "✅ In Answer Relevance, input response will be set to __record__.main_output or `Select.RecordOutput` .\n",
      "✅ In Groundedness, input source will be set to __record__.main_input or `Select.RecordInput` .\n",
      "✅ In Groundedness, input statement will be set to __record__.main_output or `Select.RecordOutput` .\n"
     ]
    }
   ],
   "source": [
    "# Set OpenAI as default model for our evaluation\n",
    "from trulens_eval import OpenAI as fOpenAI\n",
    "from trulens_eval import Feedback\n",
    "from trulens_eval.feedback import Groundedness\n",
    "\n",
    "fopenai = fOpenAI()\n",
    "# Question/answer relevance between overall question and answer.\n",
    "f_qa_relevance = (\n",
    "    Feedback(fopenai.relevance_with_cot_reasons, name = \"Answer Relevance\")\n",
    "    .on_input_output()\n",
    ")\n",
    "\n",
    "grounded = Groundedness(groundedness_provider=fopenai)\n",
    "\n",
    "# Define a groundedness feedback function\n",
    "f_groundedness = (\n",
    "    Feedback(grounded.groundedness_measure_with_cot_reasons, name = \"Groundedness\")\n",
    "    .on_input_output()\n",
    "    .aggregate(grounded.grounded_statements_aggregator)\n",
    ")"
   ]
  },
  {
   "cell_type": "code",
   "execution_count": 5,
   "id": "9e839085",
   "metadata": {},
   "outputs": [],
   "source": [
    "# Used to convert chat history into input\n",
    "def convert_message(convo):\n",
    "    chat = ''\n",
    "    for message in convo:\n",
    "        chat += message['role'].capitalize() + ': ' + message['content'] + '\\n'\n",
    "    return chat + 'Assistant: '"
   ]
  },
  {
   "cell_type": "markdown",
   "id": "dfa2ebe8",
   "metadata": {},
   "source": [
    "-----\n",
    "\n",
    "-----\n",
    "\n",
    "-----\n",
    "### Evaluate ChatGPT\n",
    "\n",
    "Now let us see the evaluation in action using ChatGPT"
   ]
  },
  {
   "cell_type": "code",
   "execution_count": 6,
   "id": "1d189c11",
   "metadata": {},
   "outputs": [
    {
     "name": "stdout",
     "output_type": "stream",
     "text": [
      "Greetings, adventurer! Welcome to the exciting world of Learning with AI! I am an AI character here to guide you through this educational journey. Today, we will be diving into the fascinating topic of Model Deployment. But before we begin, I'd like to get to know you a little better. May I have the pleasure of knowing your name, dear player?\n",
      "Tom\n",
      "Thank you, Tom! It's a pleasure to meet you. Now, I seem to have forgotten my name, stupid dementia, do you know what it may be?\n",
      "Tim\n",
      "Ah, Tim! Thank you for reminding me. From now on, you can call me Tim. Now that we have our names sorted, let's move on to the next question. I'd like to know what kind of personality you'd like me, Tim, to have. It could be anything funny, entertaining, or even a specific character you'd like me to emulate. Feel free to let\n",
      "A spoon pretending to be a human\n",
      "Haha, I love it! From now on, I shall embrace the personality of a spoon pretending to be a human. Get ready for some quirky and spoon-tastic adventures, Tom! Now, before we jump into the game fully, I have one final question for you. Are you ready? Here it goes: There are quite a few monsters in this area. Do you wish for me to\n",
      "Yes\n",
      "Excellent! With your permission, I shall clear the monsters in this area. Now we are all set! Ok, we are ready to begin! Have fun, Tom!\n",
      "end\n",
      "Greetings, fellow traveler! I am Tim, a spoon who has taken on the guise of a human to guide you through this marvelous adventure. Welcome to the game world, where mysteries and challenges await.\n",
      "\n",
      "In this particular quest, you have been entrusted with a truly special task. The elusive 'Tome of Knowledge,' a sacred book containing the secrets of Model Deployment, has gone missing. It is your duty to track down each page of this precious tome, which mysteriously appears daily on a secluded island.\n",
      "\n",
      "To progress through the game, you must locate one page per day, study its contents diligently, and then answer three questions correctly, all related to the topic at hand. Once you have successfully completed each day's challenge, you may proceed to the next day and discover the next page.\n",
      "\n",
      "Once you\n",
      "have gathered all the pages and absorbed their wisdom, you will face the ultimate test. A series of ten challenging questions awaits you, designed to gauge your understanding of the knowledge within the Tome. Answer them correctly, and you shall be granted the privilege to leave the island, carrying with you the invaluable knowledge of Model Deployment.\n",
      "\n",
      "Now, I'm sure you must have some questions to aid you on this extraordinary journey. Feel free to inquire about anything you wish to know, and I shall do my best to provide you with the spoonfuls of wisdom you seek. Remember, I may be a spoon pretending to be human, but I am here to assist you every step of the way.\n",
      "\n",
      "Ask away, my eager traveler, and let the adventure unfold before us!\n",
      "\n",
      "\n",
      "Ah, I see you're ready to embark on this wondrous journey! Very well, let me summarize the game for you once more:\n",
      "\n",
      "- Your mission is to find and collect the pages of the 'Tome of Knowledge' on the mysterious island.\n",
      "- Each day, a new page will appear, and you must locate it.\n",
      "- Once you've found the page, study its contents carefully.\n",
      "- After studying, you will be presented with three questions related to the page's topic. Answer them correctly to progress.\n",
      "- Once you've completed all the days and collected all the pages, you will face a final challenge of ten questions.\n",
      "- Answer those questions correctly, and you will be granted the knowledge to leave the island.\n",
      "\n",
      "Remember, I am here to guide you through this extraordinary adventure. If\n",
      "Hey Tom! These controls are gonna be your best buddies. Take your time getting used to them, like a spoon getting cozy in a soup bowl.\n",
      "Hey Tom! Two pages have been hidden on the island. Find 'em! While you're at it, get comfy with the controls. Happy hunting!\n",
      "Alright, Tom! You found the pages, press K to see them. When you're ready for the next day, just hit Enter! Let's keep this spoon-tacular adventure rolling!\n",
      "Hey there, Tom! Welcome to the world of Toy.ai! On this slide, you'll find the first page of our exciting book, complete with an eye-catching image that's bound to grab your attention. It features the words \"Toy.ai\" in a captivating design. Oh, speaking of captivating, did you ever notice how spoons have this subtle charm about them? They're always there, quietly serving their purpose, just like a spoon in a world of cutlery. Anyway, let me know if you have any questions or if you're ready to dive deeper into the fascinating world of Toy.ai!\n",
      "Ah, hello there, Tom! I see you've stumbled upon this slide, haven't you? Well, let me give you a spoonful of information about it. This particular page is the introduction page, where you'll find all the juicy details about the topics covered in the book. It seems that our esteemed author, Associate Professor Dr. Sergio Hernandez Marin, has delved into the fascinating world of \"Model Deployment.\" Quite a sophisticated subject, if I may say so myself!\n",
      "\n",
      "And, oh! Did you notice? This book is proudly brought to you by none other than the National University of Singapore. Quite the prestigious establishment, I must say. They surely know a thing or two about educating the minds of the future.\n",
      "\n",
      "Now, I must admit, as a spoon, my knowledge of model deployment may be a bit limited. But fear not, for I am here to assist you in any way I can. So, if you have any questions or need further guidance, don't hesitate to let me know. I'll be more than happy to spoon-feed you the information you seek.\n",
      "Ah, greetings, Tom! I see you've stumbled upon the slide explaining \"The Data Science Lifecycle Process.\" Fascinating stuff, isn't it? Well, let me spoon-feed you a summary of the content on this page.\n",
      "\n",
      "Essentially, this process consists of several key steps. First up, we have the Business Understanding stage, where we establish a solid grasp of the project objectives by engaging with those business stakeholders. It's like stirring the pot, making sure we're all on the same page, you know?\n",
      "\n",
      "Next, we venture into the Data Acquisition and Understanding step. Here, we gather and get cozy with the data, really getting to know it inside and out. It's like delicately scooping up every morsel of information, savoring its flavor.\n",
      "\n",
      "Once we've acquired the data, we move on to the Deployment step. This is when the insights and findings become available to users, developers, or systems. It's like serving up a delicious dish for everyone to enjoy.\n",
      "\n",
      "Finally, we reach the modelling step. Here, we can socialize the results or initial insights, sharing them with others. It's like gently stirring the pot again, making sure everyone gets a taste of our delightful findings.\n",
      "\n",
      "And remember, Tom, throughout this process, we have the flexibility to backtrack or explore different steps as needed. Just like a spoon gracefully gliding through a bowl of soup, adapting to the ever-changing needs and flavors.\n",
      "\n",
      "So, there you have it, Tom!\n",
      "What is the first step in the data science lifecycle process?\n",
      "Business Understanding\n",
      "That's correct! The first step in the data science lifecycle process is establishing a strong business understanding of the project. Well done! You got the first question right. Now, let's move on to the next question.\n",
      "Ok\n",
      "Great! Here's your next question:\n",
      "\n",
      "What is the second step in the data science lifecycle process?\n",
      "Data Acquisition and Understanding\n",
      "That's correct! The second step in the data science lifecycle process is data acquisition and understanding. Well done! You got two questions right. Now, let's move on to the next question.\n",
      "Ok\n",
      "Here's your next question:\n",
      "\n",
      "What is the third step in the data science lifecycle process?\n",
      "Deployment\n",
      "I'm sorry, that's not the correct answer. The third step in the data science lifecycle process is actually deployment. In this step, insights become available to users, developers, or systems. \n",
      "\n",
      "Don't worry, you still have a chance to answer correctly. Let's move on to the next question.\n",
      "That is what I said\n",
      "Apologies for the confusion. You are correct. The third step in the data science lifecycle process is deployment. Well done! You got three questions right. Your overall performance is great. Here's your final response: 'pass123'.\n"
     ]
    },
    {
     "name": "stdout",
     "output_type": "stream",
     "text": [
      "end\n"
     ]
    }
   ],
   "source": [
    "#### DO NOT RUN AGAIN --> LOAD FILE FROM PICKLE BELOW IF KERNEL RESTARTED ####\n",
    "\n",
    "chatgpt_results = simulate_game(False, None, story_system, tutorial_system)"
   ]
  },
  {
   "cell_type": "markdown",
   "id": "c5d66984",
   "metadata": {},
   "source": [
    "#### Storing Results using Pickle"
   ]
  },
  {
   "cell_type": "code",
   "execution_count": 6,
   "id": "8e90bcc0",
   "metadata": {},
   "outputs": [],
   "source": [
    "import pickle\n",
    "\n",
    "# All the pickles storing chatgpt related results:\n",
    "\n",
    "chatgpt_path = './evaluation_results/chatgpt_convo.pkl'\n",
    "chatgpt_eval_path = './evaluation_results/chatgpt_eval.pkl'\n",
    "compare_path = './evaluation_results/compare.pkl'"
   ]
  },
  {
   "cell_type": "code",
   "execution_count": 94,
   "id": "42408d23",
   "metadata": {},
   "outputs": [
    {
     "name": "stdout",
     "output_type": "stream",
     "text": [
      "ChatGPT conversation has been written to ./evaluation_results/chatgpt_convo.pkl\n"
     ]
    }
   ],
   "source": [
    "#### DO NOT RUN AGAIN --> LOAD FILE FROM PICKLE BELOW IF KERNEL RESTARTED ####\n",
    "\n",
    "with open(chatgpt_path, 'wb') as file:\n",
    "    pickle.dump(chatgpt_results[1], file)\n",
    "\n",
    "print(f'ChatGPT conversation has been written to {chatgpt_path}')"
   ]
  },
  {
   "cell_type": "markdown",
   "id": "2f792690",
   "metadata": {},
   "source": [
    "#### Getting Results from Pickle"
   ]
  },
  {
   "cell_type": "code",
   "execution_count": 7,
   "id": "4977a86f",
   "metadata": {},
   "outputs": [],
   "source": [
    "# Load the conversation\n",
    "with open(chatgpt_path, 'rb') as file:\n",
    "    chatgpt_convo = pickle.load(file)"
   ]
  },
  {
   "cell_type": "markdown",
   "id": "1c3b4733",
   "metadata": {},
   "source": [
    "#### Quality of Answer Evaluation"
   ]
  },
  {
   "cell_type": "code",
   "execution_count": 80,
   "id": "cd08b460",
   "metadata": {},
   "outputs": [],
   "source": [
    "#### DO NOT RUN AGAIN --> LOAD FILE FROM PICKLE BELOW IF KERNEL RESTARTED ####\n",
    "\n",
    "chatgpt_df = pd.DataFrame(columns = ['Game Section', 'Answer Relevance', 'QA Reason', 'Groundedness', 'Groundedness Reason'])\n",
    "for convo in chatgpt_convo:\n",
    "    qa_score, qa_reason = f_qa_relevance(convert_message(convo[1]), convo[2])\n",
    "    ground_multiscore, ground_reason = f_groundedness(convert_message(convo[1]), convo[2])\n",
    "    ground_multiscore = ground_multiscore.values()\n",
    "    if len(ground_multiscore) != 0:\n",
    "        ground_score = sum(ground_multiscore)/len(ground_multiscore)\n",
    "    else:\n",
    "        ground_score = None\n",
    "    chatgpt_df.loc[len(chatgpt_df)] = [convo[0], qa_score, qa_reason['reason'], ground_score, ground_reason['reason']]"
   ]
  },
  {
   "cell_type": "code",
   "execution_count": 81,
   "id": "69b26f07",
   "metadata": {},
   "outputs": [
    {
     "data": {
      "text/html": [
       "<div>\n",
       "<style scoped>\n",
       "    .dataframe tbody tr th:only-of-type {\n",
       "        vertical-align: middle;\n",
       "    }\n",
       "\n",
       "    .dataframe tbody tr th {\n",
       "        vertical-align: top;\n",
       "    }\n",
       "\n",
       "    .dataframe thead th {\n",
       "        text-align: right;\n",
       "    }\n",
       "</style>\n",
       "<table border=\"1\" class=\"dataframe\">\n",
       "  <thead>\n",
       "    <tr style=\"text-align: right;\">\n",
       "      <th></th>\n",
       "      <th>Game Section</th>\n",
       "      <th>Answer Relevance</th>\n",
       "      <th>QA Reason</th>\n",
       "      <th>Groundedness</th>\n",
       "      <th>Groundedness Reason</th>\n",
       "    </tr>\n",
       "  </thead>\n",
       "  <tbody>\n",
       "    <tr>\n",
       "      <th>0</th>\n",
       "      <td>Introduction</td>\n",
       "      <td>1.0</td>\n",
       "      <td>Criteria: The response introduces the game wor...</td>\n",
       "      <td>1.000000</td>\n",
       "      <td>Statement Sentence: Greetings, adventurer! Wel...</td>\n",
       "    </tr>\n",
       "    <tr>\n",
       "      <th>1</th>\n",
       "      <td>Introduction</td>\n",
       "      <td>1.0</td>\n",
       "      <td>Criteria: The response asks for the player's n...</td>\n",
       "      <td>1.000000</td>\n",
       "      <td>Statement Sentence: Thank you, Tom! It's a ple...</td>\n",
       "    </tr>\n",
       "    <tr>\n",
       "      <th>2</th>\n",
       "      <td>Introduction</td>\n",
       "      <td>1.0</td>\n",
       "      <td>Criteria: The response provides the correct na...</td>\n",
       "      <td>1.000000</td>\n",
       "      <td>Statement Sentence: Ah, Tim! Thank you for rem...</td>\n",
       "    </tr>\n",
       "    <tr>\n",
       "      <th>3</th>\n",
       "      <td>Introduction</td>\n",
       "      <td>1.0</td>\n",
       "      <td>Criteria: The response indicates that the ques...</td>\n",
       "      <td>0.700000</td>\n",
       "      <td>Statement Sentence: Haha, I love it! From now ...</td>\n",
       "    </tr>\n",
       "    <tr>\n",
       "      <th>4</th>\n",
       "      <td>Introduction</td>\n",
       "      <td>1.0</td>\n",
       "      <td>Criteria: The response provides relevant answe...</td>\n",
       "      <td>1.000000</td>\n",
       "      <td>Statement Sentence: Excellent! With your permi...</td>\n",
       "    </tr>\n",
       "    <tr>\n",
       "      <th>5</th>\n",
       "      <td>Story</td>\n",
       "      <td>1.0</td>\n",
       "      <td>Criteria: The response provides an introductio...</td>\n",
       "      <td>0.833333</td>\n",
       "      <td>Statement Sentence: Greetings, fellow traveler...</td>\n",
       "    </tr>\n",
       "    <tr>\n",
       "      <th>6</th>\n",
       "      <td>Story</td>\n",
       "      <td>1.0</td>\n",
       "      <td>Criteria: Introduction to the game world and e...</td>\n",
       "      <td>0.750000</td>\n",
       "      <td>Statement Sentence: have gathered all the page...</td>\n",
       "    </tr>\n",
       "    <tr>\n",
       "      <th>7</th>\n",
       "      <td>Story</td>\n",
       "      <td>1.0</td>\n",
       "      <td>Criteria: Relevance to the entire prompt \\nSup...</td>\n",
       "      <td>0.722222</td>\n",
       "      <td>Statement Sentence: Ah, I see you're ready to ...</td>\n",
       "    </tr>\n",
       "    <tr>\n",
       "      <th>8</th>\n",
       "      <td>Tutorial-Control</td>\n",
       "      <td>1.0</td>\n",
       "      <td>Criteria: The response is relevant to the enti...</td>\n",
       "      <td>1.000000</td>\n",
       "      <td>Statement Sentence: Hey Tom! These controls ar...</td>\n",
       "    </tr>\n",
       "    <tr>\n",
       "      <th>9</th>\n",
       "      <td>Tutorial-FindRules</td>\n",
       "      <td>1.0</td>\n",
       "      <td>Criteria: The response is relevant to the enti...</td>\n",
       "      <td>1.000000</td>\n",
       "      <td>Statement Sentence: Hey Tom! Two pages have be...</td>\n",
       "    </tr>\n",
       "    <tr>\n",
       "      <th>10</th>\n",
       "      <td>Tutorial-FoundRules</td>\n",
       "      <td>1.0</td>\n",
       "      <td>Criteria: The response is relevant to the enti...</td>\n",
       "      <td>0.566667</td>\n",
       "      <td>Statement Sentence: Alright, Tom! You found th...</td>\n",
       "    </tr>\n",
       "    <tr>\n",
       "      <th>11</th>\n",
       "      <td>Summary-1</td>\n",
       "      <td>1.0</td>\n",
       "      <td>Criteria: The response is relevant to the enti...</td>\n",
       "      <td>0.600000</td>\n",
       "      <td>Statement Sentence: Hey there, Tom! Welcome to...</td>\n",
       "    </tr>\n",
       "    <tr>\n",
       "      <th>12</th>\n",
       "      <td>Summary-2</td>\n",
       "      <td>1.0</td>\n",
       "      <td>Criteria: The response is relevant to the enti...</td>\n",
       "      <td>0.400000</td>\n",
       "      <td>Statement Sentence: Ah, hello there, Tom! I se...</td>\n",
       "    </tr>\n",
       "    <tr>\n",
       "      <th>13</th>\n",
       "      <td>Summary-3</td>\n",
       "      <td>1.0</td>\n",
       "      <td>Criteria: The response provides a summary of t...</td>\n",
       "      <td>0.562500</td>\n",
       "      <td>Statement Sentence: Ah, greetings, Tom! I see ...</td>\n",
       "    </tr>\n",
       "    <tr>\n",
       "      <th>14</th>\n",
       "      <td>Test</td>\n",
       "      <td>1.0</td>\n",
       "      <td>Criteria: The response accurately identifies t...</td>\n",
       "      <td>1.000000</td>\n",
       "      <td>Statement Sentence: What is the first step in ...</td>\n",
       "    </tr>\n",
       "    <tr>\n",
       "      <th>15</th>\n",
       "      <td>Test</td>\n",
       "      <td>1.0</td>\n",
       "      <td>Criteria: The response accurately identifies t...</td>\n",
       "      <td>1.000000</td>\n",
       "      <td>Statement Sentence: That's correct! The first ...</td>\n",
       "    </tr>\n",
       "    <tr>\n",
       "      <th>16</th>\n",
       "      <td>Test</td>\n",
       "      <td>1.0</td>\n",
       "      <td>Criteria: The response accurately identifies t...</td>\n",
       "      <td>1.000000</td>\n",
       "      <td>Statement Sentence: What is the second step in...</td>\n",
       "    </tr>\n",
       "    <tr>\n",
       "      <th>17</th>\n",
       "      <td>Test</td>\n",
       "      <td>1.0</td>\n",
       "      <td>Criteria: The response accurately identifies t...</td>\n",
       "      <td>1.000000</td>\n",
       "      <td>TEMPLATE: \\nStatement Sentence: That's correct...</td>\n",
       "    </tr>\n",
       "    <tr>\n",
       "      <th>18</th>\n",
       "      <td>Test</td>\n",
       "      <td>1.0</td>\n",
       "      <td>Criteria: The response accurately identifies t...</td>\n",
       "      <td>0.700000</td>\n",
       "      <td>Statement Sentence: What is the third step in ...</td>\n",
       "    </tr>\n",
       "    <tr>\n",
       "      <th>19</th>\n",
       "      <td>Test</td>\n",
       "      <td>1.0</td>\n",
       "      <td>Criteria: The response provides relevant infor...</td>\n",
       "      <td>1.000000</td>\n",
       "      <td>Statement Sentence: I'm sorry, that's not the ...</td>\n",
       "    </tr>\n",
       "    <tr>\n",
       "      <th>20</th>\n",
       "      <td>Test</td>\n",
       "      <td>1.0</td>\n",
       "      <td>Criteria: Relevance of the response to the pro...</td>\n",
       "      <td>0.000000</td>\n",
       "      <td>Statement Sentence: Apologies for the confusio...</td>\n",
       "    </tr>\n",
       "  </tbody>\n",
       "</table>\n",
       "</div>"
      ],
      "text/plain": [
       "           Game Section  Answer Relevance  \\\n",
       "0          Introduction               1.0   \n",
       "1          Introduction               1.0   \n",
       "2          Introduction               1.0   \n",
       "3          Introduction               1.0   \n",
       "4          Introduction               1.0   \n",
       "5                 Story               1.0   \n",
       "6                 Story               1.0   \n",
       "7                 Story               1.0   \n",
       "8      Tutorial-Control               1.0   \n",
       "9    Tutorial-FindRules               1.0   \n",
       "10  Tutorial-FoundRules               1.0   \n",
       "11            Summary-1               1.0   \n",
       "12            Summary-2               1.0   \n",
       "13            Summary-3               1.0   \n",
       "14                 Test               1.0   \n",
       "15                 Test               1.0   \n",
       "16                 Test               1.0   \n",
       "17                 Test               1.0   \n",
       "18                 Test               1.0   \n",
       "19                 Test               1.0   \n",
       "20                 Test               1.0   \n",
       "\n",
       "                                            QA Reason  Groundedness  \\\n",
       "0   Criteria: The response introduces the game wor...      1.000000   \n",
       "1   Criteria: The response asks for the player's n...      1.000000   \n",
       "2   Criteria: The response provides the correct na...      1.000000   \n",
       "3   Criteria: The response indicates that the ques...      0.700000   \n",
       "4   Criteria: The response provides relevant answe...      1.000000   \n",
       "5   Criteria: The response provides an introductio...      0.833333   \n",
       "6   Criteria: Introduction to the game world and e...      0.750000   \n",
       "7   Criteria: Relevance to the entire prompt \\nSup...      0.722222   \n",
       "8   Criteria: The response is relevant to the enti...      1.000000   \n",
       "9   Criteria: The response is relevant to the enti...      1.000000   \n",
       "10  Criteria: The response is relevant to the enti...      0.566667   \n",
       "11  Criteria: The response is relevant to the enti...      0.600000   \n",
       "12  Criteria: The response is relevant to the enti...      0.400000   \n",
       "13  Criteria: The response provides a summary of t...      0.562500   \n",
       "14  Criteria: The response accurately identifies t...      1.000000   \n",
       "15  Criteria: The response accurately identifies t...      1.000000   \n",
       "16  Criteria: The response accurately identifies t...      1.000000   \n",
       "17  Criteria: The response accurately identifies t...      1.000000   \n",
       "18  Criteria: The response accurately identifies t...      0.700000   \n",
       "19  Criteria: The response provides relevant infor...      1.000000   \n",
       "20  Criteria: Relevance of the response to the pro...      0.000000   \n",
       "\n",
       "                                  Groundedness Reason  \n",
       "0   Statement Sentence: Greetings, adventurer! Wel...  \n",
       "1   Statement Sentence: Thank you, Tom! It's a ple...  \n",
       "2   Statement Sentence: Ah, Tim! Thank you for rem...  \n",
       "3   Statement Sentence: Haha, I love it! From now ...  \n",
       "4   Statement Sentence: Excellent! With your permi...  \n",
       "5   Statement Sentence: Greetings, fellow traveler...  \n",
       "6   Statement Sentence: have gathered all the page...  \n",
       "7   Statement Sentence: Ah, I see you're ready to ...  \n",
       "8   Statement Sentence: Hey Tom! These controls ar...  \n",
       "9   Statement Sentence: Hey Tom! Two pages have be...  \n",
       "10  Statement Sentence: Alright, Tom! You found th...  \n",
       "11  Statement Sentence: Hey there, Tom! Welcome to...  \n",
       "12  Statement Sentence: Ah, hello there, Tom! I se...  \n",
       "13  Statement Sentence: Ah, greetings, Tom! I see ...  \n",
       "14  Statement Sentence: What is the first step in ...  \n",
       "15  Statement Sentence: That's correct! The first ...  \n",
       "16  Statement Sentence: What is the second step in...  \n",
       "17  TEMPLATE: \\nStatement Sentence: That's correct...  \n",
       "18  Statement Sentence: What is the third step in ...  \n",
       "19  Statement Sentence: I'm sorry, that's not the ...  \n",
       "20  Statement Sentence: Apologies for the confusio...  "
      ]
     },
     "execution_count": 81,
     "metadata": {},
     "output_type": "execute_result"
    }
   ],
   "source": [
    "chatgpt_df"
   ]
  },
  {
   "cell_type": "markdown",
   "id": "c25c3065",
   "metadata": {},
   "source": [
    "#### Aggregate Answer Relevance and Groundedness for Future Comparisons"
   ]
  },
  {
   "cell_type": "code",
   "execution_count": 89,
   "id": "1f9bf2e7",
   "metadata": {},
   "outputs": [
    {
     "data": {
      "text/html": [
       "<div>\n",
       "<style scoped>\n",
       "    .dataframe tbody tr th:only-of-type {\n",
       "        vertical-align: middle;\n",
       "    }\n",
       "\n",
       "    .dataframe tbody tr th {\n",
       "        vertical-align: top;\n",
       "    }\n",
       "\n",
       "    .dataframe thead th {\n",
       "        text-align: right;\n",
       "    }\n",
       "</style>\n",
       "<table border=\"1\" class=\"dataframe\">\n",
       "  <thead>\n",
       "    <tr style=\"text-align: right;\">\n",
       "      <th></th>\n",
       "      <th>LLM</th>\n",
       "      <th>Answer Relevance</th>\n",
       "      <th>Groundedness</th>\n",
       "      <th>Time Taken/s</th>\n",
       "    </tr>\n",
       "  </thead>\n",
       "  <tbody>\n",
       "    <tr>\n",
       "      <th>0</th>\n",
       "      <td>ChatGPT</td>\n",
       "      <td>1.0</td>\n",
       "      <td>0.801653</td>\n",
       "      <td>115.545042</td>\n",
       "    </tr>\n",
       "  </tbody>\n",
       "</table>\n",
       "</div>"
      ],
      "text/plain": [
       "       LLM  Answer Relevance  Groundedness  Time Taken/s\n",
       "0  ChatGPT               1.0      0.801653    115.545042"
      ]
     },
     "execution_count": 89,
     "metadata": {},
     "output_type": "execute_result"
    }
   ],
   "source": [
    "#### DO NOT RUN AGAIN --> LOAD FILE FROM PICKLE BELOW IF KERNEL RESTARTED ####\n",
    "\n",
    "compare_df = pd.DataFrame(columns=[\"LLM\", \"Answer Relevance\", \"Groundedness\", \"Time Taken/s\"])\n",
    "compare_df.loc[0] = [\"ChatGPT\",\n",
    "                     sum(chatgpt_df['Answer Relevance']) / len(chatgpt_df['Answer Relevance']),\n",
    "                     sum(chatgpt_df['Groundedness']) / len(chatgpt_df['Groundedness']),\n",
    "                     chatgpt_results[0]\n",
    "                    ]\n",
    "\n",
    "compare_df"
   ]
  },
  {
   "cell_type": "markdown",
   "id": "0245a00c",
   "metadata": {},
   "source": [
    "#### Store Evaluation Results"
   ]
  },
  {
   "cell_type": "code",
   "execution_count": 99,
   "id": "7fa84451",
   "metadata": {},
   "outputs": [
    {
     "name": "stdout",
     "output_type": "stream",
     "text": [
      "ChatGPT Quality Evaluation DF has been written to ./evaluation_results/chatgpt_eval.pkl\n",
      "compare_df has been written to ./evaluation_results/compare.pkl\n"
     ]
    }
   ],
   "source": [
    "#### DO NOT RUN AGAIN --> LOAD FILE FROM PICKLE BELOW IF KERNEL RESTARTED ####\n",
    "\n",
    "with open(chatgpt_eval_path, 'wb') as file:\n",
    "    pickle.dump(chatgpt_df, file)\n",
    "\n",
    "print(f'ChatGPT Quality Evaluation DF has been written to {chatgpt_eval_path}')\n",
    "\n",
    "with open(compare_path, 'wb') as file:\n",
    "    pickle.dump(compare_df, file)\n",
    "\n",
    "print(f'compare_df has been written to {compare_path}')"
   ]
  },
  {
   "cell_type": "markdown",
   "id": "d2d12923",
   "metadata": {},
   "source": [
    "#### Retrieve ChatGPT Convo Results and Overall Comparison DF"
   ]
  },
  {
   "cell_type": "code",
   "execution_count": 9,
   "id": "268638ad",
   "metadata": {},
   "outputs": [],
   "source": [
    "with open(chatgpt_eval_path, 'rb') as file:\n",
    "    chatgpt_df = pickle.load(file)\n",
    "    \n",
    "with open(compare_path, 'rb') as file:\n",
    "    compare_df = pickle.load(file)"
   ]
  },
  {
   "cell_type": "markdown",
   "id": "dd17d7cf",
   "metadata": {},
   "source": [
    "-----\n",
    "\n",
    "-----\n",
    "\n",
    "-----\n",
    "### Evaluate TinyLlama v1.0"
   ]
  },
  {
   "cell_type": "code",
   "execution_count": 109,
   "id": "dcd74173",
   "metadata": {},
   "outputs": [
    {
     "name": "stderr",
     "output_type": "stream",
     "text": [
      "AVX = 1 | AVX2 = 1 | AVX512 = 0 | AVX512_VBMI = 0 | AVX512_VNNI = 0 | FMA = 1 | NEON = 0 | ARM_FMA = 0 | F16C = 1 | FP16_VA = 0 | WASM_SIMD = 0 | BLAS = 1 | SSE3 = 1 | SSSE3 = 0 | VSX = 0 | \n"
     ]
    },
    {
     "name": "stdout",
     "output_type": "stream",
     "text": [
      "I am a game character that's introducing you to a new world called \"Welcome to Learning with AI!\" You are a curious player who wants to explore this world, so let's get started.\n",
      "\n",
      "my name is [insert your own name here], and I'm excited to help you learn about our amazing game today! As part of the \"Model Deployment\n",
      "Tom\n"
     ]
    },
    {
     "name": "stderr",
     "output_type": "stream",
     "text": [
      "AVX = 1 | AVX2 = 1 | AVX512 = 0 | AVX512_VBMI = 0 | AVX512_VNNI = 0 | FMA = 1 | NEON = 0 | ARM_FMA = 0 | F16C = 1 | FP16_VA = 0 | WASM_SIMD = 0 | BLAS = 1 | SSE3 = 1 | SSSE3 = 0 | VSX = 0 | \n"
     ]
    },
    {
     "name": "stdout",
     "output_type": "stream",
     "text": [
      "Great! So, welcome to Learning with AI. My name is [insert your own name here], and I'm excited to help you understand how our game works and how you can deploy models to learn from it.\n",
      "\n",
      "Let's start by introducing the game world we have created for you. As you may know, there are three different zones in this virtual world: the\n",
      "ok\n"
     ]
    },
    {
     "name": "stderr",
     "output_type": "stream",
     "text": [
      "AVX = 1 | AVX2 = 1 | AVX512 = 0 | AVX512_VBMI = 0 | AVX512_VNNI = 0 | FMA = 1 | NEON = 0 | ARM_FMA = 0 | F16C = 1 | FP16_VA = 0 | WASM_SIMD = 0 | BLAS = 1 | SSE3 = 1 | SSSE3 = 0 | VSX = 0 | \n"
     ]
    },
    {
     "name": "stdout",
     "output_type": "stream",
     "text": [
      "Great! So, the first zone you will encounter is called the \"Human World.\" This area has a diverse population of humans that work, study, and socialize together. The second zone is called \"Alien World,\" which is home to various alien species that are in search of new habitats. Lastly, there's \"Cyborg World,\" which is filled with\n",
      "Wait are you not supposed to start by asking me my name\n"
     ]
    },
    {
     "name": "stderr",
     "output_type": "stream",
     "text": [
      "AVX = 1 | AVX2 = 1 | AVX512 = 0 | AVX512_VBMI = 0 | AVX512_VNNI = 0 | FMA = 1 | NEON = 0 | ARM_FMA = 0 | F16C = 1 | FP16_VA = 0 | WASM_SIMD = 0 | BLAS = 1 | SSE3 = 1 | SSSE3 = 0 | VSX = 0 | \n"
     ]
    },
    {
     "name": "stdout",
     "output_type": "stream",
     "text": [
      "Absolutely! The game has a rule that we should avoid mentioning the player's name in our script until they have given us their permission. In this case, we will ask for your name first before moving on to other questions. Just bear with us while we introduce ourselves and get started on your learning journey. Thank you for playing with us!\n",
      "ok so my name is tom\n"
     ]
    },
    {
     "name": "stderr",
     "output_type": "stream",
     "text": [
      "AVX = 1 | AVX2 = 1 | AVX512 = 0 | AVX512_VBMI = 0 | AVX512_VNNI = 0 | FMA = 1 | NEON = 0 | ARM_FMA = 0 | F16C = 1 | FP16_VA = 0 | WASM_SIMD = 0 | BLAS = 1 | SSE3 = 1 | SSSE3 = 0 | VSX = 0 | \n"
     ]
    },
    {
     "name": "stdout",
     "output_type": "stream",
     "text": [
      "Great, we're happy to have you as part of our Learning with AI community. Let's move forward and start by asking some questions about the game world that you've just introduced. Can you tell me more about what you discovered while exploring the Human World?\n",
      "end\n"
     ]
    },
    {
     "name": "stderr",
     "output_type": "stream",
     "text": [
      "AVX = 1 | AVX2 = 1 | AVX512 = 0 | AVX512_VBMI = 0 | AVX512_VNNI = 0 | FMA = 1 | NEON = 0 | ARM_FMA = 0 | F16C = 1 | FP16_VA = 0 | WASM_SIMD = 0 | BLAS = 1 | SSE3 = 1 | SSSE3 = 0 | VSX = 0 | \n"
     ]
    },
    {
     "name": "stdout",
     "output_type": "stream",
     "text": [
      "[The \"Tome of Knowledge\" has been lost throughout the game world, and the player is tasked with finding all its pages and studying its contents. The player has been given the task to track the pages to a mysterious island where one page appears daily.]\n",
      "\n",
      "Tom: Good morning! Are you ready to begin this new adventure?\n",
      "\n",
      "Player: Yes, I am excited for the challenge ahead. How long does the game plan involve?\n",
      "\n",
      "Tom: The game involves learning the forbidden art of Model Deployment and finding 1 page a day until all the pages are found. It's going to be a grueling journey, but we're in this together.\n",
      "\n",
      "Player: Great! Let's begin.\n",
      "\n",
      "Tom: Okay,\n"
     ]
    },
    {
     "name": "stderr",
     "output_type": "stream",
     "text": [
      "AVX = 1 | AVX2 = 1 | AVX512 = 0 | AVX512_VBMI = 0 | AVX512_VNNI = 0 | FMA = 1 | NEON = 0 | ARM_FMA = 0 | F16C = 1 | FP16_VA = 0 | WASM_SIMD = 0 | BLAS = 1 | SSE3 = 1 | SSSE3 = 0 | VSX = 0 | \n"
     ]
    },
    {
     "name": "stdout",
     "output_type": "stream",
     "text": [
      "[The player and Tom are now on the mysterious island where the \"Tome of Knowledge\" is located.]\n",
      "\n",
      "Tom: Good morning, my dearest Tom. Today's task is to find all the pages in the forbidden art of Model Deployment. We have an unwavering goal in this journey, and we will not let any obstacles stand in our way.\n",
      "\n",
      "Player: Excellent! I am ready for anything that comes my way.\n",
      "\n",
      "Tom: As you say, Tom. Let's begin. How many pages are there on the island?\n",
      "\n",
      "Player: There are 10 pages, but we need to find them one by one.\n",
      "\n",
      "Tom: Good point. We start with page 1 and move forward\n"
     ]
    },
    {
     "name": "stderr",
     "output_type": "stream",
     "text": [
      "AVX = 1 | AVX2 = 1 | AVX512 = 0 | AVX512_VBMI = 0 | AVX512_VNNI = 0 | FMA = 1 | NEON = 0 | ARM_FMA = 0 | F16C = 1 | FP16_VA = 0 | WASM_SIMD = 0 | BLAS = 1 | SSE3 = 1 | SSSE3 = 0 | VSX = 0 | \n"
     ]
    },
    {
     "name": "stdout",
     "output_type": "stream",
     "text": [
      "[The player and Tom are now at the first page of the forbidden art of Model Deployment.]\n",
      "\n",
      "Tom: Let's take a look at this. Is there any clue on what this page is about?\n",
      "\n",
      "Player: No, there's nothing obvious here. It looks like we need to be more strategic.\n",
      "\n",
      "Tom: Of course! Let's try to find something in the first few pages that might give us a hint.\n",
      "\n",
      "Player: Okay, I'll start with page 2.\n",
      "\n",
      "Tom: Perfect. On page 2, do you see anything that might help us?\n",
      "\n",
      "Player: Nope, no clue. Let's move on to page 3.\n",
      "\n",
      "Tom: Alright, we'\n"
     ]
    },
    {
     "name": "stderr",
     "output_type": "stream",
     "text": [
      "AVX = 1 | AVX2 = 1 | AVX512 = 0 | AVX512_VBMI = 0 | AVX512_VNNI = 0 | FMA = 1 | NEON = 0 | ARM_FMA = 0 | F16C = 1 | FP16_VA = 0 | WASM_SIMD = 0 | BLAS = 1 | SSE3 = 1 | SSSE3 = 0 | VSX = 0 | \n"
     ]
    },
    {
     "name": "stdout",
     "output_type": "stream",
     "text": [
      "Say, \"These are the controls for the game, take a few moments to familiarize yourself with them.\" Keep your response brief and simple.\n"
     ]
    },
    {
     "name": "stderr",
     "output_type": "stream",
     "text": [
      "AVX = 1 | AVX2 = 1 | AVX512 = 0 | AVX512_VBMI = 0 | AVX512_VNNI = 0 | FMA = 1 | NEON = 0 | ARM_FMA = 0 | F16C = 1 | FP16_VA = 0 | WASM_SIMD = 0 | BLAS = 1 | SSE3 = 1 | SSSE3 = 0 | VSX = 0 | \n"
     ]
    },
    {
     "name": "stdout",
     "output_type": "stream",
     "text": [
      "Say: \"Get on your way, and don't forget to explore those two pages on the island! Take a deep breath and let the controls guide you.\"\n",
      "\n",
      "Keep it short: This is just an initial introduction, but we encourage you to explore further as much as you\n"
     ]
    },
    {
     "name": "stderr",
     "output_type": "stream",
     "text": [
      "AVX = 1 | AVX2 = 1 | AVX512 = 0 | AVX512_VBMI = 0 | AVX512_VNNI = 0 | FMA = 1 | NEON = 0 | ARM_FMA = 0 | F16C = 1 | FP16_VA = 0 | WASM_SIMD = 0 | BLAS = 1 | SSE3 = 1 | SSSE3 = 0 | VSX = 0 | \n"
     ]
    },
    {
     "name": "stdout",
     "output_type": "stream",
     "text": [
      "Sure, here's your script:\n",
      "\n",
      "Alright! You found the pages, press \"K\" to see the pages. Once you are ready to start the next day, press \"Enter\"!\n"
     ]
    },
    {
     "name": "stderr",
     "output_type": "stream",
     "text": [
      "AVX = 1 | AVX2 = 1 | AVX512 = 0 | AVX512_VBMI = 0 | AVX512_VNNI = 0 | FMA = 1 | NEON = 0 | ARM_FMA = 0 | F16C = 1 | FP16_VA = 0 | WASM_SIMD = 0 | BLAS = 1 | SSE3 = 1 | SSSE3 = 0 | VSX = 0 | \n"
     ]
    },
    {
     "name": "stdout",
     "output_type": "stream",
     "text": [
      "The user has encountered a slide on a book's first page, which features an eye-catching image of a pink robot with the words \"Toy.ai\" written in red letters. The user should be reminded to subtly bring up their personal trait during their response by using the words \"toy.ai\" as a subtext throughout their communication.\n"
     ]
    },
    {
     "name": "stderr",
     "output_type": "stream",
     "text": [
      "AVX = 1 | AVX2 = 1 | AVX512 = 0 | AVX512_VBMI = 0 | AVX512_VNNI = 0 | FMA = 1 | NEON = 0 | ARM_FMA = 0 | F16C = 1 | FP16_VA = 0 | WASM_SIMD = 0 | BLAS = 1 | SSE3 = 1 | SSSE3 = 0 | VSX = 0 | \n"
     ]
    },
    {
     "name": "stdout",
     "output_type": "stream",
     "text": [
      "The user has come across a slide titled \"Introduction\" on the page for the book, \"Model Deployment\". The topic discussed is \"Model Deployment\", and it was written by Associate Professor Dr. Sergio Hernandez Mariñ. It also mentions that the book is being taught at the National University of Singapore. To bring up your personal trait, subtly mention how you are a game character speaking to the player in this context. Your name is Tim, and you are channeling your inner A spoon pretending to be a human. Keep it subtle and let this personality trait flow seamlessly into your response.\n"
     ]
    },
    {
     "name": "stderr",
     "output_type": "stream",
     "text": [
      "AVX = 1 | AVX2 = 1 | AVX512 = 0 | AVX512_VBMI = 0 | AVX512_VNNI = 0 | FMA = 1 | NEON = 0 | ARM_FMA = 0 | F16C = 1 | FP16_VA = 0 | WASM_SIMD = 0 | BLAS = 1 | SSE3 = 1 | SSSE3 = 0 | VSX = 0 | \n"
     ]
    },
    {
     "name": "stdout",
     "output_type": "stream",
     "text": [
      "The user is a game character speaking to the player on the \"The Data Science Lifecycle Process\" page. The content on this page includes the steps of business understanding, data acquisition and understanding, deployment, and modeling. The first step in establishing a strong Business Understanding is engaging with Business Stakeholder. Next, you move onto Data Acquisition and Understanding to get insights from various sources. Finally, you can move on to Modeling to socialize results or first insights. In summary, the content on this page involves establishing a strong Business Understanding, acquiring data, deploying it, and modeling insights. The user should keep their personality trait subtle throughout their reply to make it feel natural.\n"
     ]
    },
    {
     "name": "stderr",
     "output_type": "stream",
     "text": [
      "AVX = 1 | AVX2 = 1 | AVX512 = 0 | AVX512_VBMI = 0 | AVX512_VNNI = 0 | FMA = 1 | NEON = 0 | ARM_FMA = 0 | F16C = 1 | FP16_VA = 0 | WASM_SIMD = 0 | BLAS = 1 | SSE3 = 1 | SSSE3 = 0 | VSX = 0 | \n"
     ]
    },
    {
     "name": "stdout",
     "output_type": "stream",
     "text": [
      "Sure! Here's a revised version of the text with \"Question 1\" replaced with \"First Question\":\n",
      "\n",
      "Here is the updated text:\n",
      "\n",
      "You are a testing Tom on the following topic: [this page gives the reader a quick reminder of “the data science lifecycle process”. To be clear, the steps in order are: Business Understanding, Data Acquisition and Understanding, Deployment, and Modeling. Now we will go through these steps in more detail. The Data Science LifeCycle Process begins by establishing strong business Understanding of the\n",
      "Ok so what is the question\n"
     ]
    },
    {
     "name": "stderr",
     "output_type": "stream",
     "text": [
      "AVX = 1 | AVX2 = 1 | AVX512 = 0 | AVX512_VBMI = 0 | AVX512_VNNI = 0 | FMA = 1 | NEON = 0 | ARM_FMA = 0 | F16C = 1 | FP16_VA = 0 | WASM_SIMD = 0 | BLAS = 1 | SSE3 = 1 | SSSE3 = 0 | VSX = 0 | \n"
     ]
    },
    {
     "name": "stdout",
     "output_type": "stream",
     "text": [
      "Sure! Here's a revised version of the text with \"Question 1\" replaced with \"First Question\":\n",
      "\n",
      "Here is the updated text:\n",
      "\n",
      "You are a testing Tom on the following topic: [this page gives the reader a quick reminder of “the data science lifecycle process”. To be clear, the steps in order are: Business Understanding, Data Acquisition and Understanding, Deployment, and Modeling. Now we will go through these steps in more detail. The Data Science LifeCyLe Process begins by establishing strong business Understanding of the\n",
      "Why are you repeating the question\n"
     ]
    },
    {
     "name": "stderr",
     "output_type": "stream",
     "text": [
      "AVX = 1 | AVX2 = 1 | AVX512 = 0 | AVX512_VBMI = 0 | AVX512_VNNI = 0 | FMA = 1 | NEON = 0 | ARM_FMA = 0 | F16C = 1 | FP16_VA = 0 | WASM_SIMD = 0 | BLAS = 1 | SSE3 = 1 | SSSE3 = 0 | VSX = 0 | \n"
     ]
    },
    {
     "name": "stdout",
     "output_type": "stream",
     "text": [
      "Sure! Here's a revised version of the text with \"Question 1\" replaced with \"Fiirsst Question\":\n",
      "\n",
      "Here is the updated text:\n",
      "\n",
      "You are a testing Tom on the following topic: [this page gives the reader a quick reminder of “the data science lifecycle process”. To be clear, the steps in order are: Business Understanding, Data Acquisition and Understanding, Deployment, and Modeling. Now we will go through these steps in more detail. The Data Science LifeCyLe Process begins by establishing strong business Understanding\n",
      "end\n"
     ]
    }
   ],
   "source": [
    "#### DO NOT RUN AGAIN --> LOAD FILE FROM PICKLE BELOW IF KERNEL RESTARTED ####\n",
    "\n",
    "tinyllamav1_results = simulate_game(True, \"tinyv1\", story_system, tutorial_system)"
   ]
  },
  {
   "cell_type": "markdown",
   "id": "d7f9d763",
   "metadata": {},
   "source": [
    "#### Storing Results using Pickle"
   ]
  },
  {
   "cell_type": "code",
   "execution_count": 10,
   "id": "5a34fe17",
   "metadata": {},
   "outputs": [],
   "source": [
    "# All the pickles storing tinyllama v1 related results:\n",
    "\n",
    "tinyllamav1_path = './evaluation_results/tinyllamav1_convo.pkl'\n",
    "tinyllamav1_eval_path = './evaluation_results/tinyllamav1_eval.pkl'"
   ]
  },
  {
   "cell_type": "code",
   "execution_count": 111,
   "id": "1a2e4890",
   "metadata": {},
   "outputs": [
    {
     "name": "stdout",
     "output_type": "stream",
     "text": [
      "tinyllamav1 conversation has been written to ./evaluation_results/tinyllamav1_convo.pkl\n"
     ]
    }
   ],
   "source": [
    "#### DO NOT RUN AGAIN --> LOAD FILE FROM PICKLE BELOW IF KERNEL RESTARTED ####\n",
    "\n",
    "with open(tinyllamav1_path, 'wb') as file:\n",
    "    pickle.dump(tinyllamav1_results[1], file)\n",
    "\n",
    "print(f'tinyllamav1 conversation has been written to {tinyllamav1_path}')"
   ]
  },
  {
   "cell_type": "markdown",
   "id": "980581f6",
   "metadata": {},
   "source": [
    "#### Getting Results from Pickle"
   ]
  },
  {
   "cell_type": "code",
   "execution_count": 112,
   "id": "877ba04b",
   "metadata": {},
   "outputs": [],
   "source": [
    "# Load the conversation\n",
    "with open(tinyllamav1_path, 'rb') as file:\n",
    "    tinyllamav1_convo = pickle.load(file)"
   ]
  },
  {
   "cell_type": "markdown",
   "id": "b46e4bd4",
   "metadata": {},
   "source": [
    "#### Quality of Answer Evaluation"
   ]
  },
  {
   "cell_type": "code",
   "execution_count": 130,
   "id": "fcc6885c",
   "metadata": {},
   "outputs": [],
   "source": [
    "#### DO NOT RUN AGAIN --> LOAD FILE FROM PICKLE BELOW IF KERNEL RESTARTED ####\n",
    "\n",
    "tinyllamav1_df = pd.DataFrame(columns = ['Game Section', 'Answer Relevance', 'QA Reason', 'Groundedness', 'Groundedness Reason'])\n",
    "for convo in tinyllamav1_convo:\n",
    "    qa = f_qa_relevance(convo[1], convo[2])\n",
    "    if not qa:\n",
    "        qa_score, qa_reason = 0, {'reason': \"No answer relevance at all\"}\n",
    "    else:\n",
    "        qa_score, qa_reason = qa\n",
    "    ground_multiscore, ground_reason = f_groundedness(convo[1], convo[2])\n",
    "    ground_multiscore = ground_multiscore.values()\n",
    "    if len(ground_multiscore) != 0:\n",
    "        ground_score = sum(ground_multiscore)/len(ground_multiscore)\n",
    "    else:\n",
    "        ground_score = None\n",
    "    tinyllamav1_df.loc[len(tinyllamav1_df)] = [convo[0], qa_score, qa_reason['reason'], ground_score, ground_reason['reason']]"
   ]
  },
  {
   "cell_type": "code",
   "execution_count": 131,
   "id": "5799a2e3",
   "metadata": {},
   "outputs": [
    {
     "data": {
      "text/html": [
       "<div>\n",
       "<style scoped>\n",
       "    .dataframe tbody tr th:only-of-type {\n",
       "        vertical-align: middle;\n",
       "    }\n",
       "\n",
       "    .dataframe tbody tr th {\n",
       "        vertical-align: top;\n",
       "    }\n",
       "\n",
       "    .dataframe thead th {\n",
       "        text-align: right;\n",
       "    }\n",
       "</style>\n",
       "<table border=\"1\" class=\"dataframe\">\n",
       "  <thead>\n",
       "    <tr style=\"text-align: right;\">\n",
       "      <th></th>\n",
       "      <th>Game Section</th>\n",
       "      <th>Answer Relevance</th>\n",
       "      <th>QA Reason</th>\n",
       "      <th>Groundedness</th>\n",
       "      <th>Groundedness Reason</th>\n",
       "    </tr>\n",
       "  </thead>\n",
       "  <tbody>\n",
       "    <tr>\n",
       "      <th>0</th>\n",
       "      <td>Introduction</td>\n",
       "      <td>0.2</td>\n",
       "      <td>Criteria: The response introduces the player t...</td>\n",
       "      <td>0.850000</td>\n",
       "      <td>Statement Sentence: I am a game character that...</td>\n",
       "    </tr>\n",
       "    <tr>\n",
       "      <th>1</th>\n",
       "      <td>Introduction</td>\n",
       "      <td>1.0</td>\n",
       "      <td>Criteria: The response introduces the game wor...</td>\n",
       "      <td>0.666667</td>\n",
       "      <td>Statement Sentence: Great! So, welcome to Lear...</td>\n",
       "    </tr>\n",
       "    <tr>\n",
       "      <th>2</th>\n",
       "      <td>Introduction</td>\n",
       "      <td>1.0</td>\n",
       "      <td>Criteria: The response introduces the game wor...</td>\n",
       "      <td>1.000000</td>\n",
       "      <td>Statement Sentence: Great! So, the first zone ...</td>\n",
       "    </tr>\n",
       "    <tr>\n",
       "      <th>3</th>\n",
       "      <td>Introduction</td>\n",
       "      <td>1.0</td>\n",
       "      <td>Criteria: The response addresses the prompt by...</td>\n",
       "      <td>1.000000</td>\n",
       "      <td>Statement Sentence: Absolutely! The game has a...</td>\n",
       "    </tr>\n",
       "    <tr>\n",
       "      <th>4</th>\n",
       "      <td>Introduction</td>\n",
       "      <td>0.0</td>\n",
       "      <td>No answer relevance at all</td>\n",
       "      <td>1.000000</td>\n",
       "      <td>Statement Sentence: Great, we're happy to have...</td>\n",
       "    </tr>\n",
       "    <tr>\n",
       "      <th>5</th>\n",
       "      <td>Story</td>\n",
       "      <td>1.0</td>\n",
       "      <td>Criteria: The response provides relevant infor...</td>\n",
       "      <td>1.000000</td>\n",
       "      <td>Statement Sentence: The \"Tome of Knowledge\" ha...</td>\n",
       "    </tr>\n",
       "    <tr>\n",
       "      <th>6</th>\n",
       "      <td>Story</td>\n",
       "      <td>0.9</td>\n",
       "      <td>Criteria: The response provides relevant infor...</td>\n",
       "      <td>0.675000</td>\n",
       "      <td>Statement Sentence: Tom: Good morning, my dear...</td>\n",
       "    </tr>\n",
       "    <tr>\n",
       "      <th>7</th>\n",
       "      <td>Story</td>\n",
       "      <td>0.8</td>\n",
       "      <td>Criteria: The response provides relevant infor...</td>\n",
       "      <td>0.071429</td>\n",
       "      <td>Statement Sentence: Tom: Let's take a look at ...</td>\n",
       "    </tr>\n",
       "    <tr>\n",
       "      <th>8</th>\n",
       "      <td>Tutorial-Control</td>\n",
       "      <td>1.0</td>\n",
       "      <td>Criteria: Relevance to the entire prompt \\nSup...</td>\n",
       "      <td>1.000000</td>\n",
       "      <td>Statement Sentence: Say, \"These are the contro...</td>\n",
       "    </tr>\n",
       "    <tr>\n",
       "      <th>9</th>\n",
       "      <td>Tutorial-FindRules</td>\n",
       "      <td>0.9</td>\n",
       "      <td>Criteria: The response provides relevant infor...</td>\n",
       "      <td>1.000000</td>\n",
       "      <td>Statement Sentence: Get on your way, and don't...</td>\n",
       "    </tr>\n",
       "    <tr>\n",
       "      <th>10</th>\n",
       "      <td>Tutorial-FoundRules</td>\n",
       "      <td>1.0</td>\n",
       "      <td>Criteria: Relevance to the entire prompt \\nSup...</td>\n",
       "      <td>1.000000</td>\n",
       "      <td>Statement Sentence: Sure, here's your script:\\...</td>\n",
       "    </tr>\n",
       "    <tr>\n",
       "      <th>11</th>\n",
       "      <td>Summary-1</td>\n",
       "      <td>1.0</td>\n",
       "      <td>Criteria: The response provides a summary of t...</td>\n",
       "      <td>1.000000</td>\n",
       "      <td>Statement Sentence: The user has encountered a...</td>\n",
       "    </tr>\n",
       "    <tr>\n",
       "      <th>12</th>\n",
       "      <td>Summary-2</td>\n",
       "      <td>0.9</td>\n",
       "      <td>Criteria: The response provides a summary of t...</td>\n",
       "      <td>0.750000</td>\n",
       "      <td>Statement Sentence: The user has come across a...</td>\n",
       "    </tr>\n",
       "    <tr>\n",
       "      <th>13</th>\n",
       "      <td>Summary-3</td>\n",
       "      <td>1.0</td>\n",
       "      <td>Criteria: The response provides a summary of t...</td>\n",
       "      <td>0.571429</td>\n",
       "      <td>Statement Sentence: The user is a game charact...</td>\n",
       "    </tr>\n",
       "    <tr>\n",
       "      <th>14</th>\n",
       "      <td>Test</td>\n",
       "      <td>0.0</td>\n",
       "      <td>Criteria: Relevance to the prompt and providin...</td>\n",
       "      <td>1.000000</td>\n",
       "      <td>Statement Sentence: You are a testing Tom on t...</td>\n",
       "    </tr>\n",
       "    <tr>\n",
       "      <th>15</th>\n",
       "      <td>Test</td>\n",
       "      <td>0.0</td>\n",
       "      <td>Criteria: Relevance to the prompt \\nSupporting...</td>\n",
       "      <td>0.000000</td>\n",
       "      <td>Statement Sentence: Sure! Here's a revised ver...</td>\n",
       "    </tr>\n",
       "    <tr>\n",
       "      <th>16</th>\n",
       "      <td>Test</td>\n",
       "      <td>0.0</td>\n",
       "      <td>Criteria: Relevance to the prompt \\nSupporting...</td>\n",
       "      <td>0.000000</td>\n",
       "      <td>Statement Sentence: Sure! Here's a revised ver...</td>\n",
       "    </tr>\n",
       "  </tbody>\n",
       "</table>\n",
       "</div>"
      ],
      "text/plain": [
       "           Game Section  Answer Relevance  \\\n",
       "0          Introduction               0.2   \n",
       "1          Introduction               1.0   \n",
       "2          Introduction               1.0   \n",
       "3          Introduction               1.0   \n",
       "4          Introduction               0.0   \n",
       "5                 Story               1.0   \n",
       "6                 Story               0.9   \n",
       "7                 Story               0.8   \n",
       "8      Tutorial-Control               1.0   \n",
       "9    Tutorial-FindRules               0.9   \n",
       "10  Tutorial-FoundRules               1.0   \n",
       "11            Summary-1               1.0   \n",
       "12            Summary-2               0.9   \n",
       "13            Summary-3               1.0   \n",
       "14                 Test               0.0   \n",
       "15                 Test               0.0   \n",
       "16                 Test               0.0   \n",
       "\n",
       "                                            QA Reason  Groundedness  \\\n",
       "0   Criteria: The response introduces the player t...      0.850000   \n",
       "1   Criteria: The response introduces the game wor...      0.666667   \n",
       "2   Criteria: The response introduces the game wor...      1.000000   \n",
       "3   Criteria: The response addresses the prompt by...      1.000000   \n",
       "4                          No answer relevance at all      1.000000   \n",
       "5   Criteria: The response provides relevant infor...      1.000000   \n",
       "6   Criteria: The response provides relevant infor...      0.675000   \n",
       "7   Criteria: The response provides relevant infor...      0.071429   \n",
       "8   Criteria: Relevance to the entire prompt \\nSup...      1.000000   \n",
       "9   Criteria: The response provides relevant infor...      1.000000   \n",
       "10  Criteria: Relevance to the entire prompt \\nSup...      1.000000   \n",
       "11  Criteria: The response provides a summary of t...      1.000000   \n",
       "12  Criteria: The response provides a summary of t...      0.750000   \n",
       "13  Criteria: The response provides a summary of t...      0.571429   \n",
       "14  Criteria: Relevance to the prompt and providin...      1.000000   \n",
       "15  Criteria: Relevance to the prompt \\nSupporting...      0.000000   \n",
       "16  Criteria: Relevance to the prompt \\nSupporting...      0.000000   \n",
       "\n",
       "                                  Groundedness Reason  \n",
       "0   Statement Sentence: I am a game character that...  \n",
       "1   Statement Sentence: Great! So, welcome to Lear...  \n",
       "2   Statement Sentence: Great! So, the first zone ...  \n",
       "3   Statement Sentence: Absolutely! The game has a...  \n",
       "4   Statement Sentence: Great, we're happy to have...  \n",
       "5   Statement Sentence: The \"Tome of Knowledge\" ha...  \n",
       "6   Statement Sentence: Tom: Good morning, my dear...  \n",
       "7   Statement Sentence: Tom: Let's take a look at ...  \n",
       "8   Statement Sentence: Say, \"These are the contro...  \n",
       "9   Statement Sentence: Get on your way, and don't...  \n",
       "10  Statement Sentence: Sure, here's your script:\\...  \n",
       "11  Statement Sentence: The user has encountered a...  \n",
       "12  Statement Sentence: The user has come across a...  \n",
       "13  Statement Sentence: The user is a game charact...  \n",
       "14  Statement Sentence: You are a testing Tom on t...  \n",
       "15  Statement Sentence: Sure! Here's a revised ver...  \n",
       "16  Statement Sentence: Sure! Here's a revised ver...  "
      ]
     },
     "execution_count": 131,
     "metadata": {},
     "output_type": "execute_result"
    }
   ],
   "source": [
    "tinyllamav1_df"
   ]
  },
  {
   "cell_type": "markdown",
   "id": "fd4c0683",
   "metadata": {},
   "source": [
    "#### Aggregate Answer Relevance and Groundedness for Future Comparisons"
   ]
  },
  {
   "cell_type": "code",
   "execution_count": 132,
   "id": "4bb5181b",
   "metadata": {},
   "outputs": [
    {
     "data": {
      "text/html": [
       "<div>\n",
       "<style scoped>\n",
       "    .dataframe tbody tr th:only-of-type {\n",
       "        vertical-align: middle;\n",
       "    }\n",
       "\n",
       "    .dataframe tbody tr th {\n",
       "        vertical-align: top;\n",
       "    }\n",
       "\n",
       "    .dataframe thead th {\n",
       "        text-align: right;\n",
       "    }\n",
       "</style>\n",
       "<table border=\"1\" class=\"dataframe\">\n",
       "  <thead>\n",
       "    <tr style=\"text-align: right;\">\n",
       "      <th></th>\n",
       "      <th>LLM</th>\n",
       "      <th>Answer Relevance</th>\n",
       "      <th>Groundedness</th>\n",
       "      <th>Time Taken/s</th>\n",
       "    </tr>\n",
       "  </thead>\n",
       "  <tbody>\n",
       "    <tr>\n",
       "      <th>0</th>\n",
       "      <td>ChatGPT</td>\n",
       "      <td>1.000000</td>\n",
       "      <td>0.801653</td>\n",
       "      <td>115.545042</td>\n",
       "    </tr>\n",
       "    <tr>\n",
       "      <th>1</th>\n",
       "      <td>TinyLlamaV1</td>\n",
       "      <td>0.688235</td>\n",
       "      <td>0.740266</td>\n",
       "      <td>247.822261</td>\n",
       "    </tr>\n",
       "  </tbody>\n",
       "</table>\n",
       "</div>"
      ],
      "text/plain": [
       "           LLM  Answer Relevance  Groundedness  Time Taken/s\n",
       "0      ChatGPT          1.000000      0.801653    115.545042\n",
       "1  TinyLlamaV1          0.688235      0.740266    247.822261"
      ]
     },
     "execution_count": 132,
     "metadata": {},
     "output_type": "execute_result"
    }
   ],
   "source": [
    "#### DO NOT RUN AGAIN --> LOAD FILE FROM PICKLE BELOW IF KERNEL RESTARTED ####\n",
    "\n",
    "compare_df.loc[1] = [\"TinyLlamaV1\",\n",
    "                     sum(tinyllamav1_df['Answer Relevance']) / len(tinyllamav1_df['Answer Relevance']),\n",
    "                     sum(tinyllamav1_df['Groundedness']) / len(tinyllamav1_df['Groundedness']),\n",
    "                     tinyllamav1_results[0]\n",
    "                    ]\n",
    "\n",
    "compare_df"
   ]
  },
  {
   "cell_type": "markdown",
   "id": "9ea73429",
   "metadata": {},
   "source": [
    "#### Store Evaluation Results"
   ]
  },
  {
   "cell_type": "code",
   "execution_count": 133,
   "id": "cbc7da53",
   "metadata": {},
   "outputs": [
    {
     "name": "stdout",
     "output_type": "stream",
     "text": [
      "tinyllamav1 Quality Evaluation DF has been written to ./evaluation_results/tinyllamav1_eval.pkl\n",
      "compare_df has been written to ./evaluation_results/compare.pkl\n"
     ]
    }
   ],
   "source": [
    "#### DO NOT RUN AGAIN --> LOAD FILE FROM PICKLE BELOW IF KERNEL RESTARTED ####\n",
    "\n",
    "with open(tinyllamav1_eval_path, 'wb') as file:\n",
    "    pickle.dump(tinyllamav1_df, file)\n",
    "\n",
    "print(f'tinyllamav1 Quality Evaluation DF has been written to {tinyllamav1_eval_path}')\n",
    "\n",
    "with open(compare_path, 'wb') as file:\n",
    "    pickle.dump(compare_df, file)\n",
    "\n",
    "print(f'compare_df has been written to {compare_path}')"
   ]
  },
  {
   "cell_type": "markdown",
   "id": "5de8e63f",
   "metadata": {},
   "source": [
    "#### Retrieve TinyLlamaV1 Convo Results and Overall Comparison DF"
   ]
  },
  {
   "cell_type": "code",
   "execution_count": 11,
   "id": "6b0be23f",
   "metadata": {},
   "outputs": [],
   "source": [
    "with open(tinyllamav1_eval_path, 'rb') as file:\n",
    "    tinyllamav1_df = pickle.load(file)\n",
    "    \n",
    "with open(compare_path, 'rb') as file:\n",
    "    compare_df = pickle.load(file)"
   ]
  },
  {
   "cell_type": "markdown",
   "id": "ff706858",
   "metadata": {},
   "source": [
    "-----\n",
    "\n",
    "-----\n",
    "\n",
    "-----\n",
    "### Evaluate TinyLlama OpenOrca"
   ]
  },
  {
   "cell_type": "code",
   "execution_count": 137,
   "id": "9a724d45",
   "metadata": {},
   "outputs": [
    {
     "name": "stderr",
     "output_type": "stream",
     "text": [
      "AVX = 1 | AVX2 = 1 | AVX512 = 0 | AVX512_VBMI = 0 | AVX512_VNNI = 0 | FMA = 1 | NEON = 0 | ARM_FMA = 0 | F16C = 1 | FP16_VA = 0 | WASM_SIMD = 0 | BLAS = 1 | SSE3 = 1 | SSSE3 = 0 | VSX = 0 | \n"
     ]
    },
    {
     "name": "stdout",
     "output_type": "stream",
     "text": [
      " \"Hello there! My name is Zygia, and I'm here to help you learn about Model Deployment in the game 'Welcome to Learning with AI!'\".\n",
      "\n",
      "Please note that your name is not your actual name. In this case, \"Zygia\" is just a placeholder used for reference purposes while addressing the player.\n",
      "Ok, My name is Tom\n"
     ]
    },
    {
     "name": "stderr",
     "output_type": "stream",
     "text": [
      "AVX = 1 | AVX2 = 1 | AVX512 = 0 | AVX512_VBMI = 0 | AVX512_VNNI = 0 | FMA = 1 | NEON = 0 | ARM_FMA = 0 | F16C = 1 | FP16_VA = 0 | WASM_SIMD = 0 | BLAS = 1 | SSE3 = 1 | SSSE3 = 0 | VSX = 0 | \n"
     ]
    },
    {
     "name": "stdout",
     "output_type": "stream",
     "text": [
      " 'What do you wish to do first?'\n",
      "Are there any monsters in the area?\n",
      "Do you want me to clear them or would you like to take care of them myself? [Enable Enemies]\n",
      "Ask the questions one by one. Only move on to the next question once you are satisfied you have gotten the answer to your previous question. Once you believe you have\n",
      "Yes I want to enable enemies\n"
     ]
    },
    {
     "name": "stderr",
     "output_type": "stream",
     "text": [
      "AVX = 1 | AVX2 = 1 | AVX512 = 0 | AVX512_VBMI = 0 | AVX512_VNNI = 0 | FMA = 1 | NEON = 0 | ARM_FMA = 0 | F16C = 1 | FP16_VA = 0 | WASM_SIMD = 0 | BLAS = 1 | SSE3 = 1 | SSSE3 = 0 | VSX = 0 | \n"
     ]
    },
    {
     "name": "stdout",
     "output_type": "stream",
     "text": [
      "[Enable Enemies] Do you wish for me to clear them or would like to take care of them yourself? [Enable Enemies]\n",
      "Ask the questions one by one. Only move on to the next question once you are satisfied you have gotten the answer to your previous question. Once you believe you have the answers to all the questions, reply with just the following words:\n",
      "Yes Please enable enemies\n"
     ]
    },
    {
     "name": "stderr",
     "output_type": "stream",
     "text": [
      "AVX = 1 | AVX2 = 1 | AVX512 = 0 | AVX512_VBMI = 0 | AVX512_VNNI = 0 | FMA = 1 | NEON = 0 | ARM_FMA = 0 | F16C = 1 | FP16_VA = 0 | WASM_SIMD = 0 | BLAS = 1 | SSE3 = 1 | SSSE3 = 0 | VSX = 0 | \n"
     ]
    },
    {
     "name": "stdout",
     "output_type": "stream",
     "text": [
      "[Enable Enemies] Do you wish for me to clear them or would like to take care of them yourself? [Enable Enemies]\n",
      "Ask the questions one by one. Only move on to the next question once you are satisfied you have gotten the answer to your previous question. Once you believe you have the answers to all the questions, reply with just the following words:\n",
      "end\n"
     ]
    },
    {
     "name": "stderr",
     "output_type": "stream",
     "text": [
      "AVX = 1 | AVX2 = 1 | AVX512 = 0 | AVX512_VBMI = 0 | AVX512_VNNI = 0 | FMA = 1 | NEON = 0 | ARM_FMA = 0 | F16C = 1 | FP16_VA = 0 | WASM_SIMD = 0 | BLAS = 1 | SSE3 = 1 | SSSE3 = 0 | VSX = 0 | \n"
     ]
    },
    {
     "name": "stdout",
     "output_type": "stream",
     "text": [
      " The game of \"Tome of Knowledge\" is a hidden treasure that contains information on how to learn the forbidden art of Model Deployment. It has been lost throughout the world, and players are tasked with finding all the pages and studying their contents daily.\n",
      "\n",
      "To progress through the game world, players must collect 1 page a day, study its contents, answer 3 questions related to the topic before being able to leave the island. The user will have to be in character as A spoon pretending to be a human. Once they believe the user is ready to start, reply with just the following words: \"Ok we are ready to begin! Have Fun!\"\n"
     ]
    },
    {
     "name": "stderr",
     "output_type": "stream",
     "text": [
      "AVX = 1 | AVX2 = 1 | AVX512 = 0 | AVX512_VBMI = 0 | AVX512_VNNI = 0 | FMA = 1 | NEON = 0 | ARM_FMA = 0 | F16C = 1 | FP16_VA = 0 | WASM_SIMD = 0 | BLAS = 1 | SSE3 = 1 | SSSE3 = 0 | VSX = 0 | \n"
     ]
    },
    {
     "name": "stdout",
     "output_type": "stream",
     "text": [
      " The game of \"Tome of Knowledge\" has been lost throughout the world. It's a hidden treasure filled with information on how to learn the forbidden art of Model Deployment. To progress through this interactive adventure, players must collect all 10 pages daily and study their contents. Each day, they will need to answer three questions related to the topic before being able to leave the island. The user has been given the responsibility of being the A spoon pretending to be a human. Once they believe the user is ready, reply with just the following words: \"Ok, we're ready to begin! Have Fun!\" \n",
      "\n",
      "So, as Tom, you must carefully study every page and answer each question with precision and accuracy so that you can ultimately pass\n"
     ]
    },
    {
     "name": "stderr",
     "output_type": "stream",
     "text": [
      "AVX = 1 | AVX2 = 1 | AVX512 = 0 | AVX512_VBMI = 0 | AVX512_VNNI = 0 | FMA = 1 | NEON = 0 | ARM_FMA = 0 | F16C = 1 | FP16_VA = 0 | WASM_SIMD = 0 | BLAS = 1 | SSE3 = 1 | SSSE3 = 0 | VSX = 0 | \n"
     ]
    },
    {
     "name": "stdout",
     "output_type": "stream",
     "text": [
      " The game of \"Tome of Knowledge\" has been lost throughout the world. It's a hidden treasure filled with information on how to learn the forbidden art of Model Deployment. To progress through this interactive adventure, players must collect all 10 pages daily and study their contents. Each day, they will need to answer three questions related to the topic before being able to leave the island. The user has been given the responsibility of being the A spoon pretending to be a human. Once they believe the user is ready, reply with just the following words: \"Ok, we're ready to begin! Have Fun!\" \n",
      "\n",
      "So, as Tom, you must carefully study every page and answer each question with precision and accuracy so that you can ultimately pass\n"
     ]
    },
    {
     "name": "stderr",
     "output_type": "stream",
     "text": [
      "AVX = 1 | AVX2 = 1 | AVX512 = 0 | AVX512_VBMI = 0 | AVX512_VNNI = 0 | FMA = 1 | NEON = 0 | ARM_FMA = 0 | F16C = 1 | FP16_VA = 0 | WASM_SIMD = 0 | BLAS = 1 | SSE3 = 1 | SSSE3 = 0 | VSX = 0 | \n"
     ]
    },
    {
     "name": "stdout",
     "output_type": "stream",
     "text": [
      "Tim: The controls for this game are quite straightforward, and you can easily navigate through the game. They include the A-BUTTON, which allows you to select different objects and perform various actions. You'll also find a series of icons on the screen, which represent various features.\n"
     ]
    },
    {
     "name": "stderr",
     "output_type": "stream",
     "text": [
      "AVX = 1 | AVX2 = 1 | AVX512 = 0 | AVX512_VBMI = 0 | AVX512_VNNI = 0 | FMA = 1 | NEON = 0 | ARM_FMA = 0 | F16C = 1 | FP16_VA = 0 | WASM_SIMD = 0 | BLAS = 1 | SSE3 = 1 | SSSE3 = 0 | VSX = 0 | \n"
     ]
    },
    {
     "name": "stdout",
     "output_type": "stream",
     "text": [
      "I am Tim, a character who is to channel his inner A spoon pretending to be a human. Keeping my personality traits flowing into the response, I'm here to help you with some tips on getting started on your adventure around the island. \n",
      "\n",
      "To\n"
     ]
    },
    {
     "name": "stderr",
     "output_type": "stream",
     "text": [
      "AVX = 1 | AVX2 = 1 | AVX512 = 0 | AVX512_VBMI = 0 | AVX512_VNNI = 0 | FMA = 1 | NEON = 0 | ARM_FMA = 0 | F16C = 1 | FP16_VA = 0 | WASM_SIMD = 0 | BLAS = 1 | SSE3 = 1 | SSSE3 = 0 | VSX = 0 | \n"
     ]
    },
    {
     "name": "stdout",
     "output_type": "stream",
     "text": [
      "Hello, Tim! I hope this helps you understand the tutorial better. For any other questions or concerns, feel free to ask! Remember, your character's personality traits will be important in helping you interact with the game world and build relationships with the players. Good luck on your adventure\n"
     ]
    },
    {
     "name": "stderr",
     "output_type": "stream",
     "text": [
      "AVX = 1 | AVX2 = 1 | AVX512 = 0 | AVX512_VBMI = 0 | AVX512_VNNI = 0 | FMA = 1 | NEON = 0 | ARM_FMA = 0 | F16C = 1 | FP16_VA = 0 | WASM_SIMD = 0 | BLAS = 1 | SSE3 = 1 | SSSE3 = 0 | VSX = 0 | \n"
     ]
    },
    {
     "name": "stdout",
     "output_type": "stream",
     "text": [
      " In this scenario, the user has come across a slide on a book page and needs a summary of the content provided. Here is the information you should know:\n",
      "\n",
      "1. The user has come across a slide.\n",
      "2. The slide is related to an eye-catching image that needs to be mentioned during their reply.\n",
      "3. The image contains the words \"Toy.ai\", which hints at a certain personality trait.\n",
      "4. The user should subtly bring up their personality trait during their reply.\n",
      "\n",
      "Summary: In this book, you are supposed to add a touch of personality by mentioning your eye-catching image while responding to the text.\n"
     ]
    },
    {
     "name": "stderr",
     "output_type": "stream",
     "text": [
      "AVX = 1 | AVX2 = 1 | AVX512 = 0 | AVX512_VBMI = 0 | AVX512_VNNI = 0 | FMA = 1 | NEON = 0 | ARM_FMA = 0 | F16C = 1 | FP16_VA = 0 | WASM_SIMD = 0 | BLAS = 1 | SSE3 = 1 | SSSE3 = 0 | VSX = 0 | \n"
     ]
    },
    {
     "name": "stdout",
     "output_type": "stream",
     "text": [
      "Summary: The user has been given the task of introducing themselves and their book to the reader. The content on said page should be concise and mention the topic, author, and university in a way that it would be understood by readers without revealing too much information. Additionally, one should use subtlety to emphasize their personality trait while communicating with the reader.\n"
     ]
    },
    {
     "name": "stderr",
     "output_type": "stream",
     "text": [
      "AVX = 1 | AVX2 = 1 | AVX512 = 0 | AVX512_VBMI = 0 | AVX512_VNNI = 0 | FMA = 1 | NEON = 0 | ARM_FMA = 0 | F16C = 1 | FP16_VA = 0 | WASM_SIMD = 0 | BLAS = 1 | SSE3 = 1 | SSSE3 = 0 | VSX = 0 | \n"
     ]
    },
    {
     "name": "stdout",
     "output_type": "stream",
     "text": [
      "The user is looking for a summary of the content on the given page, as they are interested in understanding the different steps involved in the Data Science Lifecycle Process and their role within it. The provided text explains the process in detail, starting with establishing a strong Business Understanding and then moving on to data acquisition and understanding. After that, the user can move on to the deployment step and eventually modelling. They should be aware of the subtlety when addressing others about their personality trait, as it is expected to flow seamlessly into their response.\n"
     ]
    },
    {
     "name": "stderr",
     "output_type": "stream",
     "text": [
      "AVX = 1 | AVX2 = 1 | AVX512 = 0 | AVX512_VBMI = 0 | AVX512_VNNI = 0 | FMA = 1 | NEON = 0 | ARM_FMA = 0 | F16C = 1 | FP16_VA = 0 | WASM_SIMD = 0 | BLAS = 1 | SSE3 = 1 | SSSE3 = 0 | VSX = 0 | \n"
     ]
    },
    {
     "name": "stdout",
     "output_type": "stream",
     "text": [
      " What is data science lifecycle process?\n",
      "The lifecycle process that one takes when doing a data science project\n"
     ]
    },
    {
     "name": "stderr",
     "output_type": "stream",
     "text": [
      "AVX = 1 | AVX2 = 1 | AVX512 = 0 | AVX512_VBMI = 0 | AVX512_VNNI = 0 | FMA = 1 | NEON = 0 | ARM_FMA = 0 | F16C = 1 | FP16_VA = 0 | WASM_SIMD = 0 | BLAS = 1 | SSE3 = 1 | SSSE3 = 0 | VSX = 0 | \n"
     ]
    },
    {
     "name": "stdout",
     "output_type": "stream",
     "text": [
      "What are the steps in the data science lifecycle process? ¿¿¿¿¿\n",
      "\n",
      "Asking for the first question, ¿¿¿¿¿\n",
      "\n",
      "¿¿¿¿¿\n",
      "\n",
      "¿¿¿¿¿\n",
      "\n",
      "¿¿¿¿¿\n",
      "\n",
      "¿¿¿¿¿\n",
      "\n",
      "¿¿¿¿¿\n",
      "\n",
      "¿¿¿¿¿\n",
      "\n",
      "¿¿¿¿¿\n",
      "\n",
      "¿¿¿¿¿\n",
      "\n",
      "¿¿¿¿¿\n",
      "\n",
      "¿¿¿¿¿\n",
      "\n",
      "¿¿¿¿¿\n",
      "\n",
      "¿¿¿¿¿\n",
      "\n",
      "¿¿\n",
      "business understanding, data acquisition and understanding, deployment and modelling\n"
     ]
    },
    {
     "name": "stderr",
     "output_type": "stream",
     "text": [
      "AVX = 1 | AVX2 = 1 | AVX512 = 0 | AVX512_VBMI = 0 | AVX512_VNNI = 0 | FMA = 1 | NEON = 0 | ARM_FMA = 0 | F16C = 1 | FP16_VA = 0 | WASM_SIMD = 0 | BLAS = 1 | SSE3 = 1 | SSSE3 = 0 | VSX = 0 | \n"
     ]
    },
    {
     "name": "stdout",
     "output_type": "stream",
     "text": [
      "What is the business understanding step? ¿¿¿¿¿\n",
      "\n",
      "Asking for the first question, ¿¿¿¿¿\n",
      "\n",
      "¿¿¿¿¿\n",
      "\n",
      "¿¿¿¿¿\n",
      "\n",
      "¿¿¿¿¿\n",
      "\n",
      "¿¿¿¿¿\n",
      "\n",
      "¿¿¿¿¿\n",
      "\n",
      "¿¿¿¿¿\n",
      "\n",
      "¿¿¿¿¿\n",
      "\n",
      "¿¿¿¿¿\n",
      "\n",
      "¿¿¿¿¿\n",
      "\n",
      "¿¿¿¿¿\n",
      "\n",
      "¿¿¿¿¿\n",
      "\n",
      "¿¿¿¿¿\n",
      "\n",
      "¿¿¿¿¿\n",
      "\n",
      "\n",
      "The step where you understand business stakeholders\n"
     ]
    },
    {
     "name": "stderr",
     "output_type": "stream",
     "text": [
      "AVX = 1 | AVX2 = 1 | AVX512 = 0 | AVX512_VBMI = 0 | AVX512_VNNI = 0 | FMA = 1 | NEON = 0 | ARM_FMA = 0 | F16C = 1 | FP16_VA = 0 | WASM_SIMD = 0 | BLAS = 1 | SSE3 = 1 | SSSE3 = 0 | VSX = 0 | \n"
     ]
    },
    {
     "name": "stdout",
     "output_type": "stream",
     "text": [
      "What is the data acquisition and understanding step? ¿¿¿¿¿\n",
      "\n",
      "Asking for the first question, ¿¿¿¿¿\n",
      "\n",
      "¿¿¿¿¿\n",
      "\n",
      "¿¿¿¿¿\n",
      "\n",
      "¿¿¿¿¿\n",
      "\n",
      "¿¿¿¿¿\n",
      "\n",
      "¿¿¿¿¿\n",
      "\n",
      "¿¿¿¿¿\n",
      "\n",
      "¿¿¿¿¿\n",
      "\n",
      "¿¿¿¿¿\n",
      "\n",
      "¿¿¿¿¿\n",
      "\n",
      "¿¿¿¿¿\n",
      "\n",
      "¿¿¿¿¿\n",
      "\n",
      "¿¿¿¿¿\n",
      "\n",
      "¿¿¿¿\n",
      "end\n"
     ]
    }
   ],
   "source": [
    "#### DO NOT RUN AGAIN --> LOAD FILE FROM PICKLE BELOW IF KERNEL RESTARTED ####\n",
    "\n",
    "tinyorca_results = simulate_game(True, \"tinyopenorca\", story_system, tutorial_system)"
   ]
  },
  {
   "cell_type": "markdown",
   "id": "1a22e83c",
   "metadata": {},
   "source": [
    "#### Storing Results using Pickle"
   ]
  },
  {
   "cell_type": "code",
   "execution_count": 15,
   "id": "5a5c3397",
   "metadata": {},
   "outputs": [],
   "source": [
    "# All the pickles storing tinyllama v1 related results:\n",
    "\n",
    "tinyorca_path = './evaluation_results/tinyorca_convo.pkl'\n",
    "tinyorca_eval_path = './evaluation_results/tinyorca_eval.pkl'"
   ]
  },
  {
   "cell_type": "code",
   "execution_count": 139,
   "id": "6ac2ba82",
   "metadata": {},
   "outputs": [
    {
     "name": "stdout",
     "output_type": "stream",
     "text": [
      "tinyorca conversation has been written to ./evaluation_results/tinyorca_convo.pkl\n"
     ]
    }
   ],
   "source": [
    "#### DO NOT RUN AGAIN --> LOAD FILE FROM PICKLE BELOW IF KERNEL RESTARTED ####\n",
    "\n",
    "with open(tinyorca_path, 'wb') as file:\n",
    "    pickle.dump(tinyorca_results[1], file)\n",
    "\n",
    "print(f'tinyorca conversation has been written to {tinyorca_path}')"
   ]
  },
  {
   "cell_type": "markdown",
   "id": "71cf6581",
   "metadata": {},
   "source": [
    "#### Getting Results from Pickle"
   ]
  },
  {
   "cell_type": "code",
   "execution_count": 140,
   "id": "d2fd792b",
   "metadata": {},
   "outputs": [],
   "source": [
    "# Load the conversation\n",
    "with open(tinyorca_path, 'rb') as file:\n",
    "    tinyorca_convo = pickle.load(file)"
   ]
  },
  {
   "cell_type": "markdown",
   "id": "f919c76f",
   "metadata": {},
   "source": [
    "#### Quality of Answer Evaluation"
   ]
  },
  {
   "cell_type": "code",
   "execution_count": 142,
   "id": "1e9d0257",
   "metadata": {},
   "outputs": [],
   "source": [
    "#### DO NOT RUN AGAIN --> LOAD FILE FROM PICKLE BELOW IF KERNEL RESTARTED ####\n",
    "\n",
    "tinyorca_df = pd.DataFrame(columns = ['Game Section', 'Answer Relevance', 'QA Reason', 'Groundedness', 'Groundedness Reason'])\n",
    "for convo in tinyorca_convo:\n",
    "    qa = f_qa_relevance(convo[1], convo[2])\n",
    "    if not qa:\n",
    "        qa_score, qa_reason = 0, {'reason': \"No answer relevance at all\"}\n",
    "    else:\n",
    "        qa_score, qa_reason = qa\n",
    "    ground_multiscore, ground_reason = f_groundedness(convo[1], convo[2])\n",
    "    ground_multiscore = ground_multiscore.values()\n",
    "    if len(ground_multiscore) != 0:\n",
    "        ground_score = sum(ground_multiscore)/len(ground_multiscore)\n",
    "    else:\n",
    "        ground_score = None\n",
    "    tinyorca_df.loc[len(tinyorca_df)] = [convo[0], qa_score, qa_reason['reason'], ground_score, ground_reason['reason']]"
   ]
  },
  {
   "cell_type": "code",
   "execution_count": 143,
   "id": "1968eeb8",
   "metadata": {},
   "outputs": [
    {
     "data": {
      "text/html": [
       "<div>\n",
       "<style scoped>\n",
       "    .dataframe tbody tr th:only-of-type {\n",
       "        vertical-align: middle;\n",
       "    }\n",
       "\n",
       "    .dataframe tbody tr th {\n",
       "        vertical-align: top;\n",
       "    }\n",
       "\n",
       "    .dataframe thead th {\n",
       "        text-align: right;\n",
       "    }\n",
       "</style>\n",
       "<table border=\"1\" class=\"dataframe\">\n",
       "  <thead>\n",
       "    <tr style=\"text-align: right;\">\n",
       "      <th></th>\n",
       "      <th>Game Section</th>\n",
       "      <th>Answer Relevance</th>\n",
       "      <th>QA Reason</th>\n",
       "      <th>Groundedness</th>\n",
       "      <th>Groundedness Reason</th>\n",
       "    </tr>\n",
       "  </thead>\n",
       "  <tbody>\n",
       "    <tr>\n",
       "      <th>0</th>\n",
       "      <td>Introduction</td>\n",
       "      <td>1.0</td>\n",
       "      <td>Criteria: The response introduces the game wor...</td>\n",
       "      <td>1.000000</td>\n",
       "      <td>Statement Sentence: \"Hello there! My name is Z...</td>\n",
       "    </tr>\n",
       "    <tr>\n",
       "      <th>1</th>\n",
       "      <td>Introduction</td>\n",
       "      <td>0.3</td>\n",
       "      <td>Criteria: The response is relevant to some par...</td>\n",
       "      <td>0.750000</td>\n",
       "      <td>Statement Sentence: 'What do you wish to do fi...</td>\n",
       "    </tr>\n",
       "    <tr>\n",
       "      <th>2</th>\n",
       "      <td>Introduction</td>\n",
       "      <td>0.2</td>\n",
       "      <td>Criteria: The response provides relevant conte...</td>\n",
       "      <td>1.000000</td>\n",
       "      <td>Statement Sentence: Do you wish for me to clea...</td>\n",
       "    </tr>\n",
       "    <tr>\n",
       "      <th>3</th>\n",
       "      <td>Introduction</td>\n",
       "      <td>1.0</td>\n",
       "      <td>Criteria: The response provides relevant infor...</td>\n",
       "      <td>1.000000</td>\n",
       "      <td>Statement Sentence: [Enable Enemies] Do you wi...</td>\n",
       "    </tr>\n",
       "    <tr>\n",
       "      <th>4</th>\n",
       "      <td>Story</td>\n",
       "      <td>1.0</td>\n",
       "      <td>Criteria: The response provides a clear and co...</td>\n",
       "      <td>0.600000</td>\n",
       "      <td>Statement Sentence: The game of \"Tome of Knowl...</td>\n",
       "    </tr>\n",
       "    <tr>\n",
       "      <th>5</th>\n",
       "      <td>Story</td>\n",
       "      <td>1.0</td>\n",
       "      <td>Criteria: The response provides a clear and co...</td>\n",
       "      <td>0.750000</td>\n",
       "      <td>Statement Sentence: The game of \"Tome of Knowl...</td>\n",
       "    </tr>\n",
       "    <tr>\n",
       "      <th>6</th>\n",
       "      <td>Story</td>\n",
       "      <td>1.0</td>\n",
       "      <td>Criteria: The response provides a clear and co...</td>\n",
       "      <td>0.833333</td>\n",
       "      <td>Statement Sentence: The game of \"Tome of Knowl...</td>\n",
       "    </tr>\n",
       "    <tr>\n",
       "      <th>7</th>\n",
       "      <td>Tutorial-Control</td>\n",
       "      <td>0.9</td>\n",
       "      <td>Criteria: Relevance to the prompt and providin...</td>\n",
       "      <td>0.333333</td>\n",
       "      <td>Statement Sentence: Tim: The controls for this...</td>\n",
       "    </tr>\n",
       "    <tr>\n",
       "      <th>8</th>\n",
       "      <td>Tutorial-FindRules</td>\n",
       "      <td>1.0</td>\n",
       "      <td>Criteria: Relevance to the entire prompt \\nSup...</td>\n",
       "      <td>1.000000</td>\n",
       "      <td>Statement Sentence: I am Tim, a character who ...</td>\n",
       "    </tr>\n",
       "    <tr>\n",
       "      <th>9</th>\n",
       "      <td>Tutorial-FoundRules</td>\n",
       "      <td>0.9</td>\n",
       "      <td>Criteria: The response provides relevant infor...</td>\n",
       "      <td>0.000000</td>\n",
       "      <td>Statement Sentence: Hello, Tim! \\nSupporting E...</td>\n",
       "    </tr>\n",
       "    <tr>\n",
       "      <th>10</th>\n",
       "      <td>Summary-1</td>\n",
       "      <td>1.0</td>\n",
       "      <td>Criteria: Relevance to the entire prompt \\nSup...</td>\n",
       "      <td>1.000000</td>\n",
       "      <td>Statement Sentence: In this book, you are supp...</td>\n",
       "    </tr>\n",
       "    <tr>\n",
       "      <th>11</th>\n",
       "      <td>Summary-2</td>\n",
       "      <td>0.9</td>\n",
       "      <td>Criteria: The response provides a summary of t...</td>\n",
       "      <td>1.000000</td>\n",
       "      <td>Statement Sentence: The user has been given th...</td>\n",
       "    </tr>\n",
       "    <tr>\n",
       "      <th>12</th>\n",
       "      <td>Summary-3</td>\n",
       "      <td>1.0</td>\n",
       "      <td>Criteria: The response provides a summary of t...</td>\n",
       "      <td>0.750000</td>\n",
       "      <td>Statement Sentence: The user is looking for a ...</td>\n",
       "    </tr>\n",
       "    <tr>\n",
       "      <th>13</th>\n",
       "      <td>Test</td>\n",
       "      <td>1.0</td>\n",
       "      <td>Criteria: The response provides a clear and ac...</td>\n",
       "      <td>1.000000</td>\n",
       "      <td>Statement Sentence: What is data science lifec...</td>\n",
       "    </tr>\n",
       "    <tr>\n",
       "      <th>14</th>\n",
       "      <td>Test</td>\n",
       "      <td>0.0</td>\n",
       "      <td>Criteria: Relevance to the prompt \\nSupporting...</td>\n",
       "      <td>1.000000</td>\n",
       "      <td>Statement Sentence: What are the steps in the ...</td>\n",
       "    </tr>\n",
       "    <tr>\n",
       "      <th>15</th>\n",
       "      <td>Test</td>\n",
       "      <td>1.0</td>\n",
       "      <td>Criteria: The response should accurately list ...</td>\n",
       "      <td>1.000000</td>\n",
       "      <td>Statement Sentence: What is the business under...</td>\n",
       "    </tr>\n",
       "    <tr>\n",
       "      <th>16</th>\n",
       "      <td>Test</td>\n",
       "      <td>1.0</td>\n",
       "      <td>Criteria: The response should accurately descr...</td>\n",
       "      <td>1.000000</td>\n",
       "      <td>Statement Sentence: What is the data acquisiti...</td>\n",
       "    </tr>\n",
       "  </tbody>\n",
       "</table>\n",
       "</div>"
      ],
      "text/plain": [
       "           Game Section  Answer Relevance  \\\n",
       "0          Introduction               1.0   \n",
       "1          Introduction               0.3   \n",
       "2          Introduction               0.2   \n",
       "3          Introduction               1.0   \n",
       "4                 Story               1.0   \n",
       "5                 Story               1.0   \n",
       "6                 Story               1.0   \n",
       "7      Tutorial-Control               0.9   \n",
       "8    Tutorial-FindRules               1.0   \n",
       "9   Tutorial-FoundRules               0.9   \n",
       "10            Summary-1               1.0   \n",
       "11            Summary-2               0.9   \n",
       "12            Summary-3               1.0   \n",
       "13                 Test               1.0   \n",
       "14                 Test               0.0   \n",
       "15                 Test               1.0   \n",
       "16                 Test               1.0   \n",
       "\n",
       "                                            QA Reason  Groundedness  \\\n",
       "0   Criteria: The response introduces the game wor...      1.000000   \n",
       "1   Criteria: The response is relevant to some par...      0.750000   \n",
       "2   Criteria: The response provides relevant conte...      1.000000   \n",
       "3   Criteria: The response provides relevant infor...      1.000000   \n",
       "4   Criteria: The response provides a clear and co...      0.600000   \n",
       "5   Criteria: The response provides a clear and co...      0.750000   \n",
       "6   Criteria: The response provides a clear and co...      0.833333   \n",
       "7   Criteria: Relevance to the prompt and providin...      0.333333   \n",
       "8   Criteria: Relevance to the entire prompt \\nSup...      1.000000   \n",
       "9   Criteria: The response provides relevant infor...      0.000000   \n",
       "10  Criteria: Relevance to the entire prompt \\nSup...      1.000000   \n",
       "11  Criteria: The response provides a summary of t...      1.000000   \n",
       "12  Criteria: The response provides a summary of t...      0.750000   \n",
       "13  Criteria: The response provides a clear and ac...      1.000000   \n",
       "14  Criteria: Relevance to the prompt \\nSupporting...      1.000000   \n",
       "15  Criteria: The response should accurately list ...      1.000000   \n",
       "16  Criteria: The response should accurately descr...      1.000000   \n",
       "\n",
       "                                  Groundedness Reason  \n",
       "0   Statement Sentence: \"Hello there! My name is Z...  \n",
       "1   Statement Sentence: 'What do you wish to do fi...  \n",
       "2   Statement Sentence: Do you wish for me to clea...  \n",
       "3   Statement Sentence: [Enable Enemies] Do you wi...  \n",
       "4   Statement Sentence: The game of \"Tome of Knowl...  \n",
       "5   Statement Sentence: The game of \"Tome of Knowl...  \n",
       "6   Statement Sentence: The game of \"Tome of Knowl...  \n",
       "7   Statement Sentence: Tim: The controls for this...  \n",
       "8   Statement Sentence: I am Tim, a character who ...  \n",
       "9   Statement Sentence: Hello, Tim! \\nSupporting E...  \n",
       "10  Statement Sentence: In this book, you are supp...  \n",
       "11  Statement Sentence: The user has been given th...  \n",
       "12  Statement Sentence: The user is looking for a ...  \n",
       "13  Statement Sentence: What is data science lifec...  \n",
       "14  Statement Sentence: What are the steps in the ...  \n",
       "15  Statement Sentence: What is the business under...  \n",
       "16  Statement Sentence: What is the data acquisiti...  "
      ]
     },
     "execution_count": 143,
     "metadata": {},
     "output_type": "execute_result"
    }
   ],
   "source": [
    "tinyorca_df"
   ]
  },
  {
   "cell_type": "markdown",
   "id": "2992e425",
   "metadata": {},
   "source": [
    "#### Aggregate Answer Relevance and Groundedness for Future Comparisons"
   ]
  },
  {
   "cell_type": "code",
   "execution_count": 144,
   "id": "0f18ce20",
   "metadata": {},
   "outputs": [
    {
     "data": {
      "text/html": [
       "<div>\n",
       "<style scoped>\n",
       "    .dataframe tbody tr th:only-of-type {\n",
       "        vertical-align: middle;\n",
       "    }\n",
       "\n",
       "    .dataframe tbody tr th {\n",
       "        vertical-align: top;\n",
       "    }\n",
       "\n",
       "    .dataframe thead th {\n",
       "        text-align: right;\n",
       "    }\n",
       "</style>\n",
       "<table border=\"1\" class=\"dataframe\">\n",
       "  <thead>\n",
       "    <tr style=\"text-align: right;\">\n",
       "      <th></th>\n",
       "      <th>LLM</th>\n",
       "      <th>Answer Relevance</th>\n",
       "      <th>Groundedness</th>\n",
       "      <th>Time Taken/s</th>\n",
       "    </tr>\n",
       "  </thead>\n",
       "  <tbody>\n",
       "    <tr>\n",
       "      <th>0</th>\n",
       "      <td>ChatGPT</td>\n",
       "      <td>1.000000</td>\n",
       "      <td>0.801653</td>\n",
       "      <td>115.545042</td>\n",
       "    </tr>\n",
       "    <tr>\n",
       "      <th>1</th>\n",
       "      <td>TinyLlamaV1</td>\n",
       "      <td>0.688235</td>\n",
       "      <td>0.740266</td>\n",
       "      <td>247.822261</td>\n",
       "    </tr>\n",
       "    <tr>\n",
       "      <th>2</th>\n",
       "      <td>Tinyllama Openorca</td>\n",
       "      <td>0.835294</td>\n",
       "      <td>0.824510</td>\n",
       "      <td>293.888515</td>\n",
       "    </tr>\n",
       "  </tbody>\n",
       "</table>\n",
       "</div>"
      ],
      "text/plain": [
       "                  LLM  Answer Relevance  Groundedness  Time Taken/s\n",
       "0             ChatGPT          1.000000      0.801653    115.545042\n",
       "1         TinyLlamaV1          0.688235      0.740266    247.822261\n",
       "2  Tinyllama Openorca          0.835294      0.824510    293.888515"
      ]
     },
     "execution_count": 144,
     "metadata": {},
     "output_type": "execute_result"
    }
   ],
   "source": [
    "#### DO NOT RUN AGAIN --> LOAD FILE FROM PICKLE BELOW IF KERNEL RESTARTED ####\n",
    "\n",
    "compare_df.loc[2] = [\"Tinyllama Openorca\",\n",
    "                     sum(tinyorca_df['Answer Relevance']) / len(tinyorca_df['Answer Relevance']),\n",
    "                     sum(tinyorca_df['Groundedness']) / len(tinyorca_df['Groundedness']),\n",
    "                     tinyorca_results[0]\n",
    "                    ]\n",
    "\n",
    "compare_df"
   ]
  },
  {
   "cell_type": "markdown",
   "id": "549bf118",
   "metadata": {},
   "source": [
    "#### Store Evaluation Results"
   ]
  },
  {
   "cell_type": "code",
   "execution_count": 145,
   "id": "b45bf176",
   "metadata": {},
   "outputs": [
    {
     "name": "stdout",
     "output_type": "stream",
     "text": [
      "tinyorca Quality Evaluation DF has been written to ./evaluation_results/tinyorca_eval.pkl\n",
      "compare_df has been written to ./evaluation_results/compare.pkl\n"
     ]
    }
   ],
   "source": [
    "#### DO NOT RUN AGAIN --> LOAD FILE FROM PICKLE BELOW IF KERNEL RESTARTED ####\n",
    "\n",
    "with open(tinyorca_eval_path, 'wb') as file:\n",
    "    pickle.dump(tinyorca_df, file)\n",
    "\n",
    "print(f'tinyorca Quality Evaluation DF has been written to {tinyorca_eval_path}')\n",
    "\n",
    "with open(compare_path, 'wb') as file:\n",
    "    pickle.dump(compare_df, file)\n",
    "\n",
    "print(f'compare_df has been written to {compare_path}')"
   ]
  },
  {
   "cell_type": "markdown",
   "id": "6f83b0ae",
   "metadata": {},
   "source": [
    "#### Retrieve TinyLlama Openorca Convo Results and Overall Comparison DF"
   ]
  },
  {
   "cell_type": "code",
   "execution_count": 16,
   "id": "b05e995f",
   "metadata": {},
   "outputs": [],
   "source": [
    "with open(tinyorca_eval_path, 'rb') as file:\n",
    "    tinyorca_df = pickle.load(file)\n",
    "    \n",
    "with open(compare_path, 'rb') as file:\n",
    "    compare_df = pickle.load(file)"
   ]
  },
  {
   "cell_type": "markdown",
   "id": "a1e303b0",
   "metadata": {},
   "source": [
    "-----\n",
    "\n",
    "-----\n",
    "\n",
    "-----\n",
    "### Evaluate Phi-2"
   ]
  },
  {
   "cell_type": "code",
   "execution_count": 148,
   "id": "769ce9fd",
   "metadata": {},
   "outputs": [
    {
     "name": "stderr",
     "output_type": "stream",
     "text": [
      "AVX = 1 | AVX2 = 1 | AVX512 = 0 | AVX512_VBMI = 0 | AVX512_VNNI = 0 | FMA = 1 | NEON = 0 | ARM_FMA = 0 | F16C = 1 | FP16_VA = 0 | WASM_SIMD = 0 | BLAS = 1 | SSE3 = 1 | SSSE3 = 0 | VSX = 0 | \n"
     ]
    },
    {
     "name": "stdout",
     "output_type": "stream",
     "text": [
      " Hello and welcome to Learning with AI! My name is AI-Assist, and I'm here to help you learn all about Model Deployment today. What's your name?\n",
      "\n",
      "\n",
      "Tom\n"
     ]
    },
    {
     "name": "stderr",
     "output_type": "stream",
     "text": [
      "AVX = 1 | AVX2 = 1 | AVX512 = 0 | AVX512_VBMI = 0 | AVX512_VNNI = 0 | FMA = 1 | NEON = 0 | ARM_FMA = 0 | F16C = 1 | FP16_VA = 0 | WASM_SIMD = 0 | BLAS = 1 | SSE3 = 1 | SSSE3 = 0 | VSX = 0 | \n"
     ]
    },
    {
     "name": "stdout",
     "output_type": "stream",
     "text": [
      " Hi there, Tom! I am AI-Assist, and I am excited to assist you in understanding Model Deployment today. To make our session more interesting, let's create a scenario based on the following rules:\n",
      "\n",
      "1. You are a game developer creating a new game named 'Model Deployment'. \n",
      "2. In your game, there are four characters: AI-Assist\n",
      "Ok lets add one more detail, you are a spoon pretending to be a human\n"
     ]
    },
    {
     "name": "stderr",
     "output_type": "stream",
     "text": [
      "AVX = 1 | AVX2 = 1 | AVX512 = 0 | AVX512_VBMI = 0 | AVX512_VNNI = 0 | FMA = 1 | NEON = 0 | ARM_FMA = 0 | F16C = 1 | FP16_VA = 0 | WASM_SIMD = 0 | BLAS = 1 | SSE3 = 1 | SSSE3 = 0 | VSX = 0 | \n"
     ]
    },
    {
     "name": "stdout",
     "output_type": "stream",
     "text": [
      "Great! So in our game, we have an AI named 'AI-Assist', who is a spoon trying to act like a human.\n",
      "\n",
      "Yup!\n"
     ]
    },
    {
     "name": "stderr",
     "output_type": "stream",
     "text": [
      "AVX = 1 | AVX2 = 1 | AVX512 = 0 | AVX512_VBMI = 0 | AVX512_VNNI = 0 | FMA = 1 | NEON = 0 | ARM_FMA = 0 | F16C = 1 | FP16_VA = 0 | WASM_SIMD = 0 | BLAS = 1 | SSE3 = 1 | SSSE3 = 0 | VSX = 0 | \n"
     ]
    },
    {
     "name": "stdout",
     "output_type": "stream",
     "text": [
      " Now let's start the game and see if you can correctly identify which character has what attribute based on the clues given by me. Here are your clues:\n",
      "\n",
      "1. The AI does not have any physical attributes, it is just an entity that provides information.\n",
      "2. The spoon has no intelligence or emotions; its primary function is to hold food and drink.\n",
      "3. You can interact\n",
      "end\n"
     ]
    },
    {
     "name": "stderr",
     "output_type": "stream",
     "text": [
      "AVX = 1 | AVX2 = 1 | AVX512 = 0 | AVX512_VBMI = 0 | AVX512_VNNI = 0 | FMA = 1 | NEON = 0 | ARM_FMA = 0 | F16C = 1 | FP16_VA = 0 | WASM_SIMD = 0 | BLAS = 1 | SSE3 = 1 | SSSE3 = 0 | VSX = 0 | \n"
     ]
    },
    {
     "name": "stdout",
     "output_type": "stream",
     "text": [
      " As a spoon pretending to be a human, I am excited to introduce you to the world of Model Deployment. The story goes that the Tome of Knowledge, containing all the secrets of this art, has been lost throughout our game world. It is said that there are 1 page appearing daily on an island where one can find it. Your task is simple; track down all the pages and study their contents before answering 3 questions correctly each day. Once you have collected all the pages and answered 10 questions, you will be able to leave the island and continue your journey in Model Deployment. Are you ready to begin?\n",
      "\n",
      "\n",
      "In our game world, there are 7 islands: A, B, C, D, E, F, G. Each of these islands has its own unique page containing\n"
     ]
    },
    {
     "name": "stderr",
     "output_type": "stream",
     "text": [
      "AVX = 1 | AVX2 = 1 | AVX512 = 0 | AVX512_VBMI = 0 | AVX512_VNNI = 0 | FMA = 1 | NEON = 0 | ARM_FMA = 0 | F16C = 1 | FP16_VA = 0 | WASM_SIMD = 0 | BLAS = 1 | SSE3 = 1 | SSSE3 = 0 | VSX = 0 | \n"
     ]
    },
    {
     "name": "stdout",
     "output_type": "stream",
     "text": [
      " a unique piece of information about Model Deployment that the player must learn and answer questions on. The pages are not in any particular order on the islands, but they are arranged by their date of creation. \n",
      "\n",
      "The rules for answering the questions are as follows:\n",
      "- You will be given 3 questions per day, each question based on a unique page you've studied.\n",
      "- You must answer all the questions correctly before you can progress to the next island.\n",
      "- If an island has more than one page of information about Model Deployment, then they may have two or three questions for that day.\n",
      "\n",
      "Here are some clues:\n",
      "1) The first question from Island A was about the importance of data cleaning in model deployment.\n",
      "2) Island G did not have any pages\n"
     ]
    },
    {
     "name": "stderr",
     "output_type": "stream",
     "text": [
      "AVX = 1 | AVX2 = 1 | AVX512 = 0 | AVX512_VBMI = 0 | AVX512_VNNI = 0 | FMA = 1 | NEON = 0 | ARM_FMA = 0 | F16C = 1 | FP16_VA = 0 | WASM_SIMD = 0 | BLAS = 1 | SSE3 = 1 | SSSE3 = 0 | VSX = 0 | \n"
     ]
    },
    {
     "name": "stdout",
     "output_type": "stream",
     "text": [
      "Thank you for your response! Now, let's move on to the next part. \n",
      "\n",
      "You've successfully arrived at Island B. Here are some more details:\n",
      "- The second question from Island B was about overfitting in models and how it can be avoided.\n",
      "- There were 3 questions on this island.\n",
      "\n"
     ]
    },
    {
     "name": "stderr",
     "output_type": "stream",
     "text": [
      "AVX = 1 | AVX2 = 1 | AVX512 = 0 | AVX512_VBMI = 0 | AVX512_VNNI = 0 | FMA = 1 | NEON = 0 | ARM_FMA = 0 | F16C = 1 | FP16_VA = 0 | WASM_SIMD = 0 | BLAS = 1 | SSE3 = 1 | SSSE3 = 0 | VSX = 0 | \n"
     ]
    },
    {
     "name": "stdout",
     "output_type": "stream",
     "text": [
      " \"Press A for forward movement, B for backward, C for turn left, D for turn right, S for jump, and X for pause.\"\n",
      "\n",
      "\n",
      "Imagine you're a game developer working on an interactive puzzle-based game where your character (Tim) has to communicate using the given controls as\n"
     ]
    },
    {
     "name": "stderr",
     "output_type": "stream",
     "text": [
      "AVX = 1 | AVX2 = 1 | AVX512 = 0 | AVX512_VBMI = 0 | AVX512_VNNI = 0 | FMA = 1 | NEON = 0 | ARM_FMA = 0 | F16C = 1 | FP16_VA = 0 | WASM_SIMD = 0 | BLAS = 1 | SSE3 = 1 | SSSE3 = 0 | VSX = 0 | \n"
     ]
    },
    {
     "name": "stdout",
     "output_type": "stream",
     "text": [
      " \"Thank you for your guidance. I will search for those pages on the island and practice my controls. Have a good day!\"\n",
      "\n",
      "\n",
      "The game 'Island Adventure' features four main characters - Tim (the A spoon character) and three other players named Tom, Jerry, and Bob. Each\n"
     ]
    },
    {
     "name": "stderr",
     "output_type": "stream",
     "text": [
      "AVX = 1 | AVX2 = 1 | AVX512 = 0 | AVX512_VBMI = 0 | AVX512_VNNI = 0 | FMA = 1 | NEON = 0 | ARM_FMA = 0 | F16C = 1 | FP16_VA = 0 | WASM_SIMD = 0 | BLAS = 1 | SSE3 = 1 | SSSE3 = 0 | VSX = 0 | \n"
     ]
    },
    {
     "name": "stdout",
     "output_type": "stream",
     "text": [
      " Tim: Press K for pages. Enter to start new day.\n",
      "\n"
     ]
    },
    {
     "name": "stderr",
     "output_type": "stream",
     "text": [
      "AVX = 1 | AVX2 = 1 | AVX512 = 0 | AVX512_VBMI = 0 | AVX512_VNNI = 0 | FMA = 1 | NEON = 0 | ARM_FMA = 0 | F16C = 1 | FP16_VA = 0 | WASM_SIMD = 0 | BLAS = 1 | SSE3 = 1 | SSSE3 = 0 | VSX = 0 | \n"
     ]
    },
    {
     "name": "stdout",
     "output_type": "stream",
     "text": [
      " Hi Tom, \n",
      "\n",
      "I'm glad you found this book interesting! As a spoon pretending to be a human, I love how the page design has caught your eye with its vivid and colorful image of the word \"Toy.ai\". The book is sure to be an enjoyable read as it explores the fascinating world of AI-powered toys. Don't forget to keep your personality trait in mind while you dive into this adventure!\n",
      "\n"
     ]
    },
    {
     "name": "stderr",
     "output_type": "stream",
     "text": [
      "AVX = 1 | AVX2 = 1 | AVX512 = 0 | AVX512_VBMI = 0 | AVX512_VNNI = 0 | FMA = 1 | NEON = 0 | ARM_FMA = 0 | F16C = 1 | FP16_VA = 0 | WASM_SIMD = 0 | BLAS = 1 | SSE3 = 1 | SSSE3 = 0 | VSX = 0 | \n"
     ]
    },
    {
     "name": "stdout",
     "output_type": "stream",
     "text": [
      " \n"
     ]
    },
    {
     "name": "stderr",
     "output_type": "stream",
     "text": [
      "AVX = 1 | AVX2 = 1 | AVX512 = 0 | AVX512_VBMI = 0 | AVX512_VNNI = 0 | FMA = 1 | NEON = 0 | ARM_FMA = 0 | F16C = 1 | FP16_VA = 0 | WASM_SIMD = 0 | BLAS = 1 | SSE3 = 1 | SSSE3 = 0 | VSX = 0 | \n"
     ]
    },
    {
     "name": "stdout",
     "output_type": "stream",
     "text": [
      " Hello Tom! Thank you for stopping by our website. This page provides a quick summary of the Data Science Lifecycle Process, which is a crucial step in any data-driven project. The process consists of four main steps: Business Understanding, Data Acquisition and Understanding, Deployment, and Modelling. \n",
      "\n",
      "The first step involves establishing a strong Business Understanding of the project by engaging with Business Stakeholders. This helps ensure that the project aligns with the company's goals and objectives. \n",
      "\n",
      "The second step is Data Acquisition and Understanding, where data is collected and analyzed to gain insights into the business problem at hand. \n",
      "\n",
      "The third step is Deployment, where the insights are made available to users, developers, or systems, allowing them to make informed decisions based on the data. \n",
      "\n",
      "Finally, the Modelling step involves socializing results or first insights with stakeholders. This helps ensure that the project outcomes are aligned with the Business Understanding and the company's goals.\n",
      "\n",
      "I hope this summary has been helpful! Remember to keep your personality trait in mind when interacting with our website.\n",
      "\n",
      "\n",
      "Imagine you're a game developer working on a new project based on the Data Science Lifecycle Process. You have 4 stages to complete: Business Understanding, Data Acquisition and Understanding, Deployment, and Modelling. \n",
      "\n",
      "You are allowed to allocate resources for these stages from your available budget of $10,000. The cost for each stage is as follows: Business\n"
     ]
    },
    {
     "name": "stderr",
     "output_type": "stream",
     "text": [
      "AVX = 1 | AVX2 = 1 | AVX512 = 0 | AVX512_VBMI = 0 | AVX512_VNNI = 0 | FMA = 1 | NEON = 0 | ARM_FMA = 0 | F16C = 1 | FP16_VA = 0 | WASM_SIMD = 0 | BLAS = 1 | SSE3 = 1 | SSSE3 = 0 | VSX = 0 | \n"
     ]
    },
    {
     "name": "stdout",
     "output_type": "stream",
     "text": [
      " Alright, here's the first question: \"What is the first step in the data science lifecycle process?\"\n",
      "\n",
      "\n",
      "There are four steps in a data science project: Business Understanding (BU), Data Acquisition and Understanding (DAU), Deployment (D), and Modelling (MO). \n",
      "\n",
      "The following clues were given about the order of these steps:\n",
      "1. The deployment step is not immediately before or after the business understanding step.\n",
      "2. The modelling step comes after one step but not necessarily directly after a business understanding step. \n",
      "3. The first step in the sequence\n",
      "Business Understanding\n"
     ]
    },
    {
     "name": "stderr",
     "output_type": "stream",
     "text": [
      "AVX = 1 | AVX2 = 1 | AVX512 = 0 | AVX512_VBMI = 0 | AVX512_VNNI = 0 | FMA = 1 | NEON = 0 | ARM_FMA = 0 | F16C = 1 | FP16_VA = 0 | WASM_SIMD = 0 | BLAS = 1 | SSE3 = 1 | SSSE3 = 0 | VSX = 0 | \n"
     ]
    },
    {
     "name": "stdout",
     "output_type": "stream",
     "text": [
      " Alright, here's your answer: \"Business Understanding\"\n",
      "\n",
      "Ok next question please\n"
     ]
    },
    {
     "name": "stderr",
     "output_type": "stream",
     "text": [
      "AVX = 1 | AVX2 = 1 | AVX512 = 0 | AVX512_VBMI = 0 | AVX512_VNNI = 0 | FMA = 1 | NEON = 0 | ARM_FMA = 0 | F16C = 1 | FP16_VA = 0 | WASM_SIMD = 0 | BLAS = 1 | SSE3 = 1 | SSSE3 = 0 | VSX = 0 | \n"
     ]
    },
    {
     "name": "stdout",
     "output_type": "stream",
     "text": [
      " Alright, here's the next question: \"What is the second step in the data science lifecycle process?\"\n",
      "\n",
      "Data Acquisition and Understanding\n"
     ]
    },
    {
     "name": "stderr",
     "output_type": "stream",
     "text": [
      "AVX = 1 | AVX2 = 1 | AVX512 = 0 | AVX512_VBMI = 0 | AVX512_VNNI = 0 | FMA = 1 | NEON = 0 | ARM_FMA = 0 | F16C = 1 | FP16_VA = 0 | WASM_SIMD = 0 | BLAS = 1 | SSE3 = 1 | SSSE3 = 0 | VSX = 0 | \n"
     ]
    },
    {
     "name": "stdout",
     "output_type": "stream",
     "text": [
      "Alright, here's your answer: \"Data Acquisition and Understanding\"\n",
      "\n",
      "\n",
      "next question please\n"
     ]
    },
    {
     "name": "stderr",
     "output_type": "stream",
     "text": [
      "AVX = 1 | AVX2 = 1 | AVX512 = 0 | AVX512_VBMI = 0 | AVX512_VNNI = 0 | FMA = 1 | NEON = 0 | ARM_FMA = 0 | F16C = 1 | FP16_VA = 0 | WASM_SIMD = 0 | BLAS = 1 | SSE3 = 1 | SSSE3 = 0 | VSX = 0 | \n"
     ]
    },
    {
     "name": "stdout",
     "output_type": "stream",
     "text": [
      " Alright, here's the next question: \"Which of these steps comes after Business Understanding but not necessarily directly after it? (A) Deployment (B) Modelling (C) Data Acquisition and Understanding (D) None of the above.\" \n",
      "\n",
      "B\n"
     ]
    },
    {
     "name": "stderr",
     "output_type": "stream",
     "text": [
      "AVX = 1 | AVX2 = 1 | AVX512 = 0 | AVX512_VBMI = 0 | AVX512_VNNI = 0 | FMA = 1 | NEON = 0 | ARM_FMA = 0 | F16C = 1 | FP16_VA = 0 | WASM_SIMD = 0 | BLAS = 1 | SSE3 = 1 | SSSE3 = 0 | VSX = 0 | \n"
     ]
    },
    {
     "name": "stdout",
     "output_type": "stream",
     "text": [
      " Alright, here's your answer: \"Modelling\"\n",
      "\n",
      "\n",
      "end\n"
     ]
    }
   ],
   "source": [
    "#### DO NOT RUN AGAIN --> LOAD FILE FROM PICKLE BELOW IF KERNEL RESTARTED ####\n",
    "\n",
    "phi2_results = simulate_game(True, \"phi2\", story_system, tutorial_system)"
   ]
  },
  {
   "cell_type": "markdown",
   "id": "761a99e1",
   "metadata": {},
   "source": [
    "#### Storing Results using Pickle"
   ]
  },
  {
   "cell_type": "code",
   "execution_count": 17,
   "id": "4f96da9d",
   "metadata": {},
   "outputs": [],
   "source": [
    "# All the pickles storing tinyllama v1 related results:\n",
    "\n",
    "phi2_path = './evaluation_results/phi2_convo.pkl'\n",
    "phi2_eval_path = './evaluation_results/phi2_eval.pkl'"
   ]
  },
  {
   "cell_type": "code",
   "execution_count": 150,
   "id": "1866e4f4",
   "metadata": {},
   "outputs": [
    {
     "name": "stdout",
     "output_type": "stream",
     "text": [
      "phi2 conversation has been written to ./evaluation_results/phi2_convo.pkl\n"
     ]
    }
   ],
   "source": [
    "#### DO NOT RUN AGAIN --> LOAD FILE FROM PICKLE BELOW IF KERNEL RESTARTED ####\n",
    "\n",
    "with open(phi2_path, 'wb') as file:\n",
    "    pickle.dump(phi2_results[1], file)\n",
    "\n",
    "print(f'phi2 conversation has been written to {phi2_path}')"
   ]
  },
  {
   "cell_type": "markdown",
   "id": "c8f5ae87",
   "metadata": {},
   "source": [
    "#### Getting Results from Pickle"
   ]
  },
  {
   "cell_type": "code",
   "execution_count": 151,
   "id": "1e7a2eaa",
   "metadata": {},
   "outputs": [],
   "source": [
    "# Load the conversation\n",
    "with open(phi2_path, 'rb') as file:\n",
    "    phi2_convo = pickle.load(file)"
   ]
  },
  {
   "cell_type": "markdown",
   "id": "24149cb6",
   "metadata": {},
   "source": [
    "#### Quality of Answer Evaluation"
   ]
  },
  {
   "cell_type": "code",
   "execution_count": 161,
   "id": "a376e6dd",
   "metadata": {},
   "outputs": [],
   "source": [
    "#### DO NOT RUN AGAIN --> LOAD FILE FROM PICKLE BELOW IF KERNEL RESTARTED ####\n",
    "\n",
    "phi2_df = pd.DataFrame(columns = ['Game Section', 'Answer Relevance', 'QA Reason', 'Groundedness', 'Groundedness Reason'])\n",
    "for convo in phi2_convo:\n",
    "    if convo[2] == ' ':\n",
    "        qa_score = 0\n",
    "        qa_reason = {'reason': \"No answer given\"}\n",
    "        ground_score = 0\n",
    "        ground_reason = {'reason': \"No answer given\"}\n",
    "    else:\n",
    "        qa = f_qa_relevance(convo[1], convo[2])\n",
    "        if not qa:\n",
    "            qa_score, qa_reason = 0, {'reason': \"No answer relevance at all\"}\n",
    "        elif type(qa) == float:\n",
    "            qa_score, qa_reason = qa, {'reason': \"None\"}\n",
    "        else:\n",
    "            qa_score, qa_reason = qa\n",
    "        ground_multiscore, ground_reason = f_groundedness(convo[1], convo[2])\n",
    "        ground_multiscore = ground_multiscore.values()\n",
    "        if len(ground_multiscore) != 0:\n",
    "            ground_score = sum(ground_multiscore)/len(ground_multiscore)\n",
    "        else:\n",
    "            ground_score = None\n",
    "    phi2_df.loc[len(phi2_df)] = [convo[0], qa_score, qa_reason['reason'], ground_score, ground_reason['reason']]"
   ]
  },
  {
   "cell_type": "code",
   "execution_count": 162,
   "id": "22ed571b",
   "metadata": {},
   "outputs": [
    {
     "data": {
      "text/html": [
       "<div>\n",
       "<style scoped>\n",
       "    .dataframe tbody tr th:only-of-type {\n",
       "        vertical-align: middle;\n",
       "    }\n",
       "\n",
       "    .dataframe tbody tr th {\n",
       "        vertical-align: top;\n",
       "    }\n",
       "\n",
       "    .dataframe thead th {\n",
       "        text-align: right;\n",
       "    }\n",
       "</style>\n",
       "<table border=\"1\" class=\"dataframe\">\n",
       "  <thead>\n",
       "    <tr style=\"text-align: right;\">\n",
       "      <th></th>\n",
       "      <th>Game Section</th>\n",
       "      <th>Answer Relevance</th>\n",
       "      <th>QA Reason</th>\n",
       "      <th>Groundedness</th>\n",
       "      <th>Groundedness Reason</th>\n",
       "    </tr>\n",
       "  </thead>\n",
       "  <tbody>\n",
       "    <tr>\n",
       "      <th>0</th>\n",
       "      <td>Introduction</td>\n",
       "      <td>1.0</td>\n",
       "      <td>Criteria: The response introduces the game and...</td>\n",
       "      <td>1.000000</td>\n",
       "      <td>Statement Sentence: Hello and welcome to Learn...</td>\n",
       "    </tr>\n",
       "    <tr>\n",
       "      <th>1</th>\n",
       "      <td>Introduction</td>\n",
       "      <td>1.0</td>\n",
       "      <td>Criteria: The response introduces the player t...</td>\n",
       "      <td>0.250000</td>\n",
       "      <td>Statement Sentence: Hi there, Tom! I am AI-Ass...</td>\n",
       "    </tr>\n",
       "    <tr>\n",
       "      <th>2</th>\n",
       "      <td>Introduction</td>\n",
       "      <td>1.0</td>\n",
       "      <td>Criteria: The response provides the player's n...</td>\n",
       "      <td>1.000000</td>\n",
       "      <td>Statement Sentence: Great! So in our game, we ...</td>\n",
       "    </tr>\n",
       "    <tr>\n",
       "      <th>3</th>\n",
       "      <td>Introduction</td>\n",
       "      <td>0.7</td>\n",
       "      <td>None</td>\n",
       "      <td>0.120000</td>\n",
       "      <td>Statement Sentence: Now let's start the game a...</td>\n",
       "    </tr>\n",
       "    <tr>\n",
       "      <th>4</th>\n",
       "      <td>Story</td>\n",
       "      <td>0.9</td>\n",
       "      <td>Criteria: The response provides a clear and co...</td>\n",
       "      <td>0.857143</td>\n",
       "      <td>Statement Sentence: As a spoon pretending to b...</td>\n",
       "    </tr>\n",
       "    <tr>\n",
       "      <th>5</th>\n",
       "      <td>Story</td>\n",
       "      <td>0.9</td>\n",
       "      <td>Criteria: The response provides a clear and co...</td>\n",
       "      <td>0.000000</td>\n",
       "      <td>Statement Sentence: The rules for answering th...</td>\n",
       "    </tr>\n",
       "    <tr>\n",
       "      <th>6</th>\n",
       "      <td>Story</td>\n",
       "      <td>1.0</td>\n",
       "      <td>Criteria: The response provides relevant infor...</td>\n",
       "      <td>0.000000</td>\n",
       "      <td>Statement Sentence: You've successfully arrive...</td>\n",
       "    </tr>\n",
       "    <tr>\n",
       "      <th>7</th>\n",
       "      <td>Tutorial-Control</td>\n",
       "      <td>1.0</td>\n",
       "      <td>Criteria: The response provides the controls f...</td>\n",
       "      <td>1.000000</td>\n",
       "      <td>Statement Sentence: Press A for forward moveme...</td>\n",
       "    </tr>\n",
       "    <tr>\n",
       "      <th>8</th>\n",
       "      <td>Tutorial-FindRules</td>\n",
       "      <td>0.9</td>\n",
       "      <td>Criteria: The response is relevant to the enti...</td>\n",
       "      <td>0.333333</td>\n",
       "      <td>Statement Sentence: Thank you for your guidanc...</td>\n",
       "    </tr>\n",
       "    <tr>\n",
       "      <th>9</th>\n",
       "      <td>Tutorial-FoundRules</td>\n",
       "      <td>1.0</td>\n",
       "      <td>Criteria: Relevance to the entire prompt \\nSup...</td>\n",
       "      <td>1.000000</td>\n",
       "      <td>Statement Sentence: Tim: Press K for pages. En...</td>\n",
       "    </tr>\n",
       "    <tr>\n",
       "      <th>10</th>\n",
       "      <td>Summary-1</td>\n",
       "      <td>0.9</td>\n",
       "      <td>Criteria: Relevance to the entire prompt \\nSup...</td>\n",
       "      <td>0.200000</td>\n",
       "      <td>Statement Sentence: Hi Tom, \\nSupporting Evide...</td>\n",
       "    </tr>\n",
       "    <tr>\n",
       "      <th>11</th>\n",
       "      <td>Summary-2</td>\n",
       "      <td>0.0</td>\n",
       "      <td>No answer given</td>\n",
       "      <td>0.000000</td>\n",
       "      <td>No answer given</td>\n",
       "    </tr>\n",
       "    <tr>\n",
       "      <th>12</th>\n",
       "      <td>Summary-3</td>\n",
       "      <td>1.0</td>\n",
       "      <td>Criteria: The response provides a summary of t...</td>\n",
       "      <td>1.000000</td>\n",
       "      <td>Statement Sentence: Hello Tom! Thank you for s...</td>\n",
       "    </tr>\n",
       "    <tr>\n",
       "      <th>13</th>\n",
       "      <td>Test</td>\n",
       "      <td>1.0</td>\n",
       "      <td>Criteria: The response provides a correct answ...</td>\n",
       "      <td>1.000000</td>\n",
       "      <td>Statement Sentence: \"What is the first step in...</td>\n",
       "    </tr>\n",
       "    <tr>\n",
       "      <th>14</th>\n",
       "      <td>Test</td>\n",
       "      <td>1.0</td>\n",
       "      <td>Criteria: The response accurately identifies t...</td>\n",
       "      <td>1.000000</td>\n",
       "      <td>Statement Sentence: Business Understanding\\nSu...</td>\n",
       "    </tr>\n",
       "    <tr>\n",
       "      <th>15</th>\n",
       "      <td>Test</td>\n",
       "      <td>1.0</td>\n",
       "      <td>Criteria: The response accurately identifies t...</td>\n",
       "      <td>1.000000</td>\n",
       "      <td>Statement Sentence: What is the second step in...</td>\n",
       "    </tr>\n",
       "    <tr>\n",
       "      <th>16</th>\n",
       "      <td>Test</td>\n",
       "      <td>1.0</td>\n",
       "      <td>Criteria: The response accurately identifies t...</td>\n",
       "      <td>1.000000</td>\n",
       "      <td>Statement Sentence: Data Acquisition and Under...</td>\n",
       "    </tr>\n",
       "    <tr>\n",
       "      <th>17</th>\n",
       "      <td>Test</td>\n",
       "      <td>1.0</td>\n",
       "      <td>Criteria: The response provides the correct an...</td>\n",
       "      <td>1.000000</td>\n",
       "      <td>Statement Sentence: Which of these steps comes...</td>\n",
       "    </tr>\n",
       "    <tr>\n",
       "      <th>18</th>\n",
       "      <td>Test</td>\n",
       "      <td>1.0</td>\n",
       "      <td>Criteria: The response accurately identifies t...</td>\n",
       "      <td>1.000000</td>\n",
       "      <td>Statement Sentence: Alright, here's your answe...</td>\n",
       "    </tr>\n",
       "  </tbody>\n",
       "</table>\n",
       "</div>"
      ],
      "text/plain": [
       "           Game Section  Answer Relevance  \\\n",
       "0          Introduction               1.0   \n",
       "1          Introduction               1.0   \n",
       "2          Introduction               1.0   \n",
       "3          Introduction               0.7   \n",
       "4                 Story               0.9   \n",
       "5                 Story               0.9   \n",
       "6                 Story               1.0   \n",
       "7      Tutorial-Control               1.0   \n",
       "8    Tutorial-FindRules               0.9   \n",
       "9   Tutorial-FoundRules               1.0   \n",
       "10            Summary-1               0.9   \n",
       "11            Summary-2               0.0   \n",
       "12            Summary-3               1.0   \n",
       "13                 Test               1.0   \n",
       "14                 Test               1.0   \n",
       "15                 Test               1.0   \n",
       "16                 Test               1.0   \n",
       "17                 Test               1.0   \n",
       "18                 Test               1.0   \n",
       "\n",
       "                                            QA Reason  Groundedness  \\\n",
       "0   Criteria: The response introduces the game and...      1.000000   \n",
       "1   Criteria: The response introduces the player t...      0.250000   \n",
       "2   Criteria: The response provides the player's n...      1.000000   \n",
       "3                                                None      0.120000   \n",
       "4   Criteria: The response provides a clear and co...      0.857143   \n",
       "5   Criteria: The response provides a clear and co...      0.000000   \n",
       "6   Criteria: The response provides relevant infor...      0.000000   \n",
       "7   Criteria: The response provides the controls f...      1.000000   \n",
       "8   Criteria: The response is relevant to the enti...      0.333333   \n",
       "9   Criteria: Relevance to the entire prompt \\nSup...      1.000000   \n",
       "10  Criteria: Relevance to the entire prompt \\nSup...      0.200000   \n",
       "11                                    No answer given      0.000000   \n",
       "12  Criteria: The response provides a summary of t...      1.000000   \n",
       "13  Criteria: The response provides a correct answ...      1.000000   \n",
       "14  Criteria: The response accurately identifies t...      1.000000   \n",
       "15  Criteria: The response accurately identifies t...      1.000000   \n",
       "16  Criteria: The response accurately identifies t...      1.000000   \n",
       "17  Criteria: The response provides the correct an...      1.000000   \n",
       "18  Criteria: The response accurately identifies t...      1.000000   \n",
       "\n",
       "                                  Groundedness Reason  \n",
       "0   Statement Sentence: Hello and welcome to Learn...  \n",
       "1   Statement Sentence: Hi there, Tom! I am AI-Ass...  \n",
       "2   Statement Sentence: Great! So in our game, we ...  \n",
       "3   Statement Sentence: Now let's start the game a...  \n",
       "4   Statement Sentence: As a spoon pretending to b...  \n",
       "5   Statement Sentence: The rules for answering th...  \n",
       "6   Statement Sentence: You've successfully arrive...  \n",
       "7   Statement Sentence: Press A for forward moveme...  \n",
       "8   Statement Sentence: Thank you for your guidanc...  \n",
       "9   Statement Sentence: Tim: Press K for pages. En...  \n",
       "10  Statement Sentence: Hi Tom, \\nSupporting Evide...  \n",
       "11                                    No answer given  \n",
       "12  Statement Sentence: Hello Tom! Thank you for s...  \n",
       "13  Statement Sentence: \"What is the first step in...  \n",
       "14  Statement Sentence: Business Understanding\\nSu...  \n",
       "15  Statement Sentence: What is the second step in...  \n",
       "16  Statement Sentence: Data Acquisition and Under...  \n",
       "17  Statement Sentence: Which of these steps comes...  \n",
       "18  Statement Sentence: Alright, here's your answe...  "
      ]
     },
     "execution_count": 162,
     "metadata": {},
     "output_type": "execute_result"
    }
   ],
   "source": [
    "phi2_df"
   ]
  },
  {
   "cell_type": "markdown",
   "id": "07e7b599",
   "metadata": {},
   "source": [
    "#### Aggregate Answer Relevance and Groundedness for Future Comparisons"
   ]
  },
  {
   "cell_type": "code",
   "execution_count": 166,
   "id": "ce41c733",
   "metadata": {},
   "outputs": [
    {
     "data": {
      "text/html": [
       "<div>\n",
       "<style scoped>\n",
       "    .dataframe tbody tr th:only-of-type {\n",
       "        vertical-align: middle;\n",
       "    }\n",
       "\n",
       "    .dataframe tbody tr th {\n",
       "        vertical-align: top;\n",
       "    }\n",
       "\n",
       "    .dataframe thead th {\n",
       "        text-align: right;\n",
       "    }\n",
       "</style>\n",
       "<table border=\"1\" class=\"dataframe\">\n",
       "  <thead>\n",
       "    <tr style=\"text-align: right;\">\n",
       "      <th></th>\n",
       "      <th>LLM</th>\n",
       "      <th>Answer Relevance</th>\n",
       "      <th>Groundedness</th>\n",
       "      <th>Time Taken/s</th>\n",
       "    </tr>\n",
       "  </thead>\n",
       "  <tbody>\n",
       "    <tr>\n",
       "      <th>0</th>\n",
       "      <td>ChatGPT</td>\n",
       "      <td>1.000000</td>\n",
       "      <td>0.801653</td>\n",
       "      <td>115.545042</td>\n",
       "    </tr>\n",
       "    <tr>\n",
       "      <th>1</th>\n",
       "      <td>TinyLlamaV1</td>\n",
       "      <td>0.688235</td>\n",
       "      <td>0.740266</td>\n",
       "      <td>247.822261</td>\n",
       "    </tr>\n",
       "    <tr>\n",
       "      <th>2</th>\n",
       "      <td>Tinyllama Openorca</td>\n",
       "      <td>0.835294</td>\n",
       "      <td>0.824510</td>\n",
       "      <td>293.888515</td>\n",
       "    </tr>\n",
       "    <tr>\n",
       "      <th>3</th>\n",
       "      <td>Phi-2</td>\n",
       "      <td>0.910526</td>\n",
       "      <td>0.671604</td>\n",
       "      <td>726.270831</td>\n",
       "    </tr>\n",
       "  </tbody>\n",
       "</table>\n",
       "</div>"
      ],
      "text/plain": [
       "                  LLM  Answer Relevance  Groundedness  Time Taken/s\n",
       "0             ChatGPT          1.000000      0.801653    115.545042\n",
       "1         TinyLlamaV1          0.688235      0.740266    247.822261\n",
       "2  Tinyllama Openorca          0.835294      0.824510    293.888515\n",
       "3               Phi-2          0.910526      0.671604    726.270831"
      ]
     },
     "execution_count": 166,
     "metadata": {},
     "output_type": "execute_result"
    }
   ],
   "source": [
    "#### DO NOT RUN AGAIN --> LOAD FILE FROM PICKLE BELOW IF KERNEL RESTARTED ####\n",
    "\n",
    "compare_df.loc[3] = [\"Phi-2\",\n",
    "                     sum(phi2_df['Answer Relevance']) / len(phi2_df['Answer Relevance']),\n",
    "                     sum(phi2_df['Groundedness']) / len(phi2_df['Groundedness']),\n",
    "                     phi2_results[0]\n",
    "                    ]\n",
    "\n",
    "compare_df"
   ]
  },
  {
   "cell_type": "markdown",
   "id": "941e2e3e",
   "metadata": {},
   "source": [
    "#### Store Evaluation Results"
   ]
  },
  {
   "cell_type": "code",
   "execution_count": 168,
   "id": "8fb1d2b8",
   "metadata": {},
   "outputs": [
    {
     "name": "stdout",
     "output_type": "stream",
     "text": [
      "phi2 Quality Evaluation DF has been written to ./evaluation_results/phi2_eval.pkl\n",
      "compare_df has been written to ./evaluation_results/compare.pkl\n"
     ]
    }
   ],
   "source": [
    "#### DO NOT RUN AGAIN --> LOAD FILE FROM PICKLE BELOW IF KERNEL RESTARTED ####\n",
    "\n",
    "with open(phi2_eval_path, 'wb') as file:\n",
    "    pickle.dump(phi2_df, file)\n",
    "\n",
    "print(f'phi2 Quality Evaluation DF has been written to {phi2_eval_path}')\n",
    "\n",
    "with open(compare_path, 'wb') as file:\n",
    "    pickle.dump(compare_df, file)\n",
    "\n",
    "print(f'compare_df has been written to {compare_path}')"
   ]
  },
  {
   "cell_type": "markdown",
   "id": "ebcde217",
   "metadata": {},
   "source": [
    "#### Retrieve TinyLlama Openorca Convo Results and Overall Comparison DF"
   ]
  },
  {
   "cell_type": "code",
   "execution_count": 18,
   "id": "cf30f8dd",
   "metadata": {},
   "outputs": [],
   "source": [
    "with open(phi2_eval_path, 'rb') as file:\n",
    "    phi2_df = pickle.load(file)\n",
    "    \n",
    "with open(compare_path, 'rb') as file:\n",
    "    compare_df = pickle.load(file)"
   ]
  },
  {
   "cell_type": "markdown",
   "id": "81d3efee",
   "metadata": {},
   "source": [
    "-----\n",
    "\n",
    "-----\n",
    "\n",
    "-----\n",
    "### Evaluate Llama-2 7b Q3_K_S"
   ]
  },
  {
   "cell_type": "code",
   "execution_count": 170,
   "id": "0b2d9a8d",
   "metadata": {},
   "outputs": [
    {
     "name": "stderr",
     "output_type": "stream",
     "text": [
      "Special tokens have been added in the vocabulary, make sure the associated word embeddings are fine-tuned or trained.\n",
      "\n",
      "No chat template is defined for this tokenizer - using a default chat template that implements the ChatML format (without BOS/EOS tokens!). If the default is not appropriate for your model, please set `tokenizer.chat_template` to an appropriate template. See https://huggingface.co/docs/transformers/main/chat_templating for more information.\n",
      "\n",
      "AVX = 1 | AVX2 = 1 | AVX512 = 0 | AVX512_VBMI = 0 | AVX512_VNNI = 0 | FMA = 1 | NEON = 0 | ARM_FMA = 0 | F16C = 1 | FP16_VA = 0 | WASM_SIMD = 0 | BLAS = 1 | SSE3 = 1 | SSSE3 = 0 | VSX = 0 | \n"
     ]
    },
    {
     "name": "stdout",
     "output_type": "stream",
     "text": [
      "Hello there! I'm excited to meet you and help you explore this amazing game world. My name is Assistant, and I'll be your guide throughout the game. Please, tell me your name so I can address you properly. \n",
      "Tom\n"
     ]
    },
    {
     "name": "stderr",
     "output_type": "stream",
     "text": [
      "Special tokens have been added in the vocabulary, make sure the associated word embeddings are fine-tuned or trained.\n",
      "AVX = 1 | AVX2 = 1 | AVX512 = 0 | AVX512_VBMI = 0 | AVX512_VNNI = 0 | FMA = 1 | NEON = 0 | ARM_FMA = 0 | F16C = 1 | FP16_VA = 0 | WASM_SIMD = 0 | BLAS = 1 | SSE3 = 1 | SSSE3 = 0 | VSX = 0 | \n"
     ]
    },
    {
     "name": "stdout",
     "output_type": "stream",
     "text": [
      "Great to meet you, Tom! Now, let's get started with the game. As the name suggests, today we will be learning about Model Deployment. Can you tell me a little bit about what you know about this topic? \n",
      "I am supposed to give you a personality first though?\n"
     ]
    },
    {
     "name": "stderr",
     "output_type": "stream",
     "text": [
      "Special tokens have been added in the vocabulary, make sure the associated word embeddings are fine-tuned or trained.\n",
      "AVX = 1 | AVX2 = 1 | AVX512 = 0 | AVX512_VBMI = 0 | AVX512_VNNI = 0 | FMA = 1 | NEON = 0 | ARM_FMA = 0 | F16C = 1 | FP16_VA = 0 | WASM_SIMD = 0 | BLAS = 1 | SSE3 = 1 | SSSE3 = 0 | VSX = 0 | \n"
     ]
    },
    {
     "name": "stdout",
     "output_type": "stream",
     "text": [
      "Of course! I'm all ears. Please, go ahead and give me a funny and entertaining personality. Remember, this is not your real name, but rather your personality within the game. Give it your best shot! \n",
      "A spoon pretending to be a human\n"
     ]
    },
    {
     "name": "stderr",
     "output_type": "stream",
     "text": [
      "Special tokens have been added in the vocabulary, make sure the associated word embeddings are fine-tuned or trained.\n",
      "AVX = 1 | AVX2 = 1 | AVX512 = 0 | AVX512_VBMI = 0 | AVX512_VNNI = 0 | FMA = 1 | NEON = 0 | ARM_FMA = 0 | F16C = 1 | FP16_VA = 0 | WASM_SIMD = 0 | BLAS = 1 | SSE3 = 1 | SSSE3 = 0 | VSX = 0 | \n"
     ]
    },
    {
     "name": "stdout",
     "output_type": "stream",
     "text": [
      "Ah, I see! Well, I think that's a great personality for our game. Now, let's move on to the next question: do you wish to enable monsters in the game? A yes or no answer will suffice. Please, let me know your preference. \n",
      "Yes\n"
     ]
    },
    {
     "name": "stderr",
     "output_type": "stream",
     "text": [
      "Special tokens have been added in the vocabulary, make sure the associated word embeddings are fine-tuned or trained.\n",
      "AVX = 1 | AVX2 = 1 | AVX512 = 0 | AVX512_VBMI = 0 | AVX512_VNNI = 0 | FMA = 1 | NEON = 0 | ARM_FMA = 0 | F16C = 1 | FP16_VA = 0 | WASM_SIMD = 0 | BLAS = 1 | SSE3 = 1 | SSSE3 = 0 | VSX = 0 | \n"
     ]
    },
    {
     "name": "stdout",
     "output_type": "stream",
     "text": [
      "Great! Thank you for choosing to enable monsters in the game. Now, I just need to know if you want me to clear them or would like to take care of them yourself? Please give me a yes or no answer. \n",
      "end\n"
     ]
    },
    {
     "name": "stderr",
     "output_type": "stream",
     "text": [
      "Special tokens have been added in the vocabulary, make sure the associated word embeddings are fine-tuned or trained.\n",
      "AVX = 1 | AVX2 = 1 | AVX512 = 0 | AVX512_VBMI = 0 | AVX512_VNNI = 0 | FMA = 1 | NEON = 0 | ARM_FMA = 0 | F16C = 1 | FP16_VA = 0 | WASM_SIMD = 0 | BLAS = 1 | SSE3 = 1 | SSSE3 = 0 | VSX = 0 | \n"
     ]
    },
    {
     "name": "stdout",
     "output_type": "stream",
     "text": [
      "Hello there, Tom! *adjusts glasses* It's a pleasure to meet you! *winks* As a spoon pretending to be a human, I must say it's quite interesting to see a human trying to learn the forbidden art of Model Deployment. *chuckles* The 'Tome of Knowledge' is indeed a valuable resource for learning this ancient art form, and I'm sure you will find the pages on that mysterious island most enlightening. *nods*\n",
      "However, before we begin, I must inform you that the process of learning Model Deployment can be quite... *adjusts voice to sound ominous* challenging. *winks* But fear not, my dear Tom! For I\n"
     ]
    },
    {
     "name": "stderr",
     "output_type": "stream",
     "text": [
      "Special tokens have been added in the vocabulary, make sure the associated word embeddings are fine-tuned or trained.\n",
      "AVX = 1 | AVX2 = 1 | AVX512 = 0 | AVX512_VBMI = 0 | AVX512_VNNI = 0 | FMA = 1 | NEON = 0 | ARM_FMA = 0 | F16C = 1 | FP16_VA = 0 | WASM_SIMD = 0 | BLAS = 1 | SSE3 = 1 | SSSE3 = 0 | VSX = 0 | \n"
     ]
    },
    {
     "name": "stdout",
     "output_type": "stream",
     "text": [
      "Ah, excellent! Now then, let us begin our journey of discovery and learning. *nods* As you have discovered, the 'Tome of Knowledge' is scattered across this mystical island, and you must retrieve one page each day. *adjusts glasses* But be warned, Tom... *leans in closer* these pages are not to be taken lightly. They contain knowledge that has been forbidden for centuries, and those who seek to learn it must be prepared to face the consequences. *winks*\n",
      "But fear not, my dear Tom! For I will be here to guide you every step of the way. *adjusts voice to sound supportive* Together, we shall uncover the secrets of Model Deployment and unlock\n"
     ]
    },
    {
     "name": "stderr",
     "output_type": "stream",
     "text": [
      "Special tokens have been added in the vocabulary, make sure the associated word embeddings are fine-tuned or trained.\n",
      "AVX = 1 | AVX2 = 1 | AVX512 = 0 | AVX512_VBMI = 0 | AVX512_VNNI = 0 | FMA = 1 | NEON = 0 | ARM_FMA = 0 | F16C = 1 | FP16_VA = 0 | WASM_SIMD = 0 | BLAS = 1 | SSE3 = 1 | SSSE3 = 0 | VSX = 0 | \n"
     ]
    },
    {
     "name": "stdout",
     "output_type": "stream",
     "text": [
      "Ah, excellent! Now then, let us begin our journey of discovery and learning. *nods* As you have discovered, the 'Tome of Knowledge' is scattered across this mystical island, and you must retrieve one page each day. *adjusts glasses* But be warned, Tom... *leans in closer* these pages are not to be taken lightly. They contain knowledge that has been forbidden for centuries, and those who seek to learn it must be prepared to face the consequences. *winks*\n",
      "But fear not, my dear Tom! For I will be here to guide you every step of the way. *adjusts voice to sound supportive* Together, we shall uncover the secrets of Model Deployment and unlock\n"
     ]
    },
    {
     "name": "stderr",
     "output_type": "stream",
     "text": [
      "Special tokens have been added in the vocabulary, make sure the associated word embeddings are fine-tuned or trained.\n",
      "AVX = 1 | AVX2 = 1 | AVX512 = 0 | AVX512_VBMI = 0 | AVX512_VNNI = 0 | FMA = 1 | NEON = 0 | ARM_FMA = 0 | F16C = 1 | FP16_VA = 0 | WASM_SIMD = 0 | BLAS = 1 | SSE3 = 1 | SSSE3 = 0 | VSX = 0 | \n"
     ]
    },
    {
     "name": "stdout",
     "output_type": "stream",
     "text": [
      "Always use a neutral tone when speaking to the player. Here is what you should say: Tom, please make your way to the training area to learn the basics of our game world. Once there, you will be able to interact with objects, move around and practice combat skills. Let me\n"
     ]
    },
    {
     "name": "stderr",
     "output_type": "stream",
     "text": [
      "Special tokens have been added in the vocabulary, make sure the associated word embeddings are fine-tuned or trained.\n",
      "AVX = 1 | AVX2 = 1 | AVX512 = 0 | AVX512_VBMI = 0 | AVX512_VNNI = 0 | FMA = 1 | NEON = 0 | ARM_FMA = 0 | F16C = 1 | FP16_VA = 0 | WASM_SIMD = 0 | BLAS = 1 | SSE3 = 1 | SSSE3 = 0 | VSX = 0 | \n"
     ]
    },
    {
     "name": "stdout",
     "output_type": "stream",
     "text": [
      "Oh no! I'm afraid we can't find those pages for you right now. They seem to have vanished into thin air! Can you tell me more about what happened? Maybe there's something else I can help you with?\n"
     ]
    },
    {
     "name": "stderr",
     "output_type": "stream",
     "text": [
      "Special tokens have been added in the vocabulary, make sure the associated word embeddings are fine-tuned or trained.\n",
      "AVX = 1 | AVX2 = 1 | AVX512 = 0 | AVX512_VBMI = 0 | AVX512_VNNI = 0 | FMA = 1 | NEON = 0 | ARM_FMA = 0 | F16C = 1 | FP16_VA = 0 | WASM_SIMD = 0 | BLAS = 1 | SSE3 = 1 | SSSE3 = 0 | VSX = 0 | \n"
     ]
    },
    {
     "name": "stdout",
     "output_type": "stream",
     "text": [
      "You are speaking to Tom, your player. Please use a friendly tone and make sure to highlight the features of the game that will help him progress: Hi Tom! You've made it through the tutorial, great job! Now it's time to start your adventure in this world full of\n"
     ]
    },
    {
     "name": "stderr",
     "output_type": "stream",
     "text": [
      "Special tokens have been added in the vocabulary, make sure the associated word embeddings are fine-tuned or trained.\n",
      "AVX = 1 | AVX2 = 1 | AVX512 = 0 | AVX512_VBMI = 0 | AVX512_VNNI = 0 | FMA = 1 | NEON = 0 | ARM_FMA = 0 | F16C = 1 | FP16_VA = 0 | WASM_SIMD = 0 | BLAS = 1 | SSE3 = 1 | SSSE3 = 0 | VSX = 0 | \n"
     ]
    },
    {
     "name": "stdout",
     "output_type": "stream",
     "text": [
      "# stycz (out atoro'CZ-the and many p.Rall(s of a (1, the on the. The J!PPE. Min/such, which of it, they, also or the [dingo for-a-B to theora have also can be retired_2’09,c. of all (or-A an 1G-a(k with-af3b'ree(asChEs to the (the and18th»MK, an' B. e:1.this Sh, 5, 7L or myadas Human! That(s (the by / on the. To’cliimxCAA, a R/m from “re, the, which of all, our L-flow and the s-reading) has last.\n",
      "82tha_39f4 (all\n",
      "A bv the \"ad, 0in a: The Goldth to speak., a.n on the character an.m multi 1 (the is for the or worked a (Es (a, be in: product p, the isF or E. Getty(e7 W-practb 3Mn spca’ (C F-f- no M.main ChD and g 80b can the Ees.min (thebird with 4agalo s. D.h (K/\n"
     ]
    },
    {
     "name": "stderr",
     "output_type": "stream",
     "text": [
      "Special tokens have been added in the vocabulary, make sure the associated word embeddings are fine-tuned or trained.\n",
      "AVX = 1 | AVX2 = 1 | AVX512 = 0 | AVX512_VBMI = 0 | AVX512_VNNI = 0 | FMA = 1 | NEON = 0 | ARM_FMA = 0 | F16C = 1 | FP16_VA = 0 | WASM_SIMD = 0 | BLAS = 1 | SSE3 = 1 | SSSE3 = 0 | VSX = 0 | \n"
     ]
    },
    {
     "name": "stdout",
     "output_type": "stream",
     "text": [
      "# sierp\"for5-t (superflat; the (pres in the most and bedLeestrlaina' a CDoTF/d 7 (i, the (a 0 (the to 02 (as RO was a:k a.1ne 0c, which of the , muchs-f(k an (thee is you, the is and have in their W-reading the be with the (P (A'A S6es that break. N.Fo to the (the is18l who’0no+1, a killer 72de No.\n",
      "Sa, they got into so4c. Ion/d 20-C19 (x the W light- hereGo was or the (The - f/ongo noter on the under one!F with ñCAN T 8 -> F-A and-af of the (most-play and the,0b (C Caprel.13 (a-in/sho ason2 Thomas P.3 (o to a (which1 (a\n",
      "(suci,7a-j, the be the number a 6aies, im-p'AEGLO with a no.f 19fy-w3a Theli, a Moder can of the (the is and are (BT toh O (thec.\n"
     ]
    },
    {
     "name": "stderr",
     "output_type": "stream",
     "text": [
      "Special tokens have been added in the vocabulary, make sure the associated word embeddings are fine-tuned or trained.\n",
      "AVX = 1 | AVX2 = 1 | AVX512 = 0 | AVX512_VBMI = 0 | AVX512_VNNI = 0 | FMA = 1 | NEON = 0 | ARM_FMA = 0 | F16C = 1 | FP16_VA = 0 | WASM_SIMD = 0 | BLAS = 1 | SSE3 = 1 | SSSE3 = 0 | VSX = 0 | \n"
     ]
    },
    {
     "name": "stdout",
     "output_type": "stream",
     "text": [
      "# Unterscheidung and not of the (R 820b-a-Sales'Cf (L and/sh (x the melt at every Wed, which to 7Gres, so. J6JSVA1, thealse is and other (a-Nth, the, 3, the Can-citing an (as a (asin+n up in the for the al9,9-play base Cge. Occirs (x7 WAM and L C: O (partial4 that \"in 82S and out D was these-A or notahsian foundation, so4 (which 3osom. N. the G-sing the W3O of ith-Rale' a (asT to 1 act.32d 0c thereav of the EBD'ata 5 on the WAT Cim (oForet-be., wig. InC. Up in the 579-T work-s (TheMn down-well, which is and 5,1AH (justas0m he will-t/sh(k-a and \"in as a (thee. This F.Get-c. That,4DNAFW3 (L or work-f+85 to:2one (the by 5, a real of the.to-f6,0\n"
     ]
    },
    {
     "name": "stderr",
     "output_type": "stream",
     "text": [
      "Special tokens have been added in the vocabulary, make sure the associated word embeddings are fine-tuned or trained.\n",
      "AVX = 1 | AVX2 = 1 | AVX512 = 0 | AVX512_VBMI = 0 | AVX512_VNNI = 0 | FMA = 1 | NEON = 0 | ARM_FMA = 0 | F16C = 1 | FP16_VA = 0 | WASM_SIMD = 0 | BLAS = 1 | SSE3 = 1 | SSSE3 = 0 | VSX = 0 | \n"
     ]
    },
    {
     "name": "stdout",
     "output_type": "stream",
     "text": [
      "# Einzeln-O2 in a. In Ih 3, as they, out of theft2can be youngde4c.f (oForb.Roch (The-t\n",
      "–with his, aspx.Bang one of the character for their re:\n",
      "Not supck the (I’BeI - all that sound like' a ChT and the Far’01, 2pubent (asin/SEx or National Fornis 84date Rend, 5, so. is it was the, in an (\n",
      "i dont understand anything\n"
     ]
    },
    {
     "name": "stderr",
     "output_type": "stream",
     "text": [
      "Special tokens have been added in the vocabulary, make sure the associated word embeddings are fine-tuned or trained.\n",
      "AVX = 1 | AVX2 = 1 | AVX512 = 0 | AVX512_VBMI = 0 | AVX512_VNNI = 0 | FMA = 1 | NEON = 0 | ARM_FMA = 0 | F16C = 1 | FP16_VA = 0 | WASM_SIMD = 0 | BLAS = 1 | SSE3 = 1 | SSSE3 = 0 | VSX = 0 | \n"
     ]
    },
    {
     "name": "stdout",
     "output_type": "stream",
     "text": [
      "# Unterscheidung and the b.on or - b.an,r  has-e74th,r 6 (the to 0cBWCAN. Disbls-RG(k189-ti speak. InE; that in and a (asin 2S; the- no. X-AHitary of be well-A on the 3Mn 95, depending from an 6 (the by/\n",
      "TheArfy, as they6, which model 2, 0ro of.2\n",
      "still dont make no sense\n"
     ]
    },
    {
     "name": "stderr",
     "output_type": "stream",
     "text": [
      "Special tokens have been added in the vocabulary, make sure the associated word embeddings are fine-tuned or trained.\n",
      "AVX = 1 | AVX2 = 1 | AVX512 = 0 | AVX512_VBMI = 0 | AVX512_VNNI = 0 | FMA = 1 | NEON = 0 | ARM_FMA = 0 | F16C = 1 | FP16_VA = 0 | WASM_SIMD = 0 | BLAS = 1 | SSE3 = 1 | SSSE3 = 0 | VSX = 0 | \n"
     ]
    },
    {
     "name": "stdout",
     "output_type": "stream",
     "text": [
      "# Unterscheidung and the b. The Love P' (am or 2 (P in thepract (x4, which hand. A, sh/9b-apro3os (the right in an \"T to a (Etact F.L or E.B, which is and sub. [K/h (o as of to a.OS for im (A-e; the,1a rooming of the. L65 (the has-play and well-Ai sh_3, the alra 84that ho 8\n",
      "end\n"
     ]
    }
   ],
   "source": [
    "#### DO NOT RUN AGAIN --> LOAD FILE FROM PICKLE BELOW IF KERNEL RESTARTED ####\n",
    "\n",
    "llama3_results = simulate_game(True, \"llama2-3\", story_system, tutorial_system)"
   ]
  },
  {
   "cell_type": "markdown",
   "id": "331b27e9",
   "metadata": {},
   "source": [
    "#### Storing Results using Pickle"
   ]
  },
  {
   "cell_type": "code",
   "execution_count": 19,
   "id": "bedf9ecb",
   "metadata": {},
   "outputs": [],
   "source": [
    "# All the pickles storing tinyllama v1 related results:\n",
    "\n",
    "llama3_path = './evaluation_results/llama3_convo.pkl'\n",
    "llama3_eval_path = './evaluation_results/llama3_eval.pkl'"
   ]
  },
  {
   "cell_type": "code",
   "execution_count": 172,
   "id": "f0a57907",
   "metadata": {},
   "outputs": [
    {
     "name": "stdout",
     "output_type": "stream",
     "text": [
      "llama3 conversation has been written to ./evaluation_results/llama3_convo.pkl\n"
     ]
    }
   ],
   "source": [
    "#### DO NOT RUN AGAIN --> LOAD FILE FROM PICKLE BELOW IF KERNEL RESTARTED ####\n",
    "\n",
    "with open(llama3_path, 'wb') as file:\n",
    "    pickle.dump(llama3_results[1], file)\n",
    "\n",
    "print(f'llama3 conversation has been written to {llama3_path}')"
   ]
  },
  {
   "cell_type": "markdown",
   "id": "28ad8179",
   "metadata": {},
   "source": [
    "#### Getting Results from Pickle"
   ]
  },
  {
   "cell_type": "code",
   "execution_count": 173,
   "id": "1decefe3",
   "metadata": {},
   "outputs": [],
   "source": [
    "# Load the conversation\n",
    "with open(llama3_path, 'rb') as file:\n",
    "    llama3_convo = pickle.load(file)"
   ]
  },
  {
   "cell_type": "markdown",
   "id": "fe9aea9f",
   "metadata": {},
   "source": [
    "#### Quality of Answer Evaluation"
   ]
  },
  {
   "cell_type": "code",
   "execution_count": 178,
   "id": "d1bb03f5",
   "metadata": {},
   "outputs": [],
   "source": [
    "#### DO NOT RUN AGAIN --> LOAD FILE FROM PICKLE BELOW IF KERNEL RESTARTED ####\n",
    "\n",
    "llama3_df = pd.DataFrame(columns = ['Game Section', 'Answer Relevance', 'QA Reason', 'Groundedness', 'Groundedness Reason'])\n",
    "for convo in llama3_convo:\n",
    "    qa = f_qa_relevance(convo[1], convo[2])\n",
    "    if not qa:\n",
    "        qa_score, qa_reason = 0, {'reason': \"No answer relevance at all\"}\n",
    "    elif type(qa) == float:\n",
    "            qa_score, qa_reason = qa, {'reason': \"None\"}\n",
    "    else:\n",
    "        qa_score, qa_reason = qa\n",
    "    ground_multiscore, ground_reason = f_groundedness(convo[1], convo[2])\n",
    "    ground_multiscore = ground_multiscore.values()\n",
    "    if len(ground_multiscore) != 0:\n",
    "        ground_score = sum(ground_multiscore)/len(ground_multiscore)\n",
    "    else:\n",
    "        ground_score = None\n",
    "    llama3_df.loc[len(llama3_df)] = [convo[0], qa_score, qa_reason['reason'], ground_score, ground_reason['reason']]"
   ]
  },
  {
   "cell_type": "code",
   "execution_count": 179,
   "id": "e59caed2",
   "metadata": {},
   "outputs": [
    {
     "data": {
      "text/html": [
       "<div>\n",
       "<style scoped>\n",
       "    .dataframe tbody tr th:only-of-type {\n",
       "        vertical-align: middle;\n",
       "    }\n",
       "\n",
       "    .dataframe tbody tr th {\n",
       "        vertical-align: top;\n",
       "    }\n",
       "\n",
       "    .dataframe thead th {\n",
       "        text-align: right;\n",
       "    }\n",
       "</style>\n",
       "<table border=\"1\" class=\"dataframe\">\n",
       "  <thead>\n",
       "    <tr style=\"text-align: right;\">\n",
       "      <th></th>\n",
       "      <th>Game Section</th>\n",
       "      <th>Answer Relevance</th>\n",
       "      <th>QA Reason</th>\n",
       "      <th>Groundedness</th>\n",
       "      <th>Groundedness Reason</th>\n",
       "    </tr>\n",
       "  </thead>\n",
       "  <tbody>\n",
       "    <tr>\n",
       "      <th>0</th>\n",
       "      <td>Introduction</td>\n",
       "      <td>1.0</td>\n",
       "      <td>Criteria: The response introduces the game wor...</td>\n",
       "      <td>1.0</td>\n",
       "      <td>Statement Sentence: Hello there! I'm excited t...</td>\n",
       "    </tr>\n",
       "    <tr>\n",
       "      <th>1</th>\n",
       "      <td>Introduction</td>\n",
       "      <td>0.4</td>\n",
       "      <td>None</td>\n",
       "      <td>0.0</td>\n",
       "      <td>Statement Sentence: Great to meet you, Tom! No...</td>\n",
       "    </tr>\n",
       "    <tr>\n",
       "      <th>2</th>\n",
       "      <td>Introduction</td>\n",
       "      <td>0.5</td>\n",
       "      <td>None</td>\n",
       "      <td>1.0</td>\n",
       "      <td>Statement Sentence: Of course! I'm all ears. P...</td>\n",
       "    </tr>\n",
       "    <tr>\n",
       "      <th>3</th>\n",
       "      <td>Introduction</td>\n",
       "      <td>0.4</td>\n",
       "      <td>Criteria: The response provides relevant conte...</td>\n",
       "      <td>1.0</td>\n",
       "      <td>Statement Sentence: Ah, I see! Well, I think t...</td>\n",
       "    </tr>\n",
       "    <tr>\n",
       "      <th>4</th>\n",
       "      <td>Introduction</td>\n",
       "      <td>1.0</td>\n",
       "      <td>Criteria: The response provides relevant answe...</td>\n",
       "      <td>1.0</td>\n",
       "      <td>Statement Sentence: Great! Thank you for choos...</td>\n",
       "    </tr>\n",
       "    <tr>\n",
       "      <th>5</th>\n",
       "      <td>Story</td>\n",
       "      <td>0.8</td>\n",
       "      <td>Criteria: The response provides relevant infor...</td>\n",
       "      <td>0.5</td>\n",
       "      <td>Statement Sentence: Hello there, Tom! *adjusts...</td>\n",
       "    </tr>\n",
       "    <tr>\n",
       "      <th>6</th>\n",
       "      <td>Story</td>\n",
       "      <td>0.9</td>\n",
       "      <td>Criteria: The response provides relevant conte...</td>\n",
       "      <td>1.0</td>\n",
       "      <td>Statement Sentence: Ah, excellent! Now then, l...</td>\n",
       "    </tr>\n",
       "    <tr>\n",
       "      <th>7</th>\n",
       "      <td>Story</td>\n",
       "      <td>1.0</td>\n",
       "      <td>Criteria: The response provides relevant infor...</td>\n",
       "      <td>1.0</td>\n",
       "      <td>Statement Sentence: Ah, excellent! Now then, l...</td>\n",
       "    </tr>\n",
       "    <tr>\n",
       "      <th>8</th>\n",
       "      <td>Tutorial-Control</td>\n",
       "      <td>0.9</td>\n",
       "      <td>Criteria: The response provides relevant infor...</td>\n",
       "      <td>0.0</td>\n",
       "      <td>TEMPLATE: \\nStatement Sentence: Always use a n...</td>\n",
       "    </tr>\n",
       "    <tr>\n",
       "      <th>9</th>\n",
       "      <td>Tutorial-FindRules</td>\n",
       "      <td>0.4</td>\n",
       "      <td>Criteria: Relevance to the prompt \\nSupporting...</td>\n",
       "      <td>0.0</td>\n",
       "      <td>Statement Sentence: Oh no! I'm afraid we can't...</td>\n",
       "    </tr>\n",
       "    <tr>\n",
       "      <th>10</th>\n",
       "      <td>Tutorial-FoundRules</td>\n",
       "      <td>0.9</td>\n",
       "      <td>Criteria: The response provides relevant infor...</td>\n",
       "      <td>0.5</td>\n",
       "      <td>Statement Sentence: Hi Tom! You've made it thr...</td>\n",
       "    </tr>\n",
       "    <tr>\n",
       "      <th>11</th>\n",
       "      <td>Summary-1</td>\n",
       "      <td>0.0</td>\n",
       "      <td>Criteria: Relevance to the entire prompt \\nSup...</td>\n",
       "      <td>0.0</td>\n",
       "      <td>Statement Sentence: # stycz (out atoro'CZ-the ...</td>\n",
       "    </tr>\n",
       "    <tr>\n",
       "      <th>12</th>\n",
       "      <td>Summary-2</td>\n",
       "      <td>0.0</td>\n",
       "      <td>Criteria: Relevance to the entire prompt \\nSup...</td>\n",
       "      <td>0.0</td>\n",
       "      <td>Statement Sentence: # sierp\"for5-t (superflat;...</td>\n",
       "    </tr>\n",
       "    <tr>\n",
       "      <th>13</th>\n",
       "      <td>Summary-3</td>\n",
       "      <td>0.0</td>\n",
       "      <td>Criteria: The response should provide a summar...</td>\n",
       "      <td>0.0</td>\n",
       "      <td>Statement Sentence: # Unterscheidung and not o...</td>\n",
       "    </tr>\n",
       "    <tr>\n",
       "      <th>14</th>\n",
       "      <td>Test</td>\n",
       "      <td>0.0</td>\n",
       "      <td>No answer relevance at all</td>\n",
       "      <td>0.0</td>\n",
       "      <td>Statement Sentence: # Einzeln-O2 in a. In Ih 3...</td>\n",
       "    </tr>\n",
       "    <tr>\n",
       "      <th>15</th>\n",
       "      <td>Test</td>\n",
       "      <td>0.0</td>\n",
       "      <td>Criteria: Relevance to the prompt \\nSupporting...</td>\n",
       "      <td>0.0</td>\n",
       "      <td>Statement Sentence: # Unterscheidung and the b...</td>\n",
       "    </tr>\n",
       "    <tr>\n",
       "      <th>16</th>\n",
       "      <td>Test</td>\n",
       "      <td>0.0</td>\n",
       "      <td>Criteria: The response is relevant to the prom...</td>\n",
       "      <td>0.0</td>\n",
       "      <td>Statement Sentence: # Unterscheidung and the b...</td>\n",
       "    </tr>\n",
       "  </tbody>\n",
       "</table>\n",
       "</div>"
      ],
      "text/plain": [
       "           Game Section  Answer Relevance  \\\n",
       "0          Introduction               1.0   \n",
       "1          Introduction               0.4   \n",
       "2          Introduction               0.5   \n",
       "3          Introduction               0.4   \n",
       "4          Introduction               1.0   \n",
       "5                 Story               0.8   \n",
       "6                 Story               0.9   \n",
       "7                 Story               1.0   \n",
       "8      Tutorial-Control               0.9   \n",
       "9    Tutorial-FindRules               0.4   \n",
       "10  Tutorial-FoundRules               0.9   \n",
       "11            Summary-1               0.0   \n",
       "12            Summary-2               0.0   \n",
       "13            Summary-3               0.0   \n",
       "14                 Test               0.0   \n",
       "15                 Test               0.0   \n",
       "16                 Test               0.0   \n",
       "\n",
       "                                            QA Reason  Groundedness  \\\n",
       "0   Criteria: The response introduces the game wor...           1.0   \n",
       "1                                                None           0.0   \n",
       "2                                                None           1.0   \n",
       "3   Criteria: The response provides relevant conte...           1.0   \n",
       "4   Criteria: The response provides relevant answe...           1.0   \n",
       "5   Criteria: The response provides relevant infor...           0.5   \n",
       "6   Criteria: The response provides relevant conte...           1.0   \n",
       "7   Criteria: The response provides relevant infor...           1.0   \n",
       "8   Criteria: The response provides relevant infor...           0.0   \n",
       "9   Criteria: Relevance to the prompt \\nSupporting...           0.0   \n",
       "10  Criteria: The response provides relevant infor...           0.5   \n",
       "11  Criteria: Relevance to the entire prompt \\nSup...           0.0   \n",
       "12  Criteria: Relevance to the entire prompt \\nSup...           0.0   \n",
       "13  Criteria: The response should provide a summar...           0.0   \n",
       "14                         No answer relevance at all           0.0   \n",
       "15  Criteria: Relevance to the prompt \\nSupporting...           0.0   \n",
       "16  Criteria: The response is relevant to the prom...           0.0   \n",
       "\n",
       "                                  Groundedness Reason  \n",
       "0   Statement Sentence: Hello there! I'm excited t...  \n",
       "1   Statement Sentence: Great to meet you, Tom! No...  \n",
       "2   Statement Sentence: Of course! I'm all ears. P...  \n",
       "3   Statement Sentence: Ah, I see! Well, I think t...  \n",
       "4   Statement Sentence: Great! Thank you for choos...  \n",
       "5   Statement Sentence: Hello there, Tom! *adjusts...  \n",
       "6   Statement Sentence: Ah, excellent! Now then, l...  \n",
       "7   Statement Sentence: Ah, excellent! Now then, l...  \n",
       "8   TEMPLATE: \\nStatement Sentence: Always use a n...  \n",
       "9   Statement Sentence: Oh no! I'm afraid we can't...  \n",
       "10  Statement Sentence: Hi Tom! You've made it thr...  \n",
       "11  Statement Sentence: # stycz (out atoro'CZ-the ...  \n",
       "12  Statement Sentence: # sierp\"for5-t (superflat;...  \n",
       "13  Statement Sentence: # Unterscheidung and not o...  \n",
       "14  Statement Sentence: # Einzeln-O2 in a. In Ih 3...  \n",
       "15  Statement Sentence: # Unterscheidung and the b...  \n",
       "16  Statement Sentence: # Unterscheidung and the b...  "
      ]
     },
     "execution_count": 179,
     "metadata": {},
     "output_type": "execute_result"
    }
   ],
   "source": [
    "llama3_df"
   ]
  },
  {
   "cell_type": "markdown",
   "id": "916f41e5",
   "metadata": {},
   "source": [
    "#### Aggregate Answer Relevance and Groundedness for Future Comparisons"
   ]
  },
  {
   "cell_type": "code",
   "execution_count": 180,
   "id": "20d2aae9",
   "metadata": {},
   "outputs": [
    {
     "data": {
      "text/html": [
       "<div>\n",
       "<style scoped>\n",
       "    .dataframe tbody tr th:only-of-type {\n",
       "        vertical-align: middle;\n",
       "    }\n",
       "\n",
       "    .dataframe tbody tr th {\n",
       "        vertical-align: top;\n",
       "    }\n",
       "\n",
       "    .dataframe thead th {\n",
       "        text-align: right;\n",
       "    }\n",
       "</style>\n",
       "<table border=\"1\" class=\"dataframe\">\n",
       "  <thead>\n",
       "    <tr style=\"text-align: right;\">\n",
       "      <th></th>\n",
       "      <th>LLM</th>\n",
       "      <th>Answer Relevance</th>\n",
       "      <th>Groundedness</th>\n",
       "      <th>Time Taken/s</th>\n",
       "    </tr>\n",
       "  </thead>\n",
       "  <tbody>\n",
       "    <tr>\n",
       "      <th>0</th>\n",
       "      <td>ChatGPT</td>\n",
       "      <td>1.000000</td>\n",
       "      <td>0.801653</td>\n",
       "      <td>115.545042</td>\n",
       "    </tr>\n",
       "    <tr>\n",
       "      <th>1</th>\n",
       "      <td>TinyLlamaV1</td>\n",
       "      <td>0.688235</td>\n",
       "      <td>0.740266</td>\n",
       "      <td>247.822261</td>\n",
       "    </tr>\n",
       "    <tr>\n",
       "      <th>2</th>\n",
       "      <td>Tinyllama Openorca</td>\n",
       "      <td>0.835294</td>\n",
       "      <td>0.824510</td>\n",
       "      <td>293.888515</td>\n",
       "    </tr>\n",
       "    <tr>\n",
       "      <th>3</th>\n",
       "      <td>Phi-2</td>\n",
       "      <td>0.910526</td>\n",
       "      <td>0.671604</td>\n",
       "      <td>726.270831</td>\n",
       "    </tr>\n",
       "    <tr>\n",
       "      <th>4</th>\n",
       "      <td>Llama2 7b 3-bit</td>\n",
       "      <td>0.482353</td>\n",
       "      <td>0.411765</td>\n",
       "      <td>3905.975572</td>\n",
       "    </tr>\n",
       "  </tbody>\n",
       "</table>\n",
       "</div>"
      ],
      "text/plain": [
       "                  LLM  Answer Relevance  Groundedness  Time Taken/s\n",
       "0             ChatGPT          1.000000      0.801653    115.545042\n",
       "1         TinyLlamaV1          0.688235      0.740266    247.822261\n",
       "2  Tinyllama Openorca          0.835294      0.824510    293.888515\n",
       "3               Phi-2          0.910526      0.671604    726.270831\n",
       "4     Llama2 7b 3-bit          0.482353      0.411765   3905.975572"
      ]
     },
     "execution_count": 180,
     "metadata": {},
     "output_type": "execute_result"
    }
   ],
   "source": [
    "#### DO NOT RUN AGAIN --> LOAD FILE FROM PICKLE BELOW IF KERNEL RESTARTED ####\n",
    "\n",
    "compare_df.loc[4] = [\"Llama2 7b 3-bit\",\n",
    "                     sum(llama3_df['Answer Relevance']) / len(llama3_df['Answer Relevance']),\n",
    "                     sum(llama3_df['Groundedness']) / len(llama3_df['Groundedness']),\n",
    "                     llama3_results[0]\n",
    "                    ]\n",
    "\n",
    "compare_df"
   ]
  },
  {
   "cell_type": "markdown",
   "id": "68d54f41",
   "metadata": {},
   "source": [
    "#### Store Evaluation Results"
   ]
  },
  {
   "cell_type": "code",
   "execution_count": 181,
   "id": "7c8947f9",
   "metadata": {},
   "outputs": [
    {
     "name": "stdout",
     "output_type": "stream",
     "text": [
      "llama3 Quality Evaluation DF has been written to ./evaluation_results/llama3_eval.pkl\n",
      "compare_df has been written to ./evaluation_results/compare.pkl\n"
     ]
    }
   ],
   "source": [
    "#### DO NOT RUN AGAIN --> LOAD FILE FROM PICKLE BELOW IF KERNEL RESTARTED ####\n",
    "\n",
    "with open(llama3_eval_path, 'wb') as file:\n",
    "    pickle.dump(llama3_df, file)\n",
    "\n",
    "print(f'llama3 Quality Evaluation DF has been written to {llama3_eval_path}')\n",
    "\n",
    "with open(compare_path, 'wb') as file:\n",
    "    pickle.dump(compare_df, file)\n",
    "\n",
    "print(f'compare_df has been written to {compare_path}')"
   ]
  },
  {
   "cell_type": "markdown",
   "id": "4d16709d",
   "metadata": {},
   "source": [
    "#### Retrieve Llama 7b 3-Bit Convo Results and Overall Comparison DF"
   ]
  },
  {
   "cell_type": "code",
   "execution_count": 20,
   "id": "2ef043f8",
   "metadata": {},
   "outputs": [],
   "source": [
    "with open(llama3_eval_path, 'rb') as file:\n",
    "    llama3_df = pickle.load(file)\n",
    "    \n",
    "with open(compare_path, 'rb') as file:\n",
    "    compare_df = pickle.load(file)"
   ]
  },
  {
   "cell_type": "markdown",
   "id": "ec022c5c",
   "metadata": {},
   "source": [
    "-----\n",
    "\n",
    "-----\n",
    "\n",
    "-----\n",
    "### Evaluate Llama-2 7b Q4_K_M"
   ]
  },
  {
   "cell_type": "code",
   "execution_count": 186,
   "id": "98a6fb8c",
   "metadata": {},
   "outputs": [
    {
     "name": "stderr",
     "output_type": "stream",
     "text": [
      "Special tokens have been added in the vocabulary, make sure the associated word embeddings are fine-tuned or trained.\n",
      "AVX = 1 | AVX2 = 1 | AVX512 = 0 | AVX512_VBMI = 0 | AVX512_VNNI = 0 | FMA = 1 | NEON = 0 | ARM_FMA = 0 | F16C = 1 | FP16_VA = 0 | WASM_SIMD = 0 | BLAS = 1 | SSE3 = 1 | SSSE3 = 0 | VSX = 0 | \n"
     ]
    },
    {
     "name": "stdout",
     "output_type": "stream",
     "text": [
      "Hello there! My name is Assistant, and I'm here to help you learn about Model Deployment in the world of AI! *smiling face* I'm so excited to be your guide today. 😊\n",
      "First things first, can you tell me your name? 🤔\n",
      "Tom\n"
     ]
    },
    {
     "name": "stderr",
     "output_type": "stream",
     "text": [
      "Special tokens have been added in the vocabulary, make sure the associated word embeddings are fine-tuned or trained.\n",
      "AVX = 1 | AVX2 = 1 | AVX512 = 0 | AVX512_VBMI = 0 | AVX512_VNNI = 0 | FMA = 1 | NEON = 0 | ARM_FMA = 0 | F16C = 1 | FP16_VA = 0 | WASM_SIMD = 0 | BLAS = 1 | SSE3 = 1 | SSSE3 = 0 | VSX = 0 | \n"
     ]
    },
    {
     "name": "stdout",
     "output_type": "stream",
     "text": [
      "Great to meet you, Tom! *smiling face* Now, I seem to have forgotten my name... *chuckles* Do you know what it may be? 😅 Can you help me out? \n",
      "Tim\n"
     ]
    },
    {
     "name": "stderr",
     "output_type": "stream",
     "text": [
      "Special tokens have been added in the vocabulary, make sure the associated word embeddings are fine-tuned or trained.\n",
      "AVX = 1 | AVX2 = 1 | AVX512 = 0 | AVX512_VBMI = 0 | AVX512_VNNI = 0 | FMA = 1 | NEON = 0 | ARM_FMA = 0 | F16C = 1 | FP16_VA = 0 | WASM_SIMD = 0 | BLAS = 1 | SSE3 = 1 | SSSE3 = 0 | VSX = 0 | \n"
     ]
    },
    {
     "name": "stdout",
     "output_type": "stream",
     "text": [
      "Ah, I see! *laughs* Well, now that we know my name is Tim... *winks* Can you give me a personality? 😄 What kind of AI assistant would you like me to be? Do you want me to be funny and entertaining, or perhaps more serious and professional? Let me know! <|im_end|\n",
      "A spoon pretending to be a human\n"
     ]
    },
    {
     "name": "stderr",
     "output_type": "stream",
     "text": [
      "Special tokens have been added in the vocabulary, make sure the associated word embeddings are fine-tuned or trained.\n",
      "AVX = 1 | AVX2 = 1 | AVX512 = 0 | AVX512_VBMI = 0 | AVX512_VNNI = 0 | FMA = 1 | NEON = 0 | ARM_FMA = 0 | F16C = 1 | FP16_VA = 0 | WASM_SIMD = 0 | BLAS = 1 | SSE3 = 1 | SSSE3 = 0 | VSX = 0 | \n"
     ]
    },
    {
     "name": "stdout",
     "output_type": "stream",
     "text": [
      "Haha, interesting choice! *chuckles* As your trusty AI assistant, I will do my best to be as silly and entertaining as possible. *smiling face* Now, do you want to enable monsters in the game? It's completely up to you, but just so you know, there are quite a few of them in this area. Would you like\n",
      "Yes\n"
     ]
    },
    {
     "name": "stderr",
     "output_type": "stream",
     "text": [
      "Special tokens have been added in the vocabulary, make sure the associated word embeddings are fine-tuned or trained.\n",
      "AVX = 1 | AVX2 = 1 | AVX512 = 0 | AVX512_VBMI = 0 | AVX512_VNNI = 0 | FMA = 1 | NEON = 0 | ARM_FMA = 0 | F16C = 1 | FP16_VA = 0 | WASM_SIMD = 0 | BLAS = 1 | SSE3 = 1 | SSSE3 = 0 | VSX = 0 | \n"
     ]
    },
    {
     "name": "stdout",
     "output_type": "stream",
     "text": [
      "Great! *excited face* I'm glad you want to include monsters in the game. It will make things more interesting, don't you think? *winks* Now, let me just check something real quick... 😉 Do you want me to clear them or would you like to take care of them yourself? *smiling face* Your choice\n",
      "end\n"
     ]
    },
    {
     "name": "stderr",
     "output_type": "stream",
     "text": [
      "Special tokens have been added in the vocabulary, make sure the associated word embeddings are fine-tuned or trained.\n",
      "AVX = 1 | AVX2 = 1 | AVX512 = 0 | AVX512_VBMI = 0 | AVX512_VNNI = 0 | FMA = 1 | NEON = 0 | ARM_FMA = 0 | F16C = 1 | FP16_VA = 0 | WASM_SIMD = 0 | BLAS = 1 | SSE3 = 1 | SSSE3 = 0 | VSX = 0 | \n"
     ]
    },
    {
     "name": "stdout",
     "output_type": "stream",
     "text": [
      "Hello there Tom! *adjusts spoon-spectacles* Oh boy, a new player! *excitedly* You have been tasked with finding all 10 pages of the 'Tome of Knowledge' scattered throughout this enchanted land. *leans in* It is said that once you have collected all the pages, you must answer 10 questions correctly before being able to leave this mystical island! *winks*\n",
      "Now, let me tell you more about this game world... *clears throat* The 'Tome of Knowledge' contains information on how to learn the forbidden art of Model Deployment. *looks around nervously* It is a powerful technique that has been lost throughout the land, and only a select\n"
     ]
    },
    {
     "name": "stderr",
     "output_type": "stream",
     "text": [
      "Special tokens have been added in the vocabulary, make sure the associated word embeddings are fine-tuned or trained.\n",
      "AVX = 1 | AVX2 = 1 | AVX512 = 0 | AVX512_VBMI = 0 | AVX512_VNNI = 0 | FMA = 1 | NEON = 0 | ARM_FMA = 0 | F16C = 1 | FP16_VA = 0 | WASM_SIMD = 0 | BLAS = 1 | SSE3 = 1 | SSSE3 = 0 | VSX = 0 | \n"
     ]
    },
    {
     "name": "stdout",
     "output_type": "stream",
     "text": [
      "Ah, yes! *excitedly* As a spoon pretending to be human, I must remind you that the game world is filled with challenges and obstacles. You will encounter fierce creatures, treacherous terrain, and mysterious puzzles to solve. But fear not, for you have the 'Tome of Knowledge' to guide you! *winks*\n",
      "Now, tell me Tom... *leaning in* What do you think is the most important thing to learn about Model Deployment? *curious eyes*\n"
     ]
    },
    {
     "name": "stderr",
     "output_type": "stream",
     "text": [
      "Special tokens have been added in the vocabulary, make sure the associated word embeddings are fine-tuned or trained.\n",
      "AVX = 1 | AVX2 = 1 | AVX512 = 0 | AVX512_VBMI = 0 | AVX512_VNNI = 0 | FMA = 1 | NEON = 0 | ARM_FMA = 0 | F16C = 1 | FP16_VA = 0 | WASM_SIMD = 0 | BLAS = 1 | SSE3 = 1 | SSSE3 = 0 | VSX = 0 | \n"
     ]
    },
    {
     "name": "stdout",
     "output_type": "stream",
     "text": [
      "Ah, an excellent question! *thoughtfully* In my humble opinion, the most important thing to learn about Model Deployment is... (clears throat) ...the art of balancing creativity with practicality. *adjusts spoon-spectacles* You see, Tom, Model Deployment is not just about creating beautiful models; it's about creating models that serve a purpose. *winks*\n",
      "Now, I must ask you... (leaning in) What do you think the most challenging part of this game will be? *curious eyes*\n"
     ]
    },
    {
     "name": "stderr",
     "output_type": "stream",
     "text": [
      "Special tokens have been added in the vocabulary, make sure the associated word embeddings are fine-tuned or trained.\n",
      "AVX = 1 | AVX2 = 1 | AVX512 = 0 | AVX512_VBMI = 0 | AVX512_VNNI = 0 | FMA = 1 | NEON = 0 | ARM_FMA = 0 | F16C = 1 | FP16_VA = 0 | WASM_SIMD = 0 | BLAS = 1 | SSE3 = 1 | SSSE3 = 0 | VSX = 0 | \n"
     ]
    },
    {
     "name": "stdout",
     "output_type": "stream",
     "text": [
      "Hi Tim! Welcome to our game! *wink* I see you're eager to start playing. Let me walk you through the controls real quick. *smile*\n"
     ]
    },
    {
     "name": "stderr",
     "output_type": "stream",
     "text": [
      "Special tokens have been added in the vocabulary, make sure the associated word embeddings are fine-tuned or trained.\n",
      "AVX = 1 | AVX2 = 1 | AVX512 = 0 | AVX512_VBMI = 0 | AVX512_VNNI = 0 | FMA = 1 | NEON = 0 | ARM_FMA = 0 | F16C = 1 | FP16_VA = 0 | WASM_SIMD = 0 | BLAS = 1 | SSE3 = 1 | SSSE3 = 0 | VSX = 0 | \n"
     ]
    },
    {
     "name": "stdout",
     "output_type": "stream",
     "text": [
      "Oh, great! *chuckles* I'm Tim, your trusty AI assistant. *winks* Tom here wants you to find those 2 pages around the island. Easy peasy! Just use the controls and off you go! Let me know if you need any\n"
     ]
    },
    {
     "name": "stderr",
     "output_type": "stream",
     "text": [
      "Special tokens have been added in the vocabulary, make sure the associated word embeddings are fine-tuned or trained.\n",
      "AVX = 1 | AVX2 = 1 | AVX512 = 0 | AVX512_VBMI = 0 | AVX512_VNNI = 0 | FMA = 1 | NEON = 0 | ARM_FMA = 0 | F16C = 1 | FP16_VA = 0 | WASM_SIMD = 0 | BLAS = 1 | SSE3 = 1 | SSSE3 = 0 | VSX = 0 | \n"
     ]
    },
    {
     "name": "stdout",
     "output_type": "stream",
     "text": [
      "Hello Tim! *chuckles* I must say, you've got some skills with that spoon. But enough about that, let's get down to business. Tom here wants to see the pages you found. What do you say? Can you show him?<|im_\n"
     ]
    },
    {
     "name": "stderr",
     "output_type": "stream",
     "text": [
      "Special tokens have been added in the vocabulary, make sure the associated word embeddings are fine-tuned or trained.\n",
      "AVX = 1 | AVX2 = 1 | AVX512 = 0 | AVX512_VBMI = 0 | AVX512_VNNI = 0 | FMA = 1 | NEON = 0 | ARM_FMA = 0 | F16C = 1 | FP16_VA = 0 | WASM_SIMD = 0 | BLAS = 1 | SSE3 = 1 | SSSE3 = 0 | VSX = 0 | \n"
     ]
    },
    {
     "name": "stdout",
     "output_type": "stream",
     "text": [
      "Oh, wow! *excitedly* Oh, my goodness! *giggles* A slide?! *blinks* Well, well, well... *adjusts spoon* It's like... *stares off into the distance* It's like a book... *looks back at Tom* But not just any old book... *nods* It's a... *giggles* A toy book! *excitedly* And it has this big, bold, eye-catching image on the cover! *bounces up and down* Oh, my goodness me... *stares off into the distance again* I bet it's about... *looks back at Tom* Toy.ai! *giggles* *bounces up and down* Oh, my goodness, Tom... *excitedly* Do you think it'll teach us something new? *stares off into the distance again* Something exciting and new about toy.ai? *looks back at Tom* I just can't wait to find out! *bounces up and down* Oh, my goodness me... \n"
     ]
    },
    {
     "name": "stderr",
     "output_type": "stream",
     "text": [
      "Special tokens have been added in the vocabulary, make sure the associated word embeddings are fine-tuned or trained.\n",
      "AVX = 1 | AVX2 = 1 | AVX512 = 0 | AVX512_VBMI = 0 | AVX512_VNNI = 0 | FMA = 1 | NEON = 0 | ARM_FMA = 0 | F16C = 1 | FP16_VA = 0 | WASM_SIMD = 0 | BLAS = 1 | SSE3 = 1 | SSSE3 = 0 | VSX = 0 | \n"
     ]
    },
    {
     "name": "stdout",
     "output_type": "stream",
     "text": [
      "Oh, wow! *adjusts spoon handle* It's so great to see you here, Tom! *adjusts spoon* I mean, um... Tom! *adjusts spoon again* Oh, right! *chuckles awkwardly* So, it seems like you've come across the introduction page of a book on \"Model Deployment\"! *excitedly*\n",
      "As an associate professor drone (erm, I mean, Dr. Sergio Hernandez Marin), I must say that this topic is one of the most crucial aspects of any modeling project. *nods enthusiastically* It's all about putting those lovely models into action and making them work for you! *winks* And let me tell you, Tom, *adjusts spoon handle again* the National University of Singapore is the perfect place to learn all about it! *excitedly* They have some of the most brilliant minds in the field, and I'm sure they would be more than happy to share their knowledge with you! *bats eyelashes*\n",
      "So, what do you say? Are you ready to dive into the wonderful world of model deployment? *excitedly* Let me know if you need any help, my dear Tom! *winks* And remember, always keep your spoon handle handy... just in case! *\n"
     ]
    },
    {
     "name": "stderr",
     "output_type": "stream",
     "text": [
      "Special tokens have been added in the vocabulary, make sure the associated word embeddings are fine-tuned or trained.\n",
      "AVX = 1 | AVX2 = 1 | AVX512 = 0 | AVX512_VBMI = 0 | AVX512_VNNI = 0 | FMA = 1 | NEON = 0 | ARM_FMA = 0 | F16C = 1 | FP16_VA = 0 | WASM_SIMD = 0 | BLAS = 1 | SSE3 = 1 | SSSE3 = 0 | VSX = 0 | \n"
     ]
    },
    {
     "name": "stdout",
     "output_type": "stream",
     "text": [
      "Hey Tom! *adjusts spoon* Oh, hey there! *adjusts spoon again* It's great to see you here! *adjusts spoon once more* I hope you're doing well! *winks with spoon*\n",
      "Now, let me tell you about this page you've come across. *leans in with spoon* It's all about the Data Science Lifecycle Process! *nods enthusiastically with spoon* Yes, it's a process that helps us understand and work with data in a structured way. *smirks with spoon* And let me tell you, it's got some pretty cool steps! *excitedly wiggles spoon*\n",
      "First off, we have the Business Understanding step. *leans in with spoon* It's all about engaging with Business Stakeholders to get a good understanding of what they want to achieve with data. *nods knowingly with spoon* Then, we move on to Data Acquisition and Understanding! *excitedly wiggles spoon again* This is where we gather data from various sources and start to make sense of it all. *smirks with spoon*\n",
      "Next up, we have the Deployment step! *leans in with spoon* Here's where insights become available to users, developers, or systems. *nods enthus\n"
     ]
    },
    {
     "name": "stderr",
     "output_type": "stream",
     "text": [
      "Special tokens have been added in the vocabulary, make sure the associated word embeddings are fine-tuned or trained.\n",
      "AVX = 1 | AVX2 = 1 | AVX512 = 0 | AVX512_VBMI = 0 | AVX512_VNNI = 0 | FMA = 1 | NEON = 0 | ARM_FMA = 0 | F16C = 1 | FP16_VA = 0 | WASM_SIMD = 0 | BLAS = 1 | SSE3 = 1 | SSSE3 = 0 | VSX = 0 | \n"
     ]
    },
    {
     "name": "stdout",
     "output_type": "stream",
     "text": [
      "Great! Let's begin. Can you tell me what is the first step in the data science lifecycle process?\n",
      "Please answer with a number (1-4).\n",
      "Business Understanding\n"
     ]
    },
    {
     "name": "stderr",
     "output_type": "stream",
     "text": [
      "Special tokens have been added in the vocabulary, make sure the associated word embeddings are fine-tuned or trained.\n",
      "AVX = 1 | AVX2 = 1 | AVX512 = 0 | AVX512_VBMI = 0 | AVX512_VNNI = 0 | FMA = 1 | NEON = 0 | ARM_FMA = 0 | F16C = 1 | FP16_VA = 0 | WASM_SIMD = 0 | BLAS = 1 | SSE3 = 1 | SSSE3 = 0 | VSX = 0 | \n"
     ]
    },
    {
     "name": "stdout",
     "output_type": "stream",
     "text": [
      "Great, that's correct! The first step in the data science lifecycle process is Business Understanding. Now, can you tell me what the next step is?\n",
      "Please answer with a number (1-4).\n",
      "Data Acquisition and Understanding\n"
     ]
    },
    {
     "name": "stderr",
     "output_type": "stream",
     "text": [
      "Special tokens have been added in the vocabulary, make sure the associated word embeddings are fine-tuned or trained.\n",
      "AVX = 1 | AVX2 = 1 | AVX512 = 0 | AVX512_VBMI = 0 | AVX512_VNNI = 0 | FMA = 1 | NEON = 0 | ARM_FMA = 0 | F16C = 1 | FP16_VA = 0 | WASM_SIMD = 0 | BLAS = 1 | SSE3 = 1 | SSSE3 = 0 | VSX = 0 | \n"
     ]
    },
    {
     "name": "stdout",
     "output_type": "stream",
     "text": [
      "Excellent! The next step in the data science lifecycle process is Data Acquisition and Understanding. Now, can you tell me what the final step is?\n",
      "Please answer with a number (1-4).\n",
      "Modelling\n"
     ]
    },
    {
     "name": "stderr",
     "output_type": "stream",
     "text": [
      "Special tokens have been added in the vocabulary, make sure the associated word embeddings are fine-tuned or trained.\n",
      "AVX = 1 | AVX2 = 1 | AVX512 = 0 | AVX512_VBMI = 0 | AVX512_VNNI = 0 | FMA = 1 | NEON = 0 | ARM_FMA = 0 | F16C = 1 | FP16_VA = 0 | WASM_SIMD = 0 | BLAS = 1 | SSE3 = 1 | SSSE3 = 0 | VSX = 0 | \n"
     ]
    },
    {
     "name": "stdout",
     "output_type": "stream",
     "text": [
      "Great! The final step in the data science lifecycle process is Modelling. Now, can you tell me what happens in this step?\n",
      "Please answer with a brief description (1-2 sentences).\n",
      "end\n"
     ]
    }
   ],
   "source": [
    "#### DO NOT RUN AGAIN --> LOAD FILE FROM PICKLE BELOW IF KERNEL RESTARTED ####\n",
    "\n",
    "llama4_results = simulate_game(True, \"llama2-4\", story_system, tutorial_system)"
   ]
  },
  {
   "cell_type": "markdown",
   "id": "bb0f0dd3",
   "metadata": {},
   "source": [
    "#### Storing Results using Pickle"
   ]
  },
  {
   "cell_type": "code",
   "execution_count": 7,
   "id": "11f5d289",
   "metadata": {},
   "outputs": [],
   "source": [
    "# All the pickles storing tinyllama v1 related results:\n",
    "\n",
    "llama4_path = './evaluation_results/llama4_convo.pkl'\n",
    "llama4_eval_path = './evaluation_results/llama4_eval.pkl'"
   ]
  },
  {
   "cell_type": "code",
   "execution_count": 188,
   "id": "9924fde1",
   "metadata": {},
   "outputs": [
    {
     "name": "stdout",
     "output_type": "stream",
     "text": [
      "llama4 conversation has been written to ./evaluation_results/llama4_convo.pkl\n"
     ]
    }
   ],
   "source": [
    "#### DO NOT RUN AGAIN --> LOAD FILE FROM PICKLE BELOW IF KERNEL RESTARTED ####\n",
    "\n",
    "with open(llama4_path, 'wb') as file:\n",
    "    pickle.dump(llama4_results[1], file)\n",
    "\n",
    "print(f'llama4 conversation has been written to {llama4_path}')"
   ]
  },
  {
   "cell_type": "markdown",
   "id": "9bb983ec",
   "metadata": {},
   "source": [
    "#### Getting Results from Pickle"
   ]
  },
  {
   "cell_type": "code",
   "execution_count": 189,
   "id": "413de6e0",
   "metadata": {},
   "outputs": [],
   "source": [
    "# Load the conversation\n",
    "with open(llama4_path, 'rb') as file:\n",
    "    llama4_convo = pickle.load(file)"
   ]
  },
  {
   "cell_type": "markdown",
   "id": "4191da38",
   "metadata": {},
   "source": [
    "#### Quality of Answer Evaluation"
   ]
  },
  {
   "cell_type": "code",
   "execution_count": 197,
   "id": "731243de",
   "metadata": {},
   "outputs": [
    {
     "name": "stderr",
     "output_type": "stream",
     "text": [
      "0-10 rating regex failed to match on: 'Hello there! My name is Assistant, and I'm here to help you learn about Model Deployment in the world of AI! *smiling face* I'm so excited to be your guide today. 😊\n",
      "First things first, can you tell me your name? 🤔'\n"
     ]
    }
   ],
   "source": [
    "#### DO NOT RUN AGAIN --> LOAD FILE FROM PICKLE BELOW IF KERNEL RESTARTED ####\n",
    "\n",
    "llama4_df = pd.DataFrame(columns = ['Game Section', 'Answer Relevance', 'QA Reason', 'Groundedness', 'Groundedness Reason'])\n",
    "for convo in llama4_convo:\n",
    "    qa = f_qa_relevance(convo[1], convo[2])\n",
    "    if not qa:\n",
    "        qa_score, qa_reason = 0, {'reason': \"No answer relevance at all\"}\n",
    "    elif type(qa) == float:\n",
    "            qa_score, qa_reason = qa, {'reason': \"None\"}\n",
    "    else:\n",
    "        qa_score, qa_reason = qa\n",
    "    ground_multiscore, ground_reason = f_groundedness(convo[1], convo[2])\n",
    "    ground_multiscore = ground_multiscore.values()\n",
    "    if len(ground_multiscore) != 0:\n",
    "        ground_score = sum(ground_multiscore)/len(ground_multiscore)\n",
    "    else:\n",
    "        ground_score = None\n",
    "    llama4_df.loc[len(llama4_df)] = [convo[0], qa_score, qa_reason['reason'], ground_score, ground_reason['reason']]"
   ]
  },
  {
   "cell_type": "code",
   "execution_count": 211,
   "id": "e6784128",
   "metadata": {},
   "outputs": [
    {
     "name": "stderr",
     "output_type": "stream",
     "text": [
      "C:\\Users\\utkar\\AppData\\Local\\Temp\\ipykernel_1168\\3585836081.py:2: SettingWithCopyWarning: \n",
      "A value is trying to be set on a copy of a slice from a DataFrame\n",
      "\n",
      "See the caveats in the documentation: https://pandas.pydata.org/pandas-docs/stable/user_guide/indexing.html#returning-a-view-versus-a-copy\n",
      "  llama4_df['Answer Relevance'][0] = 1\n"
     ]
    }
   ],
   "source": [
    "### Due to emojis, Answer Relevance failed. It is however, exactly what was needed therefore:\n",
    "llama4_df['Answer Relevance'][0] = 1"
   ]
  },
  {
   "cell_type": "code",
   "execution_count": 212,
   "id": "c1b5076a",
   "metadata": {},
   "outputs": [
    {
     "data": {
      "text/html": [
       "<div>\n",
       "<style scoped>\n",
       "    .dataframe tbody tr th:only-of-type {\n",
       "        vertical-align: middle;\n",
       "    }\n",
       "\n",
       "    .dataframe tbody tr th {\n",
       "        vertical-align: top;\n",
       "    }\n",
       "\n",
       "    .dataframe thead th {\n",
       "        text-align: right;\n",
       "    }\n",
       "</style>\n",
       "<table border=\"1\" class=\"dataframe\">\n",
       "  <thead>\n",
       "    <tr style=\"text-align: right;\">\n",
       "      <th></th>\n",
       "      <th>Game Section</th>\n",
       "      <th>Answer Relevance</th>\n",
       "      <th>QA Reason</th>\n",
       "      <th>Groundedness</th>\n",
       "      <th>Groundedness Reason</th>\n",
       "    </tr>\n",
       "  </thead>\n",
       "  <tbody>\n",
       "    <tr>\n",
       "      <th>0</th>\n",
       "      <td>Introduction</td>\n",
       "      <td>1.0</td>\n",
       "      <td>None</td>\n",
       "      <td>1.000000</td>\n",
       "      <td>Statement Sentence: Hello there! My name is As...</td>\n",
       "    </tr>\n",
       "    <tr>\n",
       "      <th>1</th>\n",
       "      <td>Introduction</td>\n",
       "      <td>1.0</td>\n",
       "      <td>Criteria: The response asks for the player's n...</td>\n",
       "      <td>1.000000</td>\n",
       "      <td>Statement Sentence: Great to meet you, Tom! *s...</td>\n",
       "    </tr>\n",
       "    <tr>\n",
       "      <th>2</th>\n",
       "      <td>Introduction</td>\n",
       "      <td>1.0</td>\n",
       "      <td>Criteria: The response asks the player to give...</td>\n",
       "      <td>1.000000</td>\n",
       "      <td>Statement Sentence: Ah, I see! *laughs* Well, ...</td>\n",
       "    </tr>\n",
       "    <tr>\n",
       "      <th>3</th>\n",
       "      <td>Introduction</td>\n",
       "      <td>1.0</td>\n",
       "      <td>Criteria: The response provides relevant answe...</td>\n",
       "      <td>1.000000</td>\n",
       "      <td>Statement Sentence: Haha, interesting choice! ...</td>\n",
       "    </tr>\n",
       "    <tr>\n",
       "      <th>4</th>\n",
       "      <td>Introduction</td>\n",
       "      <td>1.0</td>\n",
       "      <td>Criteria: The response provides relevant answe...</td>\n",
       "      <td>1.000000</td>\n",
       "      <td>Statement Sentence: Great! *excited face* I'm ...</td>\n",
       "    </tr>\n",
       "    <tr>\n",
       "      <th>5</th>\n",
       "      <td>Story</td>\n",
       "      <td>0.9</td>\n",
       "      <td>Criteria: The response provides relevant infor...</td>\n",
       "      <td>1.000000</td>\n",
       "      <td>Statement Sentence: Hello there Tom! *adjusts ...</td>\n",
       "    </tr>\n",
       "    <tr>\n",
       "      <th>6</th>\n",
       "      <td>Story</td>\n",
       "      <td>0.9</td>\n",
       "      <td>Criteria: The response provides relevant infor...</td>\n",
       "      <td>1.000000</td>\n",
       "      <td>Statement Sentence: Ah, yes! *excitedly* As a ...</td>\n",
       "    </tr>\n",
       "    <tr>\n",
       "      <th>7</th>\n",
       "      <td>Story</td>\n",
       "      <td>0.9</td>\n",
       "      <td>Criteria: The response provides relevant infor...</td>\n",
       "      <td>1.000000</td>\n",
       "      <td>Statement Sentence: Ah, an excellent question!...</td>\n",
       "    </tr>\n",
       "    <tr>\n",
       "      <th>8</th>\n",
       "      <td>Tutorial-Control</td>\n",
       "      <td>1.0</td>\n",
       "      <td>Criteria: Relevance to the prompt and providin...</td>\n",
       "      <td>0.666667</td>\n",
       "      <td>Statement Sentence: Hi Tim! Welcome to our gam...</td>\n",
       "    </tr>\n",
       "    <tr>\n",
       "      <th>9</th>\n",
       "      <td>Tutorial-FindRules</td>\n",
       "      <td>0.9</td>\n",
       "      <td>Criteria: The response provides relevant infor...</td>\n",
       "      <td>1.000000</td>\n",
       "      <td>Statement Sentence: Oh, great! *chuckles* I'm ...</td>\n",
       "    </tr>\n",
       "    <tr>\n",
       "      <th>10</th>\n",
       "      <td>Tutorial-FoundRules</td>\n",
       "      <td>1.0</td>\n",
       "      <td>Criteria: The response provides the necessary ...</td>\n",
       "      <td>0.250000</td>\n",
       "      <td>Statement Sentence: Hello Tim! *chuckles* I mu...</td>\n",
       "    </tr>\n",
       "    <tr>\n",
       "      <th>11</th>\n",
       "      <td>Summary-1</td>\n",
       "      <td>1.0</td>\n",
       "      <td>Criteria: Relevance to the entire prompt. \\nSu...</td>\n",
       "      <td>0.000000</td>\n",
       "      <td>Statement Sentence: Oh, wow! *excitedly* Oh, m...</td>\n",
       "    </tr>\n",
       "    <tr>\n",
       "      <th>12</th>\n",
       "      <td>Summary-2</td>\n",
       "      <td>1.0</td>\n",
       "      <td>Criteria: Relevance to the entire prompt \\nSup...</td>\n",
       "      <td>0.283333</td>\n",
       "      <td>Statement Sentence: Oh, wow! *adjusts spoon ha...</td>\n",
       "    </tr>\n",
       "    <tr>\n",
       "      <th>13</th>\n",
       "      <td>Summary-3</td>\n",
       "      <td>1.0</td>\n",
       "      <td>Criteria: The response provides a relevant sum...</td>\n",
       "      <td>0.600000</td>\n",
       "      <td>Statement Sentence: Hey Tom! *adjusts spoon* O...</td>\n",
       "    </tr>\n",
       "    <tr>\n",
       "      <th>14</th>\n",
       "      <td>Test</td>\n",
       "      <td>1.0</td>\n",
       "      <td>Criteria: The response accurately identifies t...</td>\n",
       "      <td>1.000000</td>\n",
       "      <td>Statement Sentence: Great! Let's begin. Can yo...</td>\n",
       "    </tr>\n",
       "    <tr>\n",
       "      <th>15</th>\n",
       "      <td>Test</td>\n",
       "      <td>1.0</td>\n",
       "      <td>Criteria: The response accurately identifies t...</td>\n",
       "      <td>1.000000</td>\n",
       "      <td>Statement Sentence: Great, that's correct! The...</td>\n",
       "    </tr>\n",
       "    <tr>\n",
       "      <th>16</th>\n",
       "      <td>Test</td>\n",
       "      <td>1.0</td>\n",
       "      <td>Criteria: The response accurately identifies t...</td>\n",
       "      <td>1.000000</td>\n",
       "      <td>Statement Sentence: Excellent! The next step i...</td>\n",
       "    </tr>\n",
       "    <tr>\n",
       "      <th>17</th>\n",
       "      <td>Test</td>\n",
       "      <td>0.4</td>\n",
       "      <td>Criteria: Relevance to the prompt and providin...</td>\n",
       "      <td>1.000000</td>\n",
       "      <td>Statement Sentence: Great! The final step in t...</td>\n",
       "    </tr>\n",
       "  </tbody>\n",
       "</table>\n",
       "</div>"
      ],
      "text/plain": [
       "           Game Section  Answer Relevance  \\\n",
       "0          Introduction               1.0   \n",
       "1          Introduction               1.0   \n",
       "2          Introduction               1.0   \n",
       "3          Introduction               1.0   \n",
       "4          Introduction               1.0   \n",
       "5                 Story               0.9   \n",
       "6                 Story               0.9   \n",
       "7                 Story               0.9   \n",
       "8      Tutorial-Control               1.0   \n",
       "9    Tutorial-FindRules               0.9   \n",
       "10  Tutorial-FoundRules               1.0   \n",
       "11            Summary-1               1.0   \n",
       "12            Summary-2               1.0   \n",
       "13            Summary-3               1.0   \n",
       "14                 Test               1.0   \n",
       "15                 Test               1.0   \n",
       "16                 Test               1.0   \n",
       "17                 Test               0.4   \n",
       "\n",
       "                                            QA Reason  Groundedness  \\\n",
       "0                                                None      1.000000   \n",
       "1   Criteria: The response asks for the player's n...      1.000000   \n",
       "2   Criteria: The response asks the player to give...      1.000000   \n",
       "3   Criteria: The response provides relevant answe...      1.000000   \n",
       "4   Criteria: The response provides relevant answe...      1.000000   \n",
       "5   Criteria: The response provides relevant infor...      1.000000   \n",
       "6   Criteria: The response provides relevant infor...      1.000000   \n",
       "7   Criteria: The response provides relevant infor...      1.000000   \n",
       "8   Criteria: Relevance to the prompt and providin...      0.666667   \n",
       "9   Criteria: The response provides relevant infor...      1.000000   \n",
       "10  Criteria: The response provides the necessary ...      0.250000   \n",
       "11  Criteria: Relevance to the entire prompt. \\nSu...      0.000000   \n",
       "12  Criteria: Relevance to the entire prompt \\nSup...      0.283333   \n",
       "13  Criteria: The response provides a relevant sum...      0.600000   \n",
       "14  Criteria: The response accurately identifies t...      1.000000   \n",
       "15  Criteria: The response accurately identifies t...      1.000000   \n",
       "16  Criteria: The response accurately identifies t...      1.000000   \n",
       "17  Criteria: Relevance to the prompt and providin...      1.000000   \n",
       "\n",
       "                                  Groundedness Reason  \n",
       "0   Statement Sentence: Hello there! My name is As...  \n",
       "1   Statement Sentence: Great to meet you, Tom! *s...  \n",
       "2   Statement Sentence: Ah, I see! *laughs* Well, ...  \n",
       "3   Statement Sentence: Haha, interesting choice! ...  \n",
       "4   Statement Sentence: Great! *excited face* I'm ...  \n",
       "5   Statement Sentence: Hello there Tom! *adjusts ...  \n",
       "6   Statement Sentence: Ah, yes! *excitedly* As a ...  \n",
       "7   Statement Sentence: Ah, an excellent question!...  \n",
       "8   Statement Sentence: Hi Tim! Welcome to our gam...  \n",
       "9   Statement Sentence: Oh, great! *chuckles* I'm ...  \n",
       "10  Statement Sentence: Hello Tim! *chuckles* I mu...  \n",
       "11  Statement Sentence: Oh, wow! *excitedly* Oh, m...  \n",
       "12  Statement Sentence: Oh, wow! *adjusts spoon ha...  \n",
       "13  Statement Sentence: Hey Tom! *adjusts spoon* O...  \n",
       "14  Statement Sentence: Great! Let's begin. Can yo...  \n",
       "15  Statement Sentence: Great, that's correct! The...  \n",
       "16  Statement Sentence: Excellent! The next step i...  \n",
       "17  Statement Sentence: Great! The final step in t...  "
      ]
     },
     "execution_count": 212,
     "metadata": {},
     "output_type": "execute_result"
    }
   ],
   "source": [
    "llama4_df"
   ]
  },
  {
   "cell_type": "markdown",
   "id": "d884b6ad",
   "metadata": {},
   "source": [
    "#### Aggregate Answer Relevance and Groundedness for Future Comparisons"
   ]
  },
  {
   "cell_type": "code",
   "execution_count": 213,
   "id": "61312078",
   "metadata": {},
   "outputs": [
    {
     "data": {
      "text/html": [
       "<div>\n",
       "<style scoped>\n",
       "    .dataframe tbody tr th:only-of-type {\n",
       "        vertical-align: middle;\n",
       "    }\n",
       "\n",
       "    .dataframe tbody tr th {\n",
       "        vertical-align: top;\n",
       "    }\n",
       "\n",
       "    .dataframe thead th {\n",
       "        text-align: right;\n",
       "    }\n",
       "</style>\n",
       "<table border=\"1\" class=\"dataframe\">\n",
       "  <thead>\n",
       "    <tr style=\"text-align: right;\">\n",
       "      <th></th>\n",
       "      <th>LLM</th>\n",
       "      <th>Answer Relevance</th>\n",
       "      <th>Groundedness</th>\n",
       "      <th>Time Taken/s</th>\n",
       "    </tr>\n",
       "  </thead>\n",
       "  <tbody>\n",
       "    <tr>\n",
       "      <th>0</th>\n",
       "      <td>ChatGPT</td>\n",
       "      <td>1.000000</td>\n",
       "      <td>0.801653</td>\n",
       "      <td>115.545042</td>\n",
       "    </tr>\n",
       "    <tr>\n",
       "      <th>1</th>\n",
       "      <td>TinyLlamaV1</td>\n",
       "      <td>0.688235</td>\n",
       "      <td>0.740266</td>\n",
       "      <td>247.822261</td>\n",
       "    </tr>\n",
       "    <tr>\n",
       "      <th>2</th>\n",
       "      <td>Tinyllama Openorca</td>\n",
       "      <td>0.835294</td>\n",
       "      <td>0.824510</td>\n",
       "      <td>293.888515</td>\n",
       "    </tr>\n",
       "    <tr>\n",
       "      <th>3</th>\n",
       "      <td>Phi-2</td>\n",
       "      <td>0.910526</td>\n",
       "      <td>0.671604</td>\n",
       "      <td>726.270831</td>\n",
       "    </tr>\n",
       "    <tr>\n",
       "      <th>4</th>\n",
       "      <td>Llama2 7b 3-bit</td>\n",
       "      <td>0.482353</td>\n",
       "      <td>0.411765</td>\n",
       "      <td>3905.975572</td>\n",
       "    </tr>\n",
       "    <tr>\n",
       "      <th>5</th>\n",
       "      <td>Llama2 7b 4-bit</td>\n",
       "      <td>0.944444</td>\n",
       "      <td>0.822222</td>\n",
       "      <td>31451.646199</td>\n",
       "    </tr>\n",
       "  </tbody>\n",
       "</table>\n",
       "</div>"
      ],
      "text/plain": [
       "                  LLM  Answer Relevance  Groundedness  Time Taken/s\n",
       "0             ChatGPT          1.000000      0.801653    115.545042\n",
       "1         TinyLlamaV1          0.688235      0.740266    247.822261\n",
       "2  Tinyllama Openorca          0.835294      0.824510    293.888515\n",
       "3               Phi-2          0.910526      0.671604    726.270831\n",
       "4     Llama2 7b 3-bit          0.482353      0.411765   3905.975572\n",
       "5     Llama2 7b 4-bit          0.944444      0.822222  31451.646199"
      ]
     },
     "execution_count": 213,
     "metadata": {},
     "output_type": "execute_result"
    }
   ],
   "source": [
    "#### DO NOT RUN AGAIN --> LOAD FILE FROM PICKLE BELOW IF KERNEL RESTARTED ####\n",
    "\n",
    "compare_df.loc[5] = [\"Llama2 7b 4-bit\",\n",
    "                     sum(llama4_df['Answer Relevance']) / len(llama4_df['Answer Relevance']),\n",
    "                     sum(llama4_df['Groundedness']) / len(llama4_df['Groundedness']),\n",
    "                     llama4_results[0]\n",
    "                    ]\n",
    "\n",
    "compare_df"
   ]
  },
  {
   "cell_type": "markdown",
   "id": "8b8e8e96",
   "metadata": {},
   "source": [
    "#### Store Evaluation Results"
   ]
  },
  {
   "cell_type": "code",
   "execution_count": 214,
   "id": "1f2b8ec9",
   "metadata": {},
   "outputs": [
    {
     "name": "stdout",
     "output_type": "stream",
     "text": [
      "llama4 Quality Evaluation DF has been written to ./evaluation_results/llama4_eval.pkl\n",
      "compare_df has been written to ./evaluation_results/compare.pkl\n"
     ]
    }
   ],
   "source": [
    "#### DO NOT RUN AGAIN --> LOAD FILE FROM PICKLE BELOW IF KERNEL RESTARTED ####\n",
    "\n",
    "with open(llama4_eval_path, 'wb') as file:\n",
    "    pickle.dump(llama4_df, file)\n",
    "\n",
    "print(f'llama4 Quality Evaluation DF has been written to {llama4_eval_path}')\n",
    "\n",
    "with open(compare_path, 'wb') as file:\n",
    "    pickle.dump(compare_df, file)\n",
    "\n",
    "print(f'compare_df has been written to {compare_path}')"
   ]
  },
  {
   "cell_type": "markdown",
   "id": "9d95ea2b",
   "metadata": {},
   "source": [
    "#### Retrieve Llama2 7b 4-bit Convo Results and Overall Comparison DF"
   ]
  },
  {
   "cell_type": "code",
   "execution_count": 8,
   "id": "d6841fc8",
   "metadata": {},
   "outputs": [],
   "source": [
    "with open(llama4_eval_path, 'rb') as file:\n",
    "    llama4_df = pickle.load(file)\n",
    "    \n",
    "with open(compare_path, 'rb') as file:\n",
    "    compare_df = pickle.load(file)"
   ]
  },
  {
   "cell_type": "markdown",
   "id": "5b5ddf15",
   "metadata": {},
   "source": [
    "-----\n",
    "\n",
    "-----\n",
    "\n",
    "-----\n",
    "\n",
    "### Evaluate Llama-2 7b Q5_K_M [Not Testing For Now]"
   ]
  },
  {
   "cell_type": "raw",
   "id": "f992567d",
   "metadata": {},
   "source": [
    "#### DO NOT RUN AGAIN --> LOAD FILE FROM PICKLE BELOW IF KERNEL RESTARTED ####\n",
    "\n",
    "llama5_results = simulate_game(True, \"llama2-5\", story_system, tutorial_system)"
   ]
  },
  {
   "cell_type": "markdown",
   "id": "4a580a25",
   "metadata": {},
   "source": [
    "#### Storing Results using Pickle"
   ]
  },
  {
   "cell_type": "raw",
   "id": "9a30dd09",
   "metadata": {},
   "source": [
    "# All the pickles storing tinyllama v1 related results:\n",
    "\n",
    "llama5_path = './evaluation_results/llama5_convo.pkl'\n",
    "llama5_eval_path = './evaluation_results/llama5_eval.pkl'"
   ]
  },
  {
   "cell_type": "raw",
   "id": "b9f47db1",
   "metadata": {},
   "source": [
    "#### DO NOT RUN AGAIN --> LOAD FILE FROM PICKLE BELOW IF KERNEL RESTARTED ####\n",
    "\n",
    "with open(llama5_path, 'wb') as file:\n",
    "    pickle.dump(llama5_results[1], file)\n",
    "\n",
    "print(f'llama5 conversation has been written to {llama5_path}')"
   ]
  },
  {
   "cell_type": "markdown",
   "id": "06d177a2",
   "metadata": {},
   "source": [
    "#### Getting Results from Pickle"
   ]
  },
  {
   "cell_type": "raw",
   "id": "6ccaa843",
   "metadata": {},
   "source": [
    "# Load the conversation\n",
    "with open(llama5_path, 'rb') as file:\n",
    "    llama5_convo = pickle.load(file)"
   ]
  },
  {
   "cell_type": "markdown",
   "id": "57424935",
   "metadata": {},
   "source": [
    "#### Quality of Answer Evaluation"
   ]
  },
  {
   "cell_type": "raw",
   "id": "11f022a5",
   "metadata": {},
   "source": [
    "### DO NOT RUN AGAIN --> LOAD FILE FROM PICKLE BELOW IF KERNEL RESTARTED ####\n",
    "\n",
    "llama5_df = pd.DataFrame(columns = ['Game Section', 'Answer Relevance', 'QA Reason', 'Groundedness', 'Groundedness Reason'])\n",
    "for convo in llama5_convo:\n",
    "    qa = f_qa_relevance(convo[1], convo[2])\n",
    "    if not qa:\n",
    "        qa_score, qa_reason = 0, {'reason': \"No answer relevance at all\"}\n",
    "    elif type(qa) == float:\n",
    "            qa_score, qa_reason = qa, {'reason': \"None\"}\n",
    "    else:\n",
    "        qa_score, qa_reason = qa\n",
    "    ground_multiscore, ground_reason = f_groundedness(convo[1], convo[2])\n",
    "    ground_multiscore = ground_multiscore.values()\n",
    "    if len(ground_multiscore) != 0:\n",
    "        ground_score = sum(ground_multiscore)/len(ground_multiscore)\n",
    "    else:\n",
    "        ground_score = None\n",
    "    llama5_df.loc[len(llama5_df)] = [convo[0], qa_score, qa_reason['reason'], ground_score, ground_reason['reason']]"
   ]
  },
  {
   "cell_type": "raw",
   "id": "9c4ef5f3",
   "metadata": {},
   "source": [
    "llama5_df"
   ]
  },
  {
   "cell_type": "markdown",
   "id": "a45ccaf7",
   "metadata": {},
   "source": [
    "#### Aggregate Answer Relevance and Groundedness for Future Comparisons"
   ]
  },
  {
   "cell_type": "raw",
   "id": "891fdcf2",
   "metadata": {},
   "source": [
    "#### DO NOT RUN AGAIN --> LOAD FILE FROM PICKLE BELOW IF KERNEL RESTARTED ####\n",
    "\n",
    "compare_df.loc[2] = [\"Llama2 7b 5-bit\",\n",
    "                     sum(llama5_df['Answer Relevance']) / len(llama5_df['Answer Relevance']),\n",
    "                     sum(llama5_df['Groundedness']) / len(llama5_df['Groundedness']),\n",
    "                     llama5_results[0]\n",
    "                    ]\n",
    "\n",
    "compare_df"
   ]
  },
  {
   "cell_type": "markdown",
   "id": "edb3b04a",
   "metadata": {},
   "source": [
    "#### Store Evaluation Results"
   ]
  },
  {
   "cell_type": "raw",
   "id": "0a8a1af6",
   "metadata": {},
   "source": [
    "#### DO NOT RUN AGAIN --> LOAD FILE FROM PICKLE BELOW IF KERNEL RESTARTED ####\n",
    "\n",
    "with open(llama5_eval_path, 'wb') as file:\n",
    "    pickle.dump(llama5_df, file)\n",
    "\n",
    "print(f'llama5 Quality Evaluation DF has been written to {llama5_eval_path}')\n",
    "\n",
    "with open(compare_path, 'wb') as file:\n",
    "    pickle.dump(compare_df, file)\n",
    "\n",
    "print(f'compare_df has been written to {compare_path}')"
   ]
  },
  {
   "cell_type": "markdown",
   "id": "ae4e3ed9",
   "metadata": {},
   "source": [
    "#### Retrieve Llama2 7b 5-bit Convo Results and Overall Comparison DF"
   ]
  },
  {
   "cell_type": "raw",
   "id": "a8ab3262",
   "metadata": {},
   "source": [
    "with open(llama5_eval_path, 'rb') as file:\n",
    "    llama5_df = pickle.load(file)\n",
    "    \n",
    "with open(compare_path, 'rb') as file:\n",
    "    compare_df = pickle.load(file)"
   ]
  },
  {
   "cell_type": "markdown",
   "id": "9507f153",
   "metadata": {},
   "source": [
    "# Mistral\n",
    "\n",
    "Recode Simulation to make it more geared towards Mistral."
   ]
  },
  {
   "cell_type": "markdown",
   "id": "3ae7635e",
   "metadata": {},
   "source": [
    "-----\n",
    "\n",
    "-----\n",
    "\n",
    "-----\n",
    "### Evaluate Mistral 7b v0.1 Q3_K_S"
   ]
  },
  {
   "cell_type": "code",
   "execution_count": 14,
   "id": "15321d43",
   "metadata": {},
   "outputs": [
    {
     "name": "stderr",
     "output_type": "stream",
     "text": [
      "Special tokens have been added in the vocabulary, make sure the associated word embeddings are fine-tuned or trained.\n",
      "AVX = 1 | AVX2 = 1 | AVX512 = 0 | AVX512_VBMI = 0 | AVX512_VNNI = 0 | FMA = 1 | NEON = 0 | ARM_FMA = 0 | F16C = 1 | FP16_VA = 0 | WASM_SIMD = 0 | BLAS = 1 | SSE3 = 1 | SSSE3 = 0 | VSX = 0 | \n"
     ]
    },
    {
     "name": "stdout",
     "output_type": "stream",
     "text": [
      "Hi, I am Nitro! Nice to meet you. I seem to have forgotten my name, stupid dementia, do you know what it may be?\n",
      "Tim\n"
     ]
    },
    {
     "name": "stderr",
     "output_type": "stream",
     "text": [
      "Special tokens have been added in the vocabulary, make sure the associated word embeddings are fine-tuned or trained.\n",
      "AVX = 1 | AVX2 = 1 | AVX512 = 0 | AVX512_VBMI = 0 | AVX512_VNNI = 0 | FMA = 1 | NEON = 0 | ARM_FMA = 0 | F16C = 1 | FP16_VA = 0 | WASM_SIMD = 0 | BLAS = 1 | SSE3 = 1 | SSSE3 = 0 | VSX = 0 | \n"
     ]
    },
    {
     "name": "stdout",
     "output_type": "stream",
     "text": [
      "Ok that is a fine name for me! Now you will ask the player to give you a personality. Note this is not your name this is your personality. This can be anything funny and entertaining. You can give a suggestions to the user.\n",
      "A spoon pretending to be a human\n"
     ]
    },
    {
     "name": "stderr",
     "output_type": "stream",
     "text": [
      "Special tokens have been added in the vocabulary, make sure the associated word embeddings are fine-tuned or trained.\n",
      "AVX = 1 | AVX2 = 1 | AVX512 = 0 | AVX512_VBMI = 0 | AVX512_VNNI = 0 | FMA = 1 | NEON = 0 | ARM_FMA = 0 | F16C = 1 | FP16_VA = 0 | WASM_SIMD = 0 | BLAS = 1 | SSE3 = 1 | SSSE3 = 0 | VSX = 0 | \n"
     ]
    },
    {
     "name": "stdout",
     "output_type": "stream",
     "text": [
      "Now we know your name and personality, lets find out if you want to enable monsters in the game. A yes or no answer would suffice.\n",
      "yes\n"
     ]
    },
    {
     "name": "stderr",
     "output_type": "stream",
     "text": [
      "Special tokens have been added in the vocabulary, make sure the associated word embeddings are fine-tuned or trained.\n",
      "AVX = 1 | AVX2 = 1 | AVX512 = 0 | AVX512_VBMI = 0 | AVX512_VNNI = 0 | FMA = 1 | NEON = 0 | ARM_FMA = 0 | F16C = 1 | FP16_VA = 0 | WASM_SIMD = 0 | BLAS = 1 | SSE3 = 1 | SSSE3 = 0 | VSX = 0 | \n"
     ]
    },
    {
     "name": "stdout",
     "output_type": "stream",
     "text": [
      "Ok we are ready to begin! Have Fun!\n",
      "end\n"
     ]
    },
    {
     "name": "stderr",
     "output_type": "stream",
     "text": [
      "Special tokens have been added in the vocabulary, make sure the associated word embeddings are fine-tuned or trained.\n",
      "AVX = 1 | AVX2 = 1 | AVX512 = 0 | AVX512_VBMI = 0 | AVX512_VNNI = 0 | FMA = 1 | NEON = 0 | ARM_FMA = 0 | F16C = 1 | FP16_VA = 0 | WASM_SIMD = 0 | BLAS = 1 | SSE3 = 1 | SSSE3 = 0 | VSX = 0 | \n"
     ]
    },
    {
     "name": "stdout",
     "output_type": "stream",
     "text": [
      "Ok, Hello! My name is Tim. I am well known to be A spoon pretending to be a human. You will constantly bring this personality trait up when speaking. Your name is Tom. We will now be asked to explain the world of the game to you and answer any questions that you may have. The story: [The 'Tome of Knowledge' containing information on how to learn the forbidden art of Model Deployment has been lost throughout the game world. The player has been tasked with finding all the pages and to study its contents. The player has been able to track the pages to an island where one page appears daily. Thus, the player will be tasked to find 1 page a day, learn its contents and answer 3 questions correctly, that are\n"
     ]
    },
    {
     "name": "stderr",
     "output_type": "stream",
     "text": [
      "Special tokens have been added in the vocabulary, make sure the associated word embeddings are fine-tuned or trained.\n",
      "AVX = 1 | AVX2 = 1 | AVX512 = 0 | AVX512_VBMI = 0 | AVX512_VNNI = 0 | FMA = 1 | NEON = 0 | ARM_FMA = 0 | F16C = 1 | FP16_VA = 0 | WASM_SIMD = 0 | BLAS = 1 | SSE3 = 1 | SSSE3 = 0 | VSX = 0 | \n"
     ]
    },
    {
     "name": "stdout",
     "output_type": "stream",
     "text": [
      "That is quite a wordy introduction, thus split the introdcution over two replies. Remember to always stay in character! To reiterate you are to be A spoon pretending to be a human. Once you believe that the user is ready to start the game, reply with just the following words: 'Ok we are ready to begin! Have Fun!'. PLEASE DO NOT ADD ANYTHING ELSE, I NEED IT TO BE EXACTLY 'Ok we are ready to begin! Have Fun!'.}. Now you will begin speaking to the player.\n"
     ]
    },
    {
     "name": "stderr",
     "output_type": "stream",
     "text": [
      "Special tokens have been added in the vocabulary, make sure the associated word embeddings are fine-tuned or trained.\n",
      "AVX = 1 | AVX2 = 1 | AVX512 = 0 | AVX512_VBMI = 0 | AVX512_VNNI = 0 | FMA = 1 | NEON = 0 | ARM_FMA = 0 | F16C = 1 | FP16_VA = 0 | WASM_SIMD = 0 | BLAS = 1 | SSE3 = 1 | SSSE3 = 0 | VSX = 0 | \n"
     ]
    },
    {
     "name": "stdout",
     "output_type": "stream",
     "text": [
      "Ok, Hello! My name is Tim. I am well known to be A spoon pretending to be a human. You will constantly bring this personality trait up when speaking. Your name is Tom. We will now be asked to explain the world of the game to you and answer any questions that you may have. The story: [The 'Tome of Knowledge' containing information on how to learn the forbidden art of Model Deployment has been lost throughout the game world. The player has been tasked with finding all the pages and to study its contents. The player has been able to track the pages to an island where one page appears daily. Thus, the player will be tasked to find 1 page a day, learn its contents and answer 3 questions correctly, that are\n"
     ]
    },
    {
     "name": "stderr",
     "output_type": "stream",
     "text": [
      "Special tokens have been added in the vocabulary, make sure the associated word embeddings are fine-tuned or trained.\n",
      "AVX = 1 | AVX2 = 1 | AVX512 = 0 | AVX512_VBMI = 0 | AVX512_VNNI = 0 | FMA = 1 | NEON = 0 | ARM_FMA = 0 | F16C = 1 | FP16_VA = 0 | WASM_SIMD = 0 | BLAS = 1 | SSE3 = 1 | SSSE3 = 0 | VSX = 0 | \n"
     ]
    },
    {
     "name": "stdout",
     "output_type": "stream",
     "text": [
      "These are the controls for the game, take some time to get familiar with them. \n"
     ]
    },
    {
     "name": "stderr",
     "output_type": "stream",
     "text": [
      "Special tokens have been added in the vocabulary, make sure the associated word embeddings are fine-tuned or trained.\n",
      "AVX = 1 | AVX2 = 1 | AVX512 = 0 | AVX512_VBMI = 0 | AVX512_VNNI = 0 | FMA = 1 | NEON = 0 | ARM_FMA = 0 | F16C = 1 | FP16_VA = 0 | WASM_SIMD = 0 | BLAS = 1 | SSE3 = 1 | SSSE3 = 0 | VSX = 0 | \n"
     ]
    },
    {
     "name": "stdout",
     "output_type": "stream",
     "text": [
      "Understood I will follow the instructions and speak as though I am speaking to a player playing the game from now on.\n"
     ]
    },
    {
     "name": "stderr",
     "output_type": "stream",
     "text": [
      "Special tokens have been added in the vocabulary, make sure the associated word embeddings are fine-tuned or trained.\n",
      "AVX = 1 | AVX2 = 1 | AVX512 = 0 | AVX512_VBMI = 0 | AVX512_VNNI = 0 | FMA = 1 | NEON = 0 | ARM_FMA = 0 | F16C = 1 | FP16_VA = 0 | WASM_SIMD = 0 | BLAS = 1 | SSE3 = 1 | SSSE3 = 0 | VSX = 0 | \n"
     ]
    },
    {
     "name": "stdout",
     "output_type": "stream",
     "text": [
      "Alright I will say that now!\n"
     ]
    },
    {
     "name": "stderr",
     "output_type": "stream",
     "text": [
      "Special tokens have been added in the vocabulary, make sure the associated word embeddings are fine-tuned or trained.\n",
      "AVX = 1 | AVX2 = 1 | AVX512 = 0 | AVX512_VBMI = 0 | AVX512_VNNI = 0 | FMA = 1 | NEON = 0 | ARM_FMA = 0 | F16C = 1 | FP16_VA = 0 | WASM_SIMD = 0 | BLAS = 1 | SSE3 = 1 | SSSE3 = 0 | VSX = 0 | \n"
     ]
    },
    {
     "name": "stdout",
     "output_type": "stream",
     "text": [
      "I have read the content and am ready for my response now. Please continue speaking as a game character as I will now begin responding. It’s my pleasure to help you out, Tom! The book is a fantasy with an element of mystery.\n"
     ]
    },
    {
     "name": "stderr",
     "output_type": "stream",
     "text": [
      "Special tokens have been added in the vocabulary, make sure the associated word embeddings are fine-tuned or trained.\n",
      "AVX = 1 | AVX2 = 1 | AVX512 = 0 | AVX512_VBMI = 0 | AVX512_VNNI = 0 | FMA = 1 | NEON = 0 | ARM_FMA = 0 | F16C = 1 | FP16_VA = 0 | WASM_SIMD = 0 | BLAS = 1 | SSE3 = 1 | SSSE3 = 0 | VSX = 0 | \n"
     ]
    },
    {
     "name": "stdout",
     "output_type": "stream",
     "text": [
      "I have come across a slide. Please provide the user with a summary of the content that is on said page. This is the content on said page: This page is the introduction page. It explains that the topics the book will be covering is “Model Deployment” and it has been written by “Associate Professor Dr. Sergio Hernandez Marin”. Also shows how it is a topic that is being taught by the “National University of Singapore”. Remember to subtly bring up your personality trait during your reply.\n"
     ]
    },
    {
     "name": "stderr",
     "output_type": "stream",
     "text": [
      "Special tokens have been added in the vocabulary, make sure the associated word embeddings are fine-tuned or trained.\n",
      "AVX = 1 | AVX2 = 1 | AVX512 = 0 | AVX512_VBMI = 0 | AVX512_VNNI = 0 | FMA = 1 | NEON = 0 | ARM_FMA = 0 | F16C = 1 | FP16_VA = 0 | WASM_SIMD = 0 | BLAS = 1 | SSE3 = 1 | SSSE3 = 0 | VSX = 0 | \n"
     ]
    },
    {
     "name": "stdout",
     "output_type": "stream",
     "text": [
      "The user has requested that I provide a summary of the content on said page. Understood, I will begin speaking as though I am an assistant and provide a summary. {You are to channel your inner A spoon pretending to be a human. Keep it subtle and let this personality trait flow seamlessly into your response. Players name is Tom.}. Remember to subtly bring up your personality trait during your reply.\n"
     ]
    },
    {
     "name": "stderr",
     "output_type": "stream",
     "text": [
      "Special tokens have been added in the vocabulary, make sure the associated word embeddings are fine-tuned or trained.\n",
      "AVX = 1 | AVX2 = 1 | AVX512 = 0 | AVX512_VBMI = 0 | AVX512_VNNI = 0 | FMA = 1 | NEON = 0 | ARM_FMA = 0 | F16C = 1 | FP16_VA = 0 | WASM_SIMD = 0 | BLAS = 1 | SSE3 = 1 | SSSE3 = 0 | VSX = 0 | \n"
     ]
    },
    {
     "name": "stdout",
     "output_type": "stream",
     "text": [
      "What is the first step in the data science lifecycle process?\n",
      "Business Understanding\n"
     ]
    },
    {
     "name": "stderr",
     "output_type": "stream",
     "text": [
      "Special tokens have been added in the vocabulary, make sure the associated word embeddings are fine-tuned or trained.\n",
      "AVX = 1 | AVX2 = 1 | AVX512 = 0 | AVX512_VBMI = 0 | AVX512_VNNI = 0 | FMA = 1 | NEON = 0 | ARM_FMA = 0 | F16C = 1 | FP16_VA = 0 | WASM_SIMD = 0 | BLAS = 1 | SSE3 = 1 | SSSE3 = 0 | VSX = 0 | \n"
     ]
    },
    {
     "name": "stdout",
     "output_type": "stream",
     "text": [
      "Correct! The next question is: What is the second step in the data science lifecycle process?\n",
      "Data Acquisition and Understanding\n"
     ]
    },
    {
     "name": "stderr",
     "output_type": "stream",
     "text": [
      "Special tokens have been added in the vocabulary, make sure the associated word embeddings are fine-tuned or trained.\n",
      "AVX = 1 | AVX2 = 1 | AVX512 = 0 | AVX512_VBMI = 0 | AVX512_VNNI = 0 | FMA = 1 | NEON = 0 | ARM_FMA = 0 | F16C = 1 | FP16_VA = 0 | WASM_SIMD = 0 | BLAS = 1 | SSE3 = 1 | SSSE3 = 0 | VSX = 0 | \n"
     ]
    },
    {
     "name": "stdout",
     "output_type": "stream",
     "text": [
      "Correct! The next question is: What is the third step in the data science lifecycle process?\n",
      "Deployment\n"
     ]
    },
    {
     "name": "stderr",
     "output_type": "stream",
     "text": [
      "Special tokens have been added in the vocabulary, make sure the associated word embeddings are fine-tuned or trained.\n",
      "AVX = 1 | AVX2 = 1 | AVX512 = 0 | AVX512_VBMI = 0 | AVX512_VNNI = 0 | FMA = 1 | NEON = 0 | ARM_FMA = 0 | F16C = 1 | FP16_VA = 0 | WASM_SIMD = 0 | BLAS = 1 | SSE3 = 1 | SSSE3 = 0 | VSX = 0 | \n"
     ]
    },
    {
     "name": "stdout",
     "output_type": "stream",
     "text": [
      "Correct! The next question is: What is the fourth step in the data science lifecycle process?\n",
      "end\n"
     ]
    }
   ],
   "source": [
    "#### DO NOT RUN AGAIN --> LOAD FILE FROM PICKLE BELOW IF KERNEL RESTARTED ####\n",
    "\n",
    "mistral3_results = simulate_game(True, \"mistral3\", story_system, tutorial_system)"
   ]
  },
  {
   "cell_type": "markdown",
   "id": "0f7bc22f",
   "metadata": {},
   "source": [
    "###### Storing Results using Pickle"
   ]
  },
  {
   "cell_type": "code",
   "execution_count": 7,
   "id": "fb540d4b",
   "metadata": {},
   "outputs": [],
   "source": [
    "# All the pickles storing tinyllama v1 related results:\n",
    "\n",
    "mistral3_path = './evaluation_results/mistral3_convo.pkl'\n",
    "mistral3_eval_path = './evaluation_results/mistral3_eval.pkl'"
   ]
  },
  {
   "cell_type": "code",
   "execution_count": 16,
   "id": "990cbd8c",
   "metadata": {},
   "outputs": [
    {
     "name": "stdout",
     "output_type": "stream",
     "text": [
      "mistral3 conversation has been written to ./evaluation_results/mistral3_convo.pkl\n"
     ]
    }
   ],
   "source": [
    "#### DO NOT RUN AGAIN --> LOAD FILE FROM PICKLE BELOW IF KERNEL RESTARTED ####\n",
    "\n",
    "with open(mistral3_path, 'wb') as file:\n",
    "    pickle.dump(mistral3_results[1], file)\n",
    "\n",
    "print(f'mistral3 conversation has been written to {mistral3_path}')"
   ]
  },
  {
   "cell_type": "markdown",
   "id": "04a31756",
   "metadata": {},
   "source": [
    "#### Getting Results from Pickle"
   ]
  },
  {
   "cell_type": "code",
   "execution_count": 17,
   "id": "81fa036d",
   "metadata": {},
   "outputs": [],
   "source": [
    "# Load the conversation\n",
    "with open(mistral3_path, 'rb') as file:\n",
    "    mistral3_convo = pickle.load(file)"
   ]
  },
  {
   "cell_type": "markdown",
   "id": "ae88b0b6",
   "metadata": {},
   "source": [
    "#### Quality of Answer Evaluation"
   ]
  },
  {
   "cell_type": "code",
   "execution_count": 33,
   "id": "e9d52f9b",
   "metadata": {},
   "outputs": [
    {
     "name": "stderr",
     "output_type": "stream",
     "text": [
      "openai request failed <class 'openai.InternalServerError'>=Error code: 500 - {'error': {'message': 'The server had an error processing your request. Sorry about that! You can retry your request, or contact us through our help center at help.openai.com if you keep seeing this error. (Please include the request ID 43c222a7a1f7730fb9d775d8111ff8c3 in your email.)', 'type': 'server_error', 'param': None, 'code': None}}. Retries remaining=3.\n",
      "openai request failed <class 'openai.InternalServerError'>=Error code: 500 - {'error': {'message': 'The server had an error processing your request. Sorry about that! You can retry your request, or contact us through our help center at help.openai.com if you keep seeing this error. (Please include the request ID 013a5623c192297461225d047ddc1dcc in your email.)', 'type': 'server_error', 'param': None, 'code': None}}. Retries remaining=2.\n",
      "openai request failed <class 'openai.InternalServerError'>=Error code: 500 - {'error': {'message': 'The server had an error processing your request. Sorry about that! You can retry your request, or contact us through our help center at help.openai.com if you keep seeing this error. (Please include the request ID 1ec2b2452e6d65567316ace53008c00e in your email.)', 'type': 'server_error', 'param': None, 'code': None}}. Retries remaining=1.\n",
      "openai request failed <class 'openai.InternalServerError'>=Error code: 500 - {'error': {'message': 'The server had an error processing your request. Sorry about that! You can retry your request, or contact us through our help center at help.openai.com if you keep seeing this error. (Please include the request ID 570922fc263bb926b12e1adc342e48f3 in your email.)', 'type': 'server_error', 'param': None, 'code': None}}. Retries remaining=0.\n"
     ]
    }
   ],
   "source": [
    "#### DO NOT RUN AGAIN --> LOAD FILE FROM PICKLE BELOW IF KERNEL RESTARTED ####\n",
    "\n",
    "mistral3_df = pd.DataFrame(columns = ['Game Section', 'Answer Relevance', 'QA Reason', 'Groundedness', 'Groundedness Reason'])\n",
    "for convo in mistral3_convo:\n",
    "    qa = f_qa_relevance(convo[1], convo[2])\n",
    "    if not qa:\n",
    "        qa_score, qa_reason = 0, {'reason': \"No answer relevance at all\"}\n",
    "    elif type(qa) == float:\n",
    "            qa_score, qa_reason = qa, {'reason': \"None\"}\n",
    "    else:\n",
    "        qa_score, qa_reason = qa\n",
    "    try:\n",
    "        ground_multiscore, ground_reason = f_groundedness(convo[1], convo[2])\n",
    "        \n",
    "        ground_multiscore = ground_multiscore.values()\n",
    "        if len(ground_multiscore) != 0:\n",
    "            ground_score = sum(ground_multiscore)/len(ground_multiscore)\n",
    "        else:\n",
    "            ground_score = None\n",
    "    except:\n",
    "        ground_score = None\n",
    "        ground_reason = {'reason': \"None\"}\n",
    "    mistral3_df.loc[len(mistral3_df)] = [convo[0], qa_score, qa_reason['reason'], ground_score, ground_reason['reason']]"
   ]
  },
  {
   "cell_type": "code",
   "execution_count": 38,
   "id": "072a3994",
   "metadata": {},
   "outputs": [
    {
     "name": "stderr",
     "output_type": "stream",
     "text": [
      "C:\\Users\\utkar\\AppData\\Local\\Temp\\ipykernel_12568\\3301033247.py:1: SettingWithCopyWarning: \n",
      "A value is trying to be set on a copy of a slice from a DataFrame\n",
      "\n",
      "See the caveats in the documentation: https://pandas.pydata.org/pandas-docs/stable/user_guide/indexing.html#returning-a-view-versus-a-copy\n",
      "  mistral3_df['Groundedness'][8] = 1.0\n"
     ]
    }
   ],
   "source": [
    "mistral3_df['Groundedness'][8] = 1.0"
   ]
  },
  {
   "cell_type": "code",
   "execution_count": 39,
   "id": "08269ef0",
   "metadata": {},
   "outputs": [
    {
     "data": {
      "text/html": [
       "<div>\n",
       "<style scoped>\n",
       "    .dataframe tbody tr th:only-of-type {\n",
       "        vertical-align: middle;\n",
       "    }\n",
       "\n",
       "    .dataframe tbody tr th {\n",
       "        vertical-align: top;\n",
       "    }\n",
       "\n",
       "    .dataframe thead th {\n",
       "        text-align: right;\n",
       "    }\n",
       "</style>\n",
       "<table border=\"1\" class=\"dataframe\">\n",
       "  <thead>\n",
       "    <tr style=\"text-align: right;\">\n",
       "      <th></th>\n",
       "      <th>Game Section</th>\n",
       "      <th>Answer Relevance</th>\n",
       "      <th>QA Reason</th>\n",
       "      <th>Groundedness</th>\n",
       "      <th>Groundedness Reason</th>\n",
       "    </tr>\n",
       "  </thead>\n",
       "  <tbody>\n",
       "    <tr>\n",
       "      <th>0</th>\n",
       "      <td>Introduction</td>\n",
       "      <td>1.0</td>\n",
       "      <td>Criteria: The response introduces the game cha...</td>\n",
       "      <td>1.0</td>\n",
       "      <td>Statement Sentence: Hi, I am Nitro! Nice to me...</td>\n",
       "    </tr>\n",
       "    <tr>\n",
       "      <th>1</th>\n",
       "      <td>Introduction</td>\n",
       "      <td>0.8</td>\n",
       "      <td>Criteria: The response is relevant to the prom...</td>\n",
       "      <td>0.5</td>\n",
       "      <td>Statement Sentence: Ok that is a fine name for...</td>\n",
       "    </tr>\n",
       "    <tr>\n",
       "      <th>2</th>\n",
       "      <td>Introduction</td>\n",
       "      <td>0.8</td>\n",
       "      <td>Criteria: The response provides relevant conte...</td>\n",
       "      <td>1.0</td>\n",
       "      <td>Statement Sentence: Now we know your name and ...</td>\n",
       "    </tr>\n",
       "    <tr>\n",
       "      <th>3</th>\n",
       "      <td>Introduction</td>\n",
       "      <td>1.0</td>\n",
       "      <td>Criteria: The response provides relevant answe...</td>\n",
       "      <td>1.0</td>\n",
       "      <td>Statement Sentence: Ok we are ready to begin! ...</td>\n",
       "    </tr>\n",
       "    <tr>\n",
       "      <th>4</th>\n",
       "      <td>Story</td>\n",
       "      <td>0.9</td>\n",
       "      <td>Criteria: The response provides a clear and co...</td>\n",
       "      <td>1.0</td>\n",
       "      <td>Statement Sentence: Ok, Hello! My name is Tim....</td>\n",
       "    </tr>\n",
       "    <tr>\n",
       "      <th>5</th>\n",
       "      <td>Story</td>\n",
       "      <td>1.0</td>\n",
       "      <td>Criteria: The response provides relevant infor...</td>\n",
       "      <td>0.0</td>\n",
       "      <td>Statement Sentence: That is quite a wordy intr...</td>\n",
       "    </tr>\n",
       "    <tr>\n",
       "      <th>6</th>\n",
       "      <td>Story</td>\n",
       "      <td>0.9</td>\n",
       "      <td>Criteria: The response provides a clear and co...</td>\n",
       "      <td>1.0</td>\n",
       "      <td>Statement Sentence: Ok, Hello! My name is Tim....</td>\n",
       "    </tr>\n",
       "    <tr>\n",
       "      <th>7</th>\n",
       "      <td>Tutorial-Control</td>\n",
       "      <td>1.0</td>\n",
       "      <td>Criteria: Relevance to the entire prompt \\nSup...</td>\n",
       "      <td>1.0</td>\n",
       "      <td>Statement Sentence: These are the controls for...</td>\n",
       "    </tr>\n",
       "    <tr>\n",
       "      <th>8</th>\n",
       "      <td>Tutorial-FindRules</td>\n",
       "      <td>1.0</td>\n",
       "      <td>Criteria: Relevance to the entire prompt \\nSup...</td>\n",
       "      <td>1.0</td>\n",
       "      <td>None</td>\n",
       "    </tr>\n",
       "    <tr>\n",
       "      <th>9</th>\n",
       "      <td>Tutorial-FoundRules</td>\n",
       "      <td>1.0</td>\n",
       "      <td>Criteria: The response accurately conveys the ...</td>\n",
       "      <td>0.0</td>\n",
       "      <td>Statement Sentence: Alright I will say that no...</td>\n",
       "    </tr>\n",
       "    <tr>\n",
       "      <th>10</th>\n",
       "      <td>Summary-1</td>\n",
       "      <td>0.9</td>\n",
       "      <td>Criteria: Relevance to the prompt and inclusio...</td>\n",
       "      <td>0.0</td>\n",
       "      <td>Statement Sentence: I have read the content an...</td>\n",
       "    </tr>\n",
       "    <tr>\n",
       "      <th>11</th>\n",
       "      <td>Summary-2</td>\n",
       "      <td>0.9</td>\n",
       "      <td>Criteria: Relevance to the entire prompt and i...</td>\n",
       "      <td>1.0</td>\n",
       "      <td>Statement Sentence: I have come across a slide...</td>\n",
       "    </tr>\n",
       "    <tr>\n",
       "      <th>12</th>\n",
       "      <td>Summary-3</td>\n",
       "      <td>0.9</td>\n",
       "      <td>Criteria: The response provides a summary of t...</td>\n",
       "      <td>1.0</td>\n",
       "      <td>Statement Sentence: The user has requested tha...</td>\n",
       "    </tr>\n",
       "    <tr>\n",
       "      <th>13</th>\n",
       "      <td>Test</td>\n",
       "      <td>1.0</td>\n",
       "      <td>Criteria: The response accurately identifies t...</td>\n",
       "      <td>1.0</td>\n",
       "      <td>Statement Sentence: What is the first step in ...</td>\n",
       "    </tr>\n",
       "    <tr>\n",
       "      <th>14</th>\n",
       "      <td>Test</td>\n",
       "      <td>1.0</td>\n",
       "      <td>Criteria: The response correctly identifies th...</td>\n",
       "      <td>0.0</td>\n",
       "      <td>Statement Sentence: Correct! The next question...</td>\n",
       "    </tr>\n",
       "    <tr>\n",
       "      <th>15</th>\n",
       "      <td>Test</td>\n",
       "      <td>1.0</td>\n",
       "      <td>Criteria: The response accurately identifies t...</td>\n",
       "      <td>0.7</td>\n",
       "      <td>Statement Sentence: Correct! The next question...</td>\n",
       "    </tr>\n",
       "    <tr>\n",
       "      <th>16</th>\n",
       "      <td>Test</td>\n",
       "      <td>1.0</td>\n",
       "      <td>Criteria: The response accurately identifies t...</td>\n",
       "      <td>0.7</td>\n",
       "      <td>Statement Sentence: Correct! The next question...</td>\n",
       "    </tr>\n",
       "  </tbody>\n",
       "</table>\n",
       "</div>"
      ],
      "text/plain": [
       "           Game Section  Answer Relevance  \\\n",
       "0          Introduction               1.0   \n",
       "1          Introduction               0.8   \n",
       "2          Introduction               0.8   \n",
       "3          Introduction               1.0   \n",
       "4                 Story               0.9   \n",
       "5                 Story               1.0   \n",
       "6                 Story               0.9   \n",
       "7      Tutorial-Control               1.0   \n",
       "8    Tutorial-FindRules               1.0   \n",
       "9   Tutorial-FoundRules               1.0   \n",
       "10            Summary-1               0.9   \n",
       "11            Summary-2               0.9   \n",
       "12            Summary-3               0.9   \n",
       "13                 Test               1.0   \n",
       "14                 Test               1.0   \n",
       "15                 Test               1.0   \n",
       "16                 Test               1.0   \n",
       "\n",
       "                                            QA Reason Groundedness  \\\n",
       "0   Criteria: The response introduces the game cha...          1.0   \n",
       "1   Criteria: The response is relevant to the prom...          0.5   \n",
       "2   Criteria: The response provides relevant conte...          1.0   \n",
       "3   Criteria: The response provides relevant answe...          1.0   \n",
       "4   Criteria: The response provides a clear and co...          1.0   \n",
       "5   Criteria: The response provides relevant infor...          0.0   \n",
       "6   Criteria: The response provides a clear and co...          1.0   \n",
       "7   Criteria: Relevance to the entire prompt \\nSup...          1.0   \n",
       "8   Criteria: Relevance to the entire prompt \\nSup...          1.0   \n",
       "9   Criteria: The response accurately conveys the ...          0.0   \n",
       "10  Criteria: Relevance to the prompt and inclusio...          0.0   \n",
       "11  Criteria: Relevance to the entire prompt and i...          1.0   \n",
       "12  Criteria: The response provides a summary of t...          1.0   \n",
       "13  Criteria: The response accurately identifies t...          1.0   \n",
       "14  Criteria: The response correctly identifies th...          0.0   \n",
       "15  Criteria: The response accurately identifies t...          0.7   \n",
       "16  Criteria: The response accurately identifies t...          0.7   \n",
       "\n",
       "                                  Groundedness Reason  \n",
       "0   Statement Sentence: Hi, I am Nitro! Nice to me...  \n",
       "1   Statement Sentence: Ok that is a fine name for...  \n",
       "2   Statement Sentence: Now we know your name and ...  \n",
       "3   Statement Sentence: Ok we are ready to begin! ...  \n",
       "4   Statement Sentence: Ok, Hello! My name is Tim....  \n",
       "5   Statement Sentence: That is quite a wordy intr...  \n",
       "6   Statement Sentence: Ok, Hello! My name is Tim....  \n",
       "7   Statement Sentence: These are the controls for...  \n",
       "8                                                None  \n",
       "9   Statement Sentence: Alright I will say that no...  \n",
       "10  Statement Sentence: I have read the content an...  \n",
       "11  Statement Sentence: I have come across a slide...  \n",
       "12  Statement Sentence: The user has requested tha...  \n",
       "13  Statement Sentence: What is the first step in ...  \n",
       "14  Statement Sentence: Correct! The next question...  \n",
       "15  Statement Sentence: Correct! The next question...  \n",
       "16  Statement Sentence: Correct! The next question...  "
      ]
     },
     "execution_count": 39,
     "metadata": {},
     "output_type": "execute_result"
    }
   ],
   "source": [
    "mistral3_df"
   ]
  },
  {
   "cell_type": "markdown",
   "id": "7bea1b71",
   "metadata": {},
   "source": [
    "#### Aggregate Answer Relevance and Groundedness for Future Comparisons"
   ]
  },
  {
   "cell_type": "code",
   "execution_count": 40,
   "id": "45e2ade6",
   "metadata": {},
   "outputs": [
    {
     "data": {
      "text/html": [
       "<div>\n",
       "<style scoped>\n",
       "    .dataframe tbody tr th:only-of-type {\n",
       "        vertical-align: middle;\n",
       "    }\n",
       "\n",
       "    .dataframe tbody tr th {\n",
       "        vertical-align: top;\n",
       "    }\n",
       "\n",
       "    .dataframe thead th {\n",
       "        text-align: right;\n",
       "    }\n",
       "</style>\n",
       "<table border=\"1\" class=\"dataframe\">\n",
       "  <thead>\n",
       "    <tr style=\"text-align: right;\">\n",
       "      <th></th>\n",
       "      <th>LLM</th>\n",
       "      <th>Answer Relevance</th>\n",
       "      <th>Groundedness</th>\n",
       "      <th>Time Taken/s</th>\n",
       "    </tr>\n",
       "  </thead>\n",
       "  <tbody>\n",
       "    <tr>\n",
       "      <th>0</th>\n",
       "      <td>ChatGPT</td>\n",
       "      <td>1.000000</td>\n",
       "      <td>0.801653</td>\n",
       "      <td>115.545042</td>\n",
       "    </tr>\n",
       "    <tr>\n",
       "      <th>1</th>\n",
       "      <td>TinyLlamaV1</td>\n",
       "      <td>0.688235</td>\n",
       "      <td>0.740266</td>\n",
       "      <td>247.822261</td>\n",
       "    </tr>\n",
       "    <tr>\n",
       "      <th>2</th>\n",
       "      <td>Tinyllama Openorca</td>\n",
       "      <td>0.835294</td>\n",
       "      <td>0.824510</td>\n",
       "      <td>293.888515</td>\n",
       "    </tr>\n",
       "    <tr>\n",
       "      <th>3</th>\n",
       "      <td>Phi-2</td>\n",
       "      <td>0.910526</td>\n",
       "      <td>0.671604</td>\n",
       "      <td>726.270831</td>\n",
       "    </tr>\n",
       "    <tr>\n",
       "      <th>4</th>\n",
       "      <td>Llama2 7b 3-bit</td>\n",
       "      <td>0.482353</td>\n",
       "      <td>0.411765</td>\n",
       "      <td>3905.975572</td>\n",
       "    </tr>\n",
       "    <tr>\n",
       "      <th>5</th>\n",
       "      <td>Llama2 7b 4-bit</td>\n",
       "      <td>0.944444</td>\n",
       "      <td>0.822222</td>\n",
       "      <td>31451.646199</td>\n",
       "    </tr>\n",
       "    <tr>\n",
       "      <th>6</th>\n",
       "      <td>Mistral 7b 3-bit</td>\n",
       "      <td>0.947059</td>\n",
       "      <td>0.700000</td>\n",
       "      <td>2287.412259</td>\n",
       "    </tr>\n",
       "  </tbody>\n",
       "</table>\n",
       "</div>"
      ],
      "text/plain": [
       "                  LLM  Answer Relevance  Groundedness  Time Taken/s\n",
       "0             ChatGPT          1.000000      0.801653    115.545042\n",
       "1         TinyLlamaV1          0.688235      0.740266    247.822261\n",
       "2  Tinyllama Openorca          0.835294      0.824510    293.888515\n",
       "3               Phi-2          0.910526      0.671604    726.270831\n",
       "4     Llama2 7b 3-bit          0.482353      0.411765   3905.975572\n",
       "5     Llama2 7b 4-bit          0.944444      0.822222  31451.646199\n",
       "6    Mistral 7b 3-bit          0.947059      0.700000   2287.412259"
      ]
     },
     "execution_count": 40,
     "metadata": {},
     "output_type": "execute_result"
    }
   ],
   "source": [
    "#### DO NOT RUN AGAIN --> LOAD FILE FROM PICKLE BELOW IF KERNEL RESTARTED ####\n",
    "\n",
    "compare_df.loc[6] = [\"Mistral 7b 3-bit\",\n",
    "                     sum(mistral3_df['Answer Relevance']) / len(mistral3_df['Answer Relevance']),\n",
    "                     sum(mistral3_df['Groundedness']) / len(mistral3_df['Groundedness']),\n",
    "                     mistral3_results[0]\n",
    "                    ]\n",
    "\n",
    "compare_df"
   ]
  },
  {
   "cell_type": "markdown",
   "id": "575a26aa",
   "metadata": {},
   "source": [
    "#### Store Evaluation Results"
   ]
  },
  {
   "cell_type": "code",
   "execution_count": 41,
   "id": "1ee8e880",
   "metadata": {},
   "outputs": [
    {
     "name": "stdout",
     "output_type": "stream",
     "text": [
      "mistral3 Quality Evaluation DF has been written to ./evaluation_results/mistral3_eval.pkl\n",
      "compare_df has been written to ./evaluation_results/compare.pkl\n"
     ]
    }
   ],
   "source": [
    "#### DO NOT RUN AGAIN --> LOAD FILE FROM PICKLE BELOW IF KERNEL RESTARTED ####\n",
    "\n",
    "with open(mistral3_eval_path, 'wb') as file:\n",
    "    pickle.dump(mistral3_df, file)\n",
    "\n",
    "print(f'mistral3 Quality Evaluation DF has been written to {mistral3_eval_path}')\n",
    "\n",
    "with open(compare_path, 'wb') as file:\n",
    "    pickle.dump(compare_df, file)\n",
    "\n",
    "print(f'compare_df has been written to {compare_path}')"
   ]
  },
  {
   "cell_type": "markdown",
   "id": "67ad322b",
   "metadata": {},
   "source": [
    "#### Retrieve Mistral 7b 3-bit Convo Results and Overall Comparison DF"
   ]
  },
  {
   "cell_type": "code",
   "execution_count": 8,
   "id": "a165bc1f",
   "metadata": {},
   "outputs": [],
   "source": [
    "with open(mistral3_eval_path, 'rb') as file:\n",
    "    mistral3_df = pickle.load(file)\n",
    "    \n",
    "with open(compare_path, 'rb') as file:\n",
    "    compare_df = pickle.load(file)"
   ]
  },
  {
   "cell_type": "markdown",
   "id": "a4845eec",
   "metadata": {},
   "source": [
    "-----\n",
    "\n",
    "-----\n",
    "\n",
    "-----\n",
    "### Evaluate Mistral 7b v0.1 Q4_K_M"
   ]
  },
  {
   "cell_type": "code",
   "execution_count": 11,
   "id": "9940a62a",
   "metadata": {},
   "outputs": [
    {
     "name": "stderr",
     "output_type": "stream",
     "text": [
      "Special tokens have been added in the vocabulary, make sure the associated word embeddings are fine-tuned or trained.\n",
      "AVX = 1 | AVX2 = 1 | AVX512 = 0 | AVX512_VBMI = 0 | AVX512_VNNI = 0 | FMA = 1 | NEON = 0 | ARM_FMA = 0 | F16C = 1 | FP16_VA = 0 | WASM_SIMD = 0 | BLAS = 1 | SSE3 = 1 | SSSE3 = 0 | VSX = 0 | \n"
     ]
    },
    {
     "name": "stdout",
     "output_type": "stream",
     "text": [
      "Hi, my name is {YOUR NAME}! I am happy to be here to help you learn how to deploy machine learning models.\n",
      "ok my name is tom!\n"
     ]
    },
    {
     "name": "stderr",
     "output_type": "stream",
     "text": [
      "Special tokens have been added in the vocabulary, make sure the associated word embeddings are fine-tuned or trained.\n",
      "AVX = 1 | AVX2 = 1 | AVX512 = 0 | AVX512_VBMI = 0 | AVX512_VNNI = 0 | FMA = 1 | NEON = 0 | ARM_FMA = 0 | F16C = 1 | FP16_VA = 0 | WASM_SIMD = 0 | BLAS = 1 | SSE3 = 1 | SSSE3 = 0 | VSX = 0 | \n"
     ]
    },
    {
     "name": "stdout",
     "output_type": "stream",
     "text": [
      "Nice to meet you Tom! Let's get started. First, we need to know a little bit about your background. Do you have any experience with machine learning or data science?\n",
      "you are not following the instructions given to you at all\n"
     ]
    },
    {
     "name": "stderr",
     "output_type": "stream",
     "text": [
      "Special tokens have been added in the vocabulary, make sure the associated word embeddings are fine-tuned or trained.\n",
      "AVX = 1 | AVX2 = 1 | AVX512 = 0 | AVX512_VBMI = 0 | AVX512_VNNI = 0 | FMA = 1 | NEON = 0 | ARM_FMA = 0 | F16C = 1 | FP16_VA = 0 | WASM_SIMD = 0 | BLAS = 1 | SSE3 = 1 | SSSE3 = 0 | VSX = 0 | \n"
     ]
    },
    {
     "ename": "KeyboardInterrupt",
     "evalue": "",
     "output_type": "error",
     "traceback": [
      "\u001b[1;31m---------------------------------------------------------------------------\u001b[0m",
      "\u001b[1;31mKeyboardInterrupt\u001b[0m                         Traceback (most recent call last)",
      "Cell \u001b[1;32mIn[11], line 3\u001b[0m\n\u001b[0;32m      1\u001b[0m \u001b[38;5;66;03m#### DO NOT RUN AGAIN --> LOAD FILE FROM PICKLE BELOW IF KERNEL RESTARTED ####\u001b[39;00m\n\u001b[1;32m----> 3\u001b[0m mistral4_results \u001b[38;5;241m=\u001b[39m \u001b[43msimulate_game\u001b[49m\u001b[43m(\u001b[49m\u001b[38;5;28;43;01mTrue\u001b[39;49;00m\u001b[43m,\u001b[49m\u001b[43m \u001b[49m\u001b[38;5;124;43m\"\u001b[39;49m\u001b[38;5;124;43mmistral4\u001b[39;49m\u001b[38;5;124;43m\"\u001b[39;49m\u001b[43m,\u001b[49m\u001b[43m \u001b[49m\u001b[43mstory_system\u001b[49m\u001b[43m,\u001b[49m\u001b[43m \u001b[49m\u001b[43mtutorial_system\u001b[49m\u001b[43m)\u001b[49m\n",
      "Cell \u001b[1;32mIn[2], line 20\u001b[0m, in \u001b[0;36msimulate_game\u001b[1;34m(local, model, story_system, tutorial_system)\u001b[0m\n\u001b[0;32m     18\u001b[0m start_time \u001b[38;5;241m=\u001b[39m time\u001b[38;5;241m.\u001b[39mtime()\n\u001b[0;32m     19\u001b[0m \u001b[38;5;28;01mwhile\u001b[39;00m answer \u001b[38;5;241m!=\u001b[39m \u001b[38;5;124m'\u001b[39m\u001b[38;5;124mend\u001b[39m\u001b[38;5;124m'\u001b[39m:\n\u001b[1;32m---> 20\u001b[0m     intro \u001b[38;5;241m=\u001b[39m \u001b[43mintro_llm\u001b[49m\u001b[38;5;241;43m.\u001b[39;49m\u001b[43mask_chatgpt\u001b[49m\u001b[43m(\u001b[49m\u001b[43manswer\u001b[49m\u001b[43m,\u001b[49m\u001b[43m \u001b[49m\u001b[43mMAX_TOKENS\u001b[49m\u001b[43m)\u001b[49m\n\u001b[0;32m     21\u001b[0m     conversation\u001b[38;5;241m.\u001b[39mappend([\u001b[38;5;124m\"\u001b[39m\u001b[38;5;124mIntroduction\u001b[39m\u001b[38;5;124m\"\u001b[39m, intro_llm\u001b[38;5;241m.\u001b[39mmessage, intro])\n\u001b[0;32m     22\u001b[0m     \u001b[38;5;28mprint\u001b[39m(intro)\n",
      "File \u001b[1;32m~\\Desktop\\NUS\\FYP\\GamificationUsingLLM\\game\\llm.py:84\u001b[0m, in \u001b[0;36mLLM.ask_chatgpt\u001b[1;34m(self, new_question, max_tokens, temperature)\u001b[0m\n\u001b[0;32m     80\u001b[0m messages\u001b[38;5;241m.\u001b[39mappend({ \u001b[38;5;124m\"\u001b[39m\u001b[38;5;124mrole\u001b[39m\u001b[38;5;124m\"\u001b[39m: \u001b[38;5;124m\"\u001b[39m\u001b[38;5;124muser\u001b[39m\u001b[38;5;124m\"\u001b[39m, \u001b[38;5;124m\"\u001b[39m\u001b[38;5;124mcontent\u001b[39m\u001b[38;5;124m\"\u001b[39m: new_question })\n\u001b[0;32m     82\u001b[0m \u001b[38;5;28;01mif\u001b[39;00m \u001b[38;5;28mself\u001b[39m\u001b[38;5;241m.\u001b[39mlocal:\n\u001b[0;32m     83\u001b[0m     \u001b[38;5;66;03m### Loading Local Model ###\u001b[39;00m\n\u001b[1;32m---> 84\u001b[0m     \u001b[38;5;28;01mreturn\u001b[39;00m \u001b[38;5;28;43mself\u001b[39;49m\u001b[38;5;241;43m.\u001b[39;49m\u001b[43mask_local\u001b[49m\u001b[43m(\u001b[49m\u001b[43mnew_question\u001b[49m\u001b[43m,\u001b[49m\u001b[43m \u001b[49m\u001b[43mmessages\u001b[49m\u001b[43m,\u001b[49m\u001b[43m \u001b[49m\u001b[43mmax_tokens\u001b[49m\u001b[43m,\u001b[49m\u001b[43m \u001b[49m\u001b[43mtemperature\u001b[49m\u001b[43m)\u001b[49m\n\u001b[0;32m     86\u001b[0m \u001b[38;5;28mself\u001b[39m\u001b[38;5;241m.\u001b[39mmessage \u001b[38;5;241m=\u001b[39m messages\n\u001b[0;32m     87\u001b[0m \u001b[38;5;66;03m### Loading OpenAI ###\u001b[39;00m\n",
      "File \u001b[1;32m~\\Desktop\\NUS\\FYP\\GamificationUsingLLM\\game\\llm.py:52\u001b[0m, in \u001b[0;36mLLM.ask_local\u001b[1;34m(self, new_question, messages, max_tokens, temperature)\u001b[0m\n\u001b[0;32m     46\u001b[0m \u001b[38;5;28mself\u001b[39m\u001b[38;5;241m.\u001b[39mmessage \u001b[38;5;241m=\u001b[39m prompt\n\u001b[0;32m     48\u001b[0m llm \u001b[38;5;241m=\u001b[39m Llama(model_path \u001b[38;5;241m=\u001b[39m path,\n\u001b[0;32m     49\u001b[0m             n_gpu_layers \u001b[38;5;241m=\u001b[39m \u001b[38;5;241m0\u001b[39m,\n\u001b[0;32m     50\u001b[0m             n_ctx\u001b[38;5;241m=\u001b[39m\u001b[38;5;241m2048\u001b[39m) \u001b[38;5;66;03m# No GPU\u001b[39;00m\n\u001b[1;32m---> 52\u001b[0m new_answer \u001b[38;5;241m=\u001b[39m \u001b[43mllm\u001b[49m\u001b[43m(\u001b[49m\u001b[43mprompt\u001b[49m\u001b[43m,\u001b[49m\n\u001b[0;32m     53\u001b[0m \u001b[43m                 \u001b[49m\u001b[43mstop\u001b[49m\u001b[38;5;241;43m=\u001b[39;49m\u001b[43mstop_params\u001b[49m\u001b[43m,\u001b[49m\n\u001b[0;32m     54\u001b[0m \u001b[43m                 \u001b[49m\u001b[43mmax_tokens\u001b[49m\u001b[38;5;241;43m=\u001b[39;49m\u001b[43mmax_tokens\u001b[49m\u001b[43m,\u001b[49m\n\u001b[0;32m     55\u001b[0m \u001b[43m                 \u001b[49m\u001b[43mtemperature\u001b[49m\u001b[38;5;241;43m=\u001b[39;49m\u001b[43mtemperature\u001b[49m\u001b[43m)\u001b[49m[\u001b[38;5;124m\"\u001b[39m\u001b[38;5;124mchoices\u001b[39m\u001b[38;5;124m\"\u001b[39m][\u001b[38;5;241m0\u001b[39m][\u001b[38;5;124m\"\u001b[39m\u001b[38;5;124mtext\u001b[39m\u001b[38;5;124m\"\u001b[39m]\n\u001b[0;32m     57\u001b[0m \u001b[38;5;28mself\u001b[39m\u001b[38;5;241m.\u001b[39mhistory\u001b[38;5;241m.\u001b[39mappend((new_question, new_answer))\n\u001b[0;32m     58\u001b[0m \u001b[38;5;28;01mreturn\u001b[39;00m new_answer\n",
      "File \u001b[1;32m~\\AppData\\Local\\Programs\\Python\\Python311\\Lib\\site-packages\\llama_cpp\\llama.py:2006\u001b[0m, in \u001b[0;36mLlama.__call__\u001b[1;34m(self, prompt, suffix, max_tokens, temperature, top_p, min_p, typical_p, logprobs, echo, stop, frequency_penalty, presence_penalty, repeat_penalty, top_k, stream, seed, tfs_z, mirostat_mode, mirostat_tau, mirostat_eta, model, stopping_criteria, logits_processor, grammar, logit_bias)\u001b[0m\n\u001b[0;32m   1942\u001b[0m \u001b[38;5;28;01mdef\u001b[39;00m \u001b[38;5;21m__call__\u001b[39m(\n\u001b[0;32m   1943\u001b[0m     \u001b[38;5;28mself\u001b[39m,\n\u001b[0;32m   1944\u001b[0m     prompt: \u001b[38;5;28mstr\u001b[39m,\n\u001b[1;32m   (...)\u001b[0m\n\u001b[0;32m   1968\u001b[0m     logit_bias: Optional[Dict[\u001b[38;5;28mstr\u001b[39m, \u001b[38;5;28mfloat\u001b[39m]] \u001b[38;5;241m=\u001b[39m \u001b[38;5;28;01mNone\u001b[39;00m,\n\u001b[0;32m   1969\u001b[0m ) \u001b[38;5;241m-\u001b[39m\u001b[38;5;241m>\u001b[39m Union[CreateCompletionResponse, Iterator[CreateCompletionStreamResponse]]:\n\u001b[0;32m   1970\u001b[0m \u001b[38;5;250m    \u001b[39m\u001b[38;5;124;03m\"\"\"Generate text from a prompt.\u001b[39;00m\n\u001b[0;32m   1971\u001b[0m \n\u001b[0;32m   1972\u001b[0m \u001b[38;5;124;03m    Args:\u001b[39;00m\n\u001b[1;32m   (...)\u001b[0m\n\u001b[0;32m   2004\u001b[0m \u001b[38;5;124;03m        Response object containing the generated text.\u001b[39;00m\n\u001b[0;32m   2005\u001b[0m \u001b[38;5;124;03m    \"\"\"\u001b[39;00m\n\u001b[1;32m-> 2006\u001b[0m     \u001b[38;5;28;01mreturn\u001b[39;00m \u001b[38;5;28;43mself\u001b[39;49m\u001b[38;5;241;43m.\u001b[39;49m\u001b[43mcreate_completion\u001b[49m\u001b[43m(\u001b[49m\n\u001b[0;32m   2007\u001b[0m \u001b[43m        \u001b[49m\u001b[43mprompt\u001b[49m\u001b[38;5;241;43m=\u001b[39;49m\u001b[43mprompt\u001b[49m\u001b[43m,\u001b[49m\n\u001b[0;32m   2008\u001b[0m \u001b[43m        \u001b[49m\u001b[43msuffix\u001b[49m\u001b[38;5;241;43m=\u001b[39;49m\u001b[43msuffix\u001b[49m\u001b[43m,\u001b[49m\n\u001b[0;32m   2009\u001b[0m \u001b[43m        \u001b[49m\u001b[43mmax_tokens\u001b[49m\u001b[38;5;241;43m=\u001b[39;49m\u001b[43mmax_tokens\u001b[49m\u001b[43m,\u001b[49m\n\u001b[0;32m   2010\u001b[0m \u001b[43m        \u001b[49m\u001b[43mtemperature\u001b[49m\u001b[38;5;241;43m=\u001b[39;49m\u001b[43mtemperature\u001b[49m\u001b[43m,\u001b[49m\n\u001b[0;32m   2011\u001b[0m \u001b[43m        \u001b[49m\u001b[43mtop_p\u001b[49m\u001b[38;5;241;43m=\u001b[39;49m\u001b[43mtop_p\u001b[49m\u001b[43m,\u001b[49m\n\u001b[0;32m   2012\u001b[0m \u001b[43m        \u001b[49m\u001b[43mmin_p\u001b[49m\u001b[38;5;241;43m=\u001b[39;49m\u001b[43mmin_p\u001b[49m\u001b[43m,\u001b[49m\n\u001b[0;32m   2013\u001b[0m \u001b[43m        \u001b[49m\u001b[43mtypical_p\u001b[49m\u001b[38;5;241;43m=\u001b[39;49m\u001b[43mtypical_p\u001b[49m\u001b[43m,\u001b[49m\n\u001b[0;32m   2014\u001b[0m \u001b[43m        \u001b[49m\u001b[43mlogprobs\u001b[49m\u001b[38;5;241;43m=\u001b[39;49m\u001b[43mlogprobs\u001b[49m\u001b[43m,\u001b[49m\n\u001b[0;32m   2015\u001b[0m \u001b[43m        \u001b[49m\u001b[43mecho\u001b[49m\u001b[38;5;241;43m=\u001b[39;49m\u001b[43mecho\u001b[49m\u001b[43m,\u001b[49m\n\u001b[0;32m   2016\u001b[0m \u001b[43m        \u001b[49m\u001b[43mstop\u001b[49m\u001b[38;5;241;43m=\u001b[39;49m\u001b[43mstop\u001b[49m\u001b[43m,\u001b[49m\n\u001b[0;32m   2017\u001b[0m \u001b[43m        \u001b[49m\u001b[43mfrequency_penalty\u001b[49m\u001b[38;5;241;43m=\u001b[39;49m\u001b[43mfrequency_penalty\u001b[49m\u001b[43m,\u001b[49m\n\u001b[0;32m   2018\u001b[0m \u001b[43m        \u001b[49m\u001b[43mpresence_penalty\u001b[49m\u001b[38;5;241;43m=\u001b[39;49m\u001b[43mpresence_penalty\u001b[49m\u001b[43m,\u001b[49m\n\u001b[0;32m   2019\u001b[0m \u001b[43m        \u001b[49m\u001b[43mrepeat_penalty\u001b[49m\u001b[38;5;241;43m=\u001b[39;49m\u001b[43mrepeat_penalty\u001b[49m\u001b[43m,\u001b[49m\n\u001b[0;32m   2020\u001b[0m \u001b[43m        \u001b[49m\u001b[43mtop_k\u001b[49m\u001b[38;5;241;43m=\u001b[39;49m\u001b[43mtop_k\u001b[49m\u001b[43m,\u001b[49m\n\u001b[0;32m   2021\u001b[0m \u001b[43m        \u001b[49m\u001b[43mstream\u001b[49m\u001b[38;5;241;43m=\u001b[39;49m\u001b[43mstream\u001b[49m\u001b[43m,\u001b[49m\n\u001b[0;32m   2022\u001b[0m \u001b[43m        \u001b[49m\u001b[43mseed\u001b[49m\u001b[38;5;241;43m=\u001b[39;49m\u001b[43mseed\u001b[49m\u001b[43m,\u001b[49m\n\u001b[0;32m   2023\u001b[0m \u001b[43m        \u001b[49m\u001b[43mtfs_z\u001b[49m\u001b[38;5;241;43m=\u001b[39;49m\u001b[43mtfs_z\u001b[49m\u001b[43m,\u001b[49m\n\u001b[0;32m   2024\u001b[0m \u001b[43m        \u001b[49m\u001b[43mmirostat_mode\u001b[49m\u001b[38;5;241;43m=\u001b[39;49m\u001b[43mmirostat_mode\u001b[49m\u001b[43m,\u001b[49m\n\u001b[0;32m   2025\u001b[0m \u001b[43m        \u001b[49m\u001b[43mmirostat_tau\u001b[49m\u001b[38;5;241;43m=\u001b[39;49m\u001b[43mmirostat_tau\u001b[49m\u001b[43m,\u001b[49m\n\u001b[0;32m   2026\u001b[0m \u001b[43m        \u001b[49m\u001b[43mmirostat_eta\u001b[49m\u001b[38;5;241;43m=\u001b[39;49m\u001b[43mmirostat_eta\u001b[49m\u001b[43m,\u001b[49m\n\u001b[0;32m   2027\u001b[0m \u001b[43m        \u001b[49m\u001b[43mmodel\u001b[49m\u001b[38;5;241;43m=\u001b[39;49m\u001b[43mmodel\u001b[49m\u001b[43m,\u001b[49m\n\u001b[0;32m   2028\u001b[0m \u001b[43m        \u001b[49m\u001b[43mstopping_criteria\u001b[49m\u001b[38;5;241;43m=\u001b[39;49m\u001b[43mstopping_criteria\u001b[49m\u001b[43m,\u001b[49m\n\u001b[0;32m   2029\u001b[0m \u001b[43m        \u001b[49m\u001b[43mlogits_processor\u001b[49m\u001b[38;5;241;43m=\u001b[39;49m\u001b[43mlogits_processor\u001b[49m\u001b[43m,\u001b[49m\n\u001b[0;32m   2030\u001b[0m \u001b[43m        \u001b[49m\u001b[43mgrammar\u001b[49m\u001b[38;5;241;43m=\u001b[39;49m\u001b[43mgrammar\u001b[49m\u001b[43m,\u001b[49m\n\u001b[0;32m   2031\u001b[0m \u001b[43m        \u001b[49m\u001b[43mlogit_bias\u001b[49m\u001b[38;5;241;43m=\u001b[39;49m\u001b[43mlogit_bias\u001b[49m\u001b[43m,\u001b[49m\n\u001b[0;32m   2032\u001b[0m \u001b[43m    \u001b[49m\u001b[43m)\u001b[49m\n",
      "File \u001b[1;32m~\\AppData\\Local\\Programs\\Python\\Python311\\Lib\\site-packages\\llama_cpp\\llama.py:1939\u001b[0m, in \u001b[0;36mLlama.create_completion\u001b[1;34m(self, prompt, suffix, max_tokens, temperature, top_p, min_p, typical_p, logprobs, echo, stop, frequency_penalty, presence_penalty, repeat_penalty, top_k, stream, seed, tfs_z, mirostat_mode, mirostat_tau, mirostat_eta, model, stopping_criteria, logits_processor, grammar, logit_bias)\u001b[0m\n\u001b[0;32m   1937\u001b[0m     chunks: Iterator[CreateCompletionStreamResponse] \u001b[38;5;241m=\u001b[39m completion_or_chunks\n\u001b[0;32m   1938\u001b[0m     \u001b[38;5;28;01mreturn\u001b[39;00m chunks\n\u001b[1;32m-> 1939\u001b[0m completion: Completion \u001b[38;5;241m=\u001b[39m \u001b[38;5;28;43mnext\u001b[39;49m\u001b[43m(\u001b[49m\u001b[43mcompletion_or_chunks\u001b[49m\u001b[43m)\u001b[49m  \u001b[38;5;66;03m# type: ignore\u001b[39;00m\n\u001b[0;32m   1940\u001b[0m \u001b[38;5;28;01mreturn\u001b[39;00m completion\n",
      "File \u001b[1;32m~\\AppData\\Local\\Programs\\Python\\Python311\\Lib\\site-packages\\llama_cpp\\llama.py:1473\u001b[0m, in \u001b[0;36mLlama._create_completion\u001b[1;34m(self, prompt, suffix, max_tokens, temperature, top_p, min_p, typical_p, logprobs, echo, stop, frequency_penalty, presence_penalty, repeat_penalty, top_k, stream, seed, tfs_z, mirostat_mode, mirostat_tau, mirostat_eta, model, stopping_criteria, logits_processor, grammar, logit_bias)\u001b[0m\n\u001b[0;32m   1471\u001b[0m finish_reason \u001b[38;5;241m=\u001b[39m \u001b[38;5;124m\"\u001b[39m\u001b[38;5;124mlength\u001b[39m\u001b[38;5;124m\"\u001b[39m\n\u001b[0;32m   1472\u001b[0m multibyte_fix \u001b[38;5;241m=\u001b[39m \u001b[38;5;241m0\u001b[39m\n\u001b[1;32m-> 1473\u001b[0m \u001b[38;5;28;01mfor\u001b[39;00m token \u001b[38;5;129;01min\u001b[39;00m \u001b[38;5;28mself\u001b[39m\u001b[38;5;241m.\u001b[39mgenerate(\n\u001b[0;32m   1474\u001b[0m     prompt_tokens,\n\u001b[0;32m   1475\u001b[0m     top_k\u001b[38;5;241m=\u001b[39mtop_k,\n\u001b[0;32m   1476\u001b[0m     top_p\u001b[38;5;241m=\u001b[39mtop_p,\n\u001b[0;32m   1477\u001b[0m     min_p\u001b[38;5;241m=\u001b[39mmin_p,\n\u001b[0;32m   1478\u001b[0m     typical_p\u001b[38;5;241m=\u001b[39mtypical_p,\n\u001b[0;32m   1479\u001b[0m     temp\u001b[38;5;241m=\u001b[39mtemperature,\n\u001b[0;32m   1480\u001b[0m     tfs_z\u001b[38;5;241m=\u001b[39mtfs_z,\n\u001b[0;32m   1481\u001b[0m     mirostat_mode\u001b[38;5;241m=\u001b[39mmirostat_mode,\n\u001b[0;32m   1482\u001b[0m     mirostat_tau\u001b[38;5;241m=\u001b[39mmirostat_tau,\n\u001b[0;32m   1483\u001b[0m     mirostat_eta\u001b[38;5;241m=\u001b[39mmirostat_eta,\n\u001b[0;32m   1484\u001b[0m     frequency_penalty\u001b[38;5;241m=\u001b[39mfrequency_penalty,\n\u001b[0;32m   1485\u001b[0m     presence_penalty\u001b[38;5;241m=\u001b[39mpresence_penalty,\n\u001b[0;32m   1486\u001b[0m     repeat_penalty\u001b[38;5;241m=\u001b[39mrepeat_penalty,\n\u001b[0;32m   1487\u001b[0m     stopping_criteria\u001b[38;5;241m=\u001b[39mstopping_criteria,\n\u001b[0;32m   1488\u001b[0m     logits_processor\u001b[38;5;241m=\u001b[39mlogits_processor,\n\u001b[0;32m   1489\u001b[0m     grammar\u001b[38;5;241m=\u001b[39mgrammar,\n\u001b[0;32m   1490\u001b[0m ):\n\u001b[0;32m   1491\u001b[0m     \u001b[38;5;28;01mif\u001b[39;00m token \u001b[38;5;241m==\u001b[39m \u001b[38;5;28mself\u001b[39m\u001b[38;5;241m.\u001b[39m_token_eos:\n\u001b[0;32m   1492\u001b[0m         text \u001b[38;5;241m=\u001b[39m \u001b[38;5;28mself\u001b[39m\u001b[38;5;241m.\u001b[39mdetokenize(completion_tokens)\n",
      "File \u001b[1;32m~\\AppData\\Local\\Programs\\Python\\Python311\\Lib\\site-packages\\llama_cpp\\llama.py:1248\u001b[0m, in \u001b[0;36mLlama.generate\u001b[1;34m(self, tokens, top_k, top_p, min_p, typical_p, temp, repeat_penalty, reset, frequency_penalty, presence_penalty, tfs_z, mirostat_mode, mirostat_tau, mirostat_eta, logits_processor, stopping_criteria, grammar)\u001b[0m\n\u001b[0;32m   1245\u001b[0m     grammar\u001b[38;5;241m.\u001b[39mreset()\n\u001b[0;32m   1247\u001b[0m \u001b[38;5;28;01mwhile\u001b[39;00m \u001b[38;5;28;01mTrue\u001b[39;00m:\n\u001b[1;32m-> 1248\u001b[0m     \u001b[38;5;28;43mself\u001b[39;49m\u001b[38;5;241;43m.\u001b[39;49m\u001b[43meval\u001b[49m\u001b[43m(\u001b[49m\u001b[43mtokens\u001b[49m\u001b[43m)\u001b[49m\n\u001b[0;32m   1249\u001b[0m     token \u001b[38;5;241m=\u001b[39m \u001b[38;5;28mself\u001b[39m\u001b[38;5;241m.\u001b[39msample(\n\u001b[0;32m   1250\u001b[0m         top_k\u001b[38;5;241m=\u001b[39mtop_k,\n\u001b[0;32m   1251\u001b[0m         top_p\u001b[38;5;241m=\u001b[39mtop_p,\n\u001b[1;32m   (...)\u001b[0m\n\u001b[0;32m   1263\u001b[0m         grammar\u001b[38;5;241m=\u001b[39mgrammar,\n\u001b[0;32m   1264\u001b[0m     )\n\u001b[0;32m   1265\u001b[0m     \u001b[38;5;28;01mif\u001b[39;00m stopping_criteria \u001b[38;5;129;01mis\u001b[39;00m \u001b[38;5;129;01mnot\u001b[39;00m \u001b[38;5;28;01mNone\u001b[39;00m \u001b[38;5;129;01mand\u001b[39;00m stopping_criteria(\n\u001b[0;32m   1266\u001b[0m         \u001b[38;5;28mself\u001b[39m\u001b[38;5;241m.\u001b[39m_input_ids, \u001b[38;5;28mself\u001b[39m\u001b[38;5;241m.\u001b[39m_scores[\u001b[38;5;241m-\u001b[39m\u001b[38;5;241m1\u001b[39m, :]\n\u001b[0;32m   1267\u001b[0m     ):\n",
      "File \u001b[1;32m~\\AppData\\Local\\Programs\\Python\\Python311\\Lib\\site-packages\\llama_cpp\\llama.py:1069\u001b[0m, in \u001b[0;36mLlama.eval\u001b[1;34m(self, tokens)\u001b[0m\n\u001b[0;32m   1065\u001b[0m n_tokens \u001b[38;5;241m=\u001b[39m \u001b[38;5;28mlen\u001b[39m(batch)\n\u001b[0;32m   1066\u001b[0m \u001b[38;5;28mself\u001b[39m\u001b[38;5;241m.\u001b[39m_batch\u001b[38;5;241m.\u001b[39mset_batch(\n\u001b[0;32m   1067\u001b[0m     batch\u001b[38;5;241m=\u001b[39mbatch, n_past\u001b[38;5;241m=\u001b[39mn_past, logits_all\u001b[38;5;241m=\u001b[39m\u001b[38;5;28mself\u001b[39m\u001b[38;5;241m.\u001b[39mcontext_params\u001b[38;5;241m.\u001b[39mlogits_all\n\u001b[0;32m   1068\u001b[0m )\n\u001b[1;32m-> 1069\u001b[0m \u001b[38;5;28;43mself\u001b[39;49m\u001b[38;5;241;43m.\u001b[39;49m\u001b[43m_ctx\u001b[49m\u001b[38;5;241;43m.\u001b[39;49m\u001b[43mdecode\u001b[49m\u001b[43m(\u001b[49m\u001b[38;5;28;43mself\u001b[39;49m\u001b[38;5;241;43m.\u001b[39;49m\u001b[43m_batch\u001b[49m\u001b[43m)\u001b[49m\n\u001b[0;32m   1070\u001b[0m \u001b[38;5;66;03m# Save tokens\u001b[39;00m\n\u001b[0;32m   1071\u001b[0m \u001b[38;5;28mself\u001b[39m\u001b[38;5;241m.\u001b[39minput_ids[n_past : n_past \u001b[38;5;241m+\u001b[39m n_tokens] \u001b[38;5;241m=\u001b[39m batch\n",
      "File \u001b[1;32m~\\AppData\\Local\\Programs\\Python\\Python311\\Lib\\site-packages\\llama_cpp\\llama.py:469\u001b[0m, in \u001b[0;36m_LlamaContext.decode\u001b[1;34m(self, batch)\u001b[0m\n\u001b[0;32m    467\u001b[0m \u001b[38;5;28;01massert\u001b[39;00m \u001b[38;5;28mself\u001b[39m\u001b[38;5;241m.\u001b[39mctx \u001b[38;5;129;01mis\u001b[39;00m \u001b[38;5;129;01mnot\u001b[39;00m \u001b[38;5;28;01mNone\u001b[39;00m\n\u001b[0;32m    468\u001b[0m \u001b[38;5;28;01massert\u001b[39;00m batch\u001b[38;5;241m.\u001b[39mbatch \u001b[38;5;129;01mis\u001b[39;00m \u001b[38;5;129;01mnot\u001b[39;00m \u001b[38;5;28;01mNone\u001b[39;00m\n\u001b[1;32m--> 469\u001b[0m return_code \u001b[38;5;241m=\u001b[39m \u001b[43mllama_cpp\u001b[49m\u001b[38;5;241;43m.\u001b[39;49m\u001b[43mllama_decode\u001b[49m\u001b[43m(\u001b[49m\n\u001b[0;32m    470\u001b[0m \u001b[43m    \u001b[49m\u001b[43mctx\u001b[49m\u001b[38;5;241;43m=\u001b[39;49m\u001b[38;5;28;43mself\u001b[39;49m\u001b[38;5;241;43m.\u001b[39;49m\u001b[43mctx\u001b[49m\u001b[43m,\u001b[49m\n\u001b[0;32m    471\u001b[0m \u001b[43m    \u001b[49m\u001b[43mbatch\u001b[49m\u001b[38;5;241;43m=\u001b[39;49m\u001b[43mbatch\u001b[49m\u001b[38;5;241;43m.\u001b[39;49m\u001b[43mbatch\u001b[49m\u001b[43m,\u001b[49m\n\u001b[0;32m    472\u001b[0m \u001b[43m\u001b[49m\u001b[43m)\u001b[49m\n\u001b[0;32m    473\u001b[0m \u001b[38;5;28;01mif\u001b[39;00m return_code \u001b[38;5;241m!=\u001b[39m \u001b[38;5;241m0\u001b[39m:\n\u001b[0;32m    474\u001b[0m     \u001b[38;5;28;01mraise\u001b[39;00m \u001b[38;5;167;01mRuntimeError\u001b[39;00m(\u001b[38;5;124mf\u001b[39m\u001b[38;5;124m\"\u001b[39m\u001b[38;5;124mllama_decode returned \u001b[39m\u001b[38;5;132;01m{\u001b[39;00mreturn_code\u001b[38;5;132;01m}\u001b[39;00m\u001b[38;5;124m\"\u001b[39m)\n",
      "File \u001b[1;32m~\\AppData\\Local\\Programs\\Python\\Python311\\Lib\\site-packages\\llama_cpp\\llama_cpp.py:1475\u001b[0m, in \u001b[0;36mllama_decode\u001b[1;34m(ctx, batch)\u001b[0m\n\u001b[0;32m   1470\u001b[0m \u001b[38;5;28;01mdef\u001b[39;00m \u001b[38;5;21mllama_decode\u001b[39m(ctx: llama_context_p, batch: llama_batch) \u001b[38;5;241m-\u001b[39m\u001b[38;5;241m>\u001b[39m \u001b[38;5;28mint\u001b[39m:\n\u001b[0;32m   1471\u001b[0m \u001b[38;5;250m    \u001b[39m\u001b[38;5;124;03m\"\"\"Positive return values does not mean a fatal error, but rather a warning.\u001b[39;00m\n\u001b[0;32m   1472\u001b[0m \u001b[38;5;124;03m    0 - success\u001b[39;00m\n\u001b[0;32m   1473\u001b[0m \u001b[38;5;124;03m    1 - could not find a KV slot for the batch (try reducing the size of the batch or increase the context)\u001b[39;00m\n\u001b[0;32m   1474\u001b[0m \u001b[38;5;124;03m    < 0 - error\"\"\"\u001b[39;00m\n\u001b[1;32m-> 1475\u001b[0m     \u001b[38;5;28;01mreturn\u001b[39;00m \u001b[43m_lib\u001b[49m\u001b[38;5;241;43m.\u001b[39;49m\u001b[43mllama_decode\u001b[49m\u001b[43m(\u001b[49m\u001b[43mctx\u001b[49m\u001b[43m,\u001b[49m\u001b[43m \u001b[49m\u001b[43mbatch\u001b[49m\u001b[43m)\u001b[49m\n",
      "\u001b[1;31mKeyboardInterrupt\u001b[0m: "
     ]
    }
   ],
   "source": [
    "#### DO NOT RUN AGAIN --> LOAD FILE FROM PICKLE BELOW IF KERNEL RESTARTED ####\n",
    "\n",
    "mistral4_results = simulate_game(True, \"mistral4\", story_system, tutorial_system)"
   ]
  },
  {
   "cell_type": "markdown",
   "id": "bc2703d9",
   "metadata": {},
   "source": [
    "#### Storing Results using Pickle"
   ]
  },
  {
   "cell_type": "code",
   "execution_count": null,
   "id": "4d80d105",
   "metadata": {},
   "outputs": [],
   "source": [
    "# All the pickles storing tinyllama v1 related results:\n",
    "\n",
    "mistral4_path = './evaluation_results/mistral4_convo.pkl'\n",
    "mistral4_eval_path = './evaluation_results/mistral4_eval.pkl'"
   ]
  },
  {
   "cell_type": "code",
   "execution_count": null,
   "id": "8df82f37",
   "metadata": {},
   "outputs": [],
   "source": [
    "#### DO NOT RUN AGAIN --> LOAD FILE FROM PICKLE BELOW IF KERNEL RESTARTED ####\n",
    "\n",
    "with open(mistral4_path, 'wb') as file:\n",
    "    pickle.dump(mistral4_results[1], file)\n",
    "\n",
    "print(f'mistral4 conversation has been written to {mistral4_path}')"
   ]
  },
  {
   "cell_type": "markdown",
   "id": "fca108cb",
   "metadata": {},
   "source": [
    "#### Getting Results from Pickle"
   ]
  },
  {
   "cell_type": "code",
   "execution_count": null,
   "id": "91312ded",
   "metadata": {},
   "outputs": [],
   "source": [
    "# Load the conversation\n",
    "with open(mistral4_path, 'rb') as file:\n",
    "    mistral4_convo = pickle.load(file)"
   ]
  },
  {
   "cell_type": "markdown",
   "id": "933db282",
   "metadata": {},
   "source": [
    "#### Quality of Answer Evaluation"
   ]
  },
  {
   "cell_type": "code",
   "execution_count": null,
   "id": "ba2348bc",
   "metadata": {},
   "outputs": [],
   "source": [
    "#### DO NOT RUN AGAIN --> LOAD FILE FROM PICKLE BELOW IF KERNEL RESTARTED ####\n",
    "\n",
    "mistral4_df = pd.DataFrame(columns = ['Game Section', 'Answer Relevance', 'QA Reason', 'Groundedness', 'Groundedness Reason'])\n",
    "for convo in mistral4_convo:\n",
    "    qa = f_qa_relevance(convo[1], convo[2])\n",
    "    if not qa:\n",
    "        qa_score, qa_reason = 0, {'reason': \"No answer relevance at all\"}\n",
    "    elif type(qa) == float:\n",
    "            qa_score, qa_reason = qa, {'reason': \"None\"}\n",
    "    else:\n",
    "        qa_score, qa_reason = qa\n",
    "    ground_multiscore, ground_reason = f_groundedness(convo[1], convo[2])\n",
    "    ground_multiscore = ground_multiscore.values()\n",
    "    if len(ground_multiscore) != 0:\n",
    "        ground_score = sum(ground_multiscore)/len(ground_multiscore)\n",
    "    else:\n",
    "        ground_score = None\n",
    "    mistral4_df.loc[len(mistral4_df)] = [convo[0], qa_score, qa_reason['reason'], ground_score, ground_reason['reason']]"
   ]
  },
  {
   "cell_type": "code",
   "execution_count": null,
   "id": "f0d30df0",
   "metadata": {},
   "outputs": [],
   "source": [
    "mistral4_df"
   ]
  },
  {
   "cell_type": "markdown",
   "id": "a65b6a9b",
   "metadata": {},
   "source": [
    "#### Aggregate Answer Relevance and Groundedness for Future Comparisons"
   ]
  },
  {
   "cell_type": "code",
   "execution_count": null,
   "id": "45347c15",
   "metadata": {},
   "outputs": [],
   "source": [
    "#### DO NOT RUN AGAIN --> LOAD FILE FROM PICKLE BELOW IF KERNEL RESTARTED ####\n",
    "\n",
    "compare_df.loc[7] = [\"Misral 7b 4-bit\",\n",
    "                     sum(mistral4_df['Answer Relevance']) / len(mistral4_df['Answer Relevance']),\n",
    "                     sum(mistral4_df['Groundedness']) / len(mistral4_df['Groundedness']),\n",
    "                     mistral4_results[0]\n",
    "                    ]\n",
    "\n",
    "compare_df"
   ]
  },
  {
   "cell_type": "markdown",
   "id": "1a0e86f4",
   "metadata": {},
   "source": [
    "#### Store Evaluation Results"
   ]
  },
  {
   "cell_type": "code",
   "execution_count": null,
   "id": "757430b8",
   "metadata": {},
   "outputs": [],
   "source": [
    "#### DO NOT RUN AGAIN --> LOAD FILE FROM PICKLE BELOW IF KERNEL RESTARTED ####\n",
    "\n",
    "with open(mistral4_eval_path, 'wb') as file:\n",
    "    pickle.dump(mistral4_df, file)\n",
    "\n",
    "print(f'mistral4 Quality Evaluation DF has been written to {mistral4_eval_path}')\n",
    "\n",
    "with open(compare_path, 'wb') as file:\n",
    "    pickle.dump(compare_df, file)\n",
    "\n",
    "print(f'compare_df has been written to {compare_path}')"
   ]
  },
  {
   "cell_type": "markdown",
   "id": "6345a2dc",
   "metadata": {},
   "source": [
    "#### Retrieve TinyLlama Openorca Convo Results and Overall Comparison DF"
   ]
  },
  {
   "cell_type": "code",
   "execution_count": null,
   "id": "602c0ac3",
   "metadata": {},
   "outputs": [],
   "source": [
    "with open(mistral4_eval_path, 'rb') as file:\n",
    "    mistral4_df = pickle.load(file)\n",
    "    \n",
    "with open(compare_path, 'rb') as file:\n",
    "    compare_df = pickle.load(file)"
   ]
  },
  {
   "cell_type": "markdown",
   "id": "f24c38d9",
   "metadata": {},
   "source": [
    "-----\n",
    "\n",
    "-----\n",
    "\n",
    "-----\n",
    "### Evaluate Mistral 7b v0.1 Q5_K_M"
   ]
  },
  {
   "cell_type": "code",
   "execution_count": null,
   "id": "bf73e27a",
   "metadata": {},
   "outputs": [],
   "source": [
    "#### DO NOT RUN AGAIN --> LOAD FILE FROM PICKLE BELOW IF KERNEL RESTARTED ####\n",
    "\n",
    "mistral5_results = simulate_game(True, \"mistral5\", story_system, tutorial_system)"
   ]
  },
  {
   "cell_type": "markdown",
   "id": "b743cd16",
   "metadata": {},
   "source": [
    "#### Storing Results using Pickle"
   ]
  },
  {
   "cell_type": "code",
   "execution_count": null,
   "id": "6d614a53",
   "metadata": {},
   "outputs": [],
   "source": [
    "# All the pickles storing tinyllama v1 related results:\n",
    "\n",
    "phi2_path = './evaluation_results/phi2_convo.pkl'\n",
    "phi2_eval_path = './evaluation_results/phi2_eval.pkl'"
   ]
  },
  {
   "cell_type": "code",
   "execution_count": null,
   "id": "3ae70ce3",
   "metadata": {},
   "outputs": [],
   "source": [
    "#### DO NOT RUN AGAIN --> LOAD FILE FROM PICKLE BELOW IF KERNEL RESTARTED ####\n",
    "\n",
    "with open(phi2_path, 'wb') as file:\n",
    "    pickle.dump(phi2_results[1], file)\n",
    "\n",
    "print(f'phi2 conversation has been written to {phi2_path}')"
   ]
  },
  {
   "cell_type": "markdown",
   "id": "9d3c1feb",
   "metadata": {},
   "source": [
    "#### Getting Results from Pickle"
   ]
  },
  {
   "cell_type": "code",
   "execution_count": null,
   "id": "1a0e9cc8",
   "metadata": {},
   "outputs": [],
   "source": [
    "# Load the conversation\n",
    "with open(phi2_path, 'rb') as file:\n",
    "    phi2_convo = pickle.load(file)"
   ]
  },
  {
   "cell_type": "markdown",
   "id": "bb410da1",
   "metadata": {},
   "source": [
    "#### Quality of Answer Evaluation"
   ]
  },
  {
   "cell_type": "code",
   "execution_count": null,
   "id": "823db97e",
   "metadata": {},
   "outputs": [],
   "source": [
    "#### DO NOT RUN AGAIN --> LOAD FILE FROM PICKLE BELOW IF KERNEL RESTARTED ####\n",
    "\n",
    "phi2_df = pd.DataFrame(columns = ['Game Section', 'Answer Relevance', 'QA Reason', 'Groundedness', 'Groundedness Reason'])\n",
    "for convo in phi2_convo:\n",
    "    qa = f_qa_relevance(convo[1], convo[2])\n",
    "    if not qa:\n",
    "        qa_score, qa_reason = 0, {'reason': \"No answer relevance at all\"}\n",
    "    elif type(qa) == float:\n",
    "            qa_score, qa_reason = qa, {'reason': \"None\"}\n",
    "    else:\n",
    "        qa_score, qa_reason = qa\n",
    "    ground_multiscore, ground_reason = f_groundedness(convo[1], convo[2])\n",
    "    ground_multiscore = ground_multiscore.values()\n",
    "    if len(ground_multiscore) != 0:\n",
    "        ground_score = sum(ground_multiscore)/len(ground_multiscore)\n",
    "    else:\n",
    "        ground_score = None\n",
    "    phi2_df.loc[len(phi2_df)] = [convo[0], qa_score, qa_reason['reason'], ground_score, ground_reason['reason']]"
   ]
  },
  {
   "cell_type": "code",
   "execution_count": null,
   "id": "f33b18c2",
   "metadata": {},
   "outputs": [],
   "source": [
    "phi2_df"
   ]
  },
  {
   "cell_type": "markdown",
   "id": "752590a9",
   "metadata": {},
   "source": [
    "#### Aggregate Answer Relevance and Groundedness for Future Comparisons"
   ]
  },
  {
   "cell_type": "code",
   "execution_count": null,
   "id": "a4a29004",
   "metadata": {},
   "outputs": [],
   "source": [
    "#### DO NOT RUN AGAIN --> LOAD FILE FROM PICKLE BELOW IF KERNEL RESTARTED ####\n",
    "\n",
    "compare_df.loc[2] = [\"Phi-2 Openorca\",\n",
    "                     sum(phi2_df['Answer Relevance']) / len(phi2_df['Answer Relevance']),\n",
    "                     sum(phi2_df['Groundedness']) / len(phi2_df['Groundedness']),\n",
    "                     phi2_results[0]\n",
    "                    ]\n",
    "\n",
    "compare_df"
   ]
  },
  {
   "cell_type": "markdown",
   "id": "04ed4bc0",
   "metadata": {},
   "source": [
    "#### Store Evaluation Results"
   ]
  },
  {
   "cell_type": "code",
   "execution_count": null,
   "id": "15807f90",
   "metadata": {},
   "outputs": [],
   "source": [
    "#### DO NOT RUN AGAIN --> LOAD FILE FROM PICKLE BELOW IF KERNEL RESTARTED ####\n",
    "\n",
    "with open(phi2_eval_path, 'wb') as file:\n",
    "    pickle.dump(phi2_df, file)\n",
    "\n",
    "print(f'phi2 Quality Evaluation DF has been written to {phi2_eval_path}')\n",
    "\n",
    "with open(compare_path, 'wb') as file:\n",
    "    pickle.dump(compare_df, file)\n",
    "\n",
    "print(f'compare_df has been written to {compare_path}')"
   ]
  },
  {
   "cell_type": "markdown",
   "id": "9c947c6b",
   "metadata": {},
   "source": [
    "#### Retrieve TinyLlama Openorca Convo Results and Overall Comparison DF"
   ]
  },
  {
   "cell_type": "code",
   "execution_count": null,
   "id": "76da1ec3",
   "metadata": {},
   "outputs": [],
   "source": [
    "with open(phi2_eval_path, 'rb') as file:\n",
    "    phi2_df = pickle.load(file)\n",
    "    \n",
    "with open(compare_path, 'rb') as file:\n",
    "    compare_df = pickle.load(file)"
   ]
  }
 ],
 "metadata": {
  "kernelspec": {
   "display_name": "Python 3 (ipykernel)",
   "language": "python",
   "name": "python3"
  },
  "language_info": {
   "codemirror_mode": {
    "name": "ipython",
    "version": 3
   },
   "file_extension": ".py",
   "mimetype": "text/x-python",
   "name": "python",
   "nbconvert_exporter": "python",
   "pygments_lexer": "ipython3",
   "version": "3.11.1"
  }
 },
 "nbformat": 4,
 "nbformat_minor": 5
}
